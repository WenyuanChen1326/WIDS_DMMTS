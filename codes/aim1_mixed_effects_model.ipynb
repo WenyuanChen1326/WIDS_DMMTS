{
 "cells": [
  {
   "cell_type": "markdown",
   "id": "97c4c6c1-419f-4583-92e9-de31d7e94bb4",
   "metadata": {},
   "source": [
    "# Linear mixed-effects model"
   ]
  },
  {
   "cell_type": "markdown",
   "id": "75a7b1ba-6f5b-4387-a0dc-387f047a92ee",
   "metadata": {},
   "source": [
    "## Thodsawit Tiyarattanachai"
   ]
  },
  {
   "cell_type": "code",
   "execution_count": 8,
   "id": "ace43680-a791-4d77-81d1-a00cf483ccbd",
   "metadata": {},
   "outputs": [],
   "source": [
    "import statsmodels.api as sm\n",
    "import statsmodels.formula.api as smf\n",
    "import pandas as pd\n"
   ]
  },
  {
   "cell_type": "code",
   "execution_count": 9,
   "id": "8f45fdd9-e700-42c0-83b4-0c6e8afeb5ea",
   "metadata": {},
   "outputs": [],
   "source": [
    "dataset_path = '../Data/train_test_added_climate_data.csv'"
   ]
  },
  {
   "cell_type": "code",
   "execution_count": 10,
   "id": "ef117959-af90-4059-b3ab-b1fd5b93bb0b",
   "metadata": {},
   "outputs": [
    {
     "name": "stdout",
     "output_type": "stream",
     "text": [
      "(39519, 92)\n"
     ]
    }
   ],
   "source": [
    "df = pd.read_csv(dataset_path)\n",
    "print(df.shape)"
   ]
  },
  {
   "cell_type": "code",
   "execution_count": 11,
   "id": "23846f23-f526-46a0-8e39-d237973ef9df",
   "metadata": {},
   "outputs": [
    {
     "data": {
      "text/plain": [
       "Index(['patient_id', 'patient_race', 'payer_type', 'patient_state',\n",
       "       'patient_zip3', 'patient_age', 'patient_gender', 'bmi',\n",
       "       'breast_cancer_diagnosis_code', 'breast_cancer_diagnosis_desc',\n",
       "       'breast_cancer_diagnosis_year', 'metastatic_cancer_diagnosis_code',\n",
       "       'metastatic_first_treatment', 'metastatic_first_treatment_type',\n",
       "       'metastatic_first_novel_treatment',\n",
       "       'metastatic_first_novel_treatment_type', 'region', 'division',\n",
       "       'population', 'density', 'age_median', 'age_under_10', 'age_10_to_19',\n",
       "       'age_20s', 'age_30s', 'age_40s', 'age_50s', 'age_60s', 'age_70s',\n",
       "       'age_over_80', 'male', 'female', 'married', 'divorced', 'never_married',\n",
       "       'widowed', 'family_size', 'family_dual_income',\n",
       "       'income_household_median', 'income_household_under_5',\n",
       "       'income_household_5_to_10', 'income_household_10_to_15',\n",
       "       'income_household_15_to_20', 'income_household_20_to_25',\n",
       "       'income_household_25_to_35', 'income_household_35_to_50',\n",
       "       'income_household_50_to_75', 'income_household_75_to_100',\n",
       "       'income_household_100_to_150', 'income_household_150_over',\n",
       "       'income_household_six_figure', 'income_individual_median',\n",
       "       'home_ownership', 'housing_units', 'home_value', 'rent_median',\n",
       "       'rent_burden', 'education_less_highschool', 'education_highschool',\n",
       "       'education_some_college', 'education_bachelors', 'education_graduate',\n",
       "       'education_college_or_above', 'education_stem_degree',\n",
       "       'labor_force_participation', 'unemployment_rate', 'self_employed',\n",
       "       'farmer', 'race_white', 'race_black', 'race_asian', 'race_native',\n",
       "       'race_pacific', 'race_other', 'race_multiple', 'hispanic', 'disabled',\n",
       "       'poverty', 'limited_english', 'commute_time', 'health_uninsured',\n",
       "       'veteran', 'treatment_pd', 'allocated_set', 'side', 'quadrant',\n",
       "       'metastatic_organ', 'cleaned_metastatic_first_treatment',\n",
       "       'cleaned_metastatic_first_treatment_type', 'Ozone', 'PM25', 'N02'],\n",
       "      dtype='object')"
      ]
     },
     "execution_count": 11,
     "metadata": {},
     "output_type": "execute_result"
    }
   ],
   "source": [
    "df.columns"
   ]
  },
  {
   "cell_type": "code",
   "execution_count": 12,
   "id": "75564edf-0f38-4bfa-9003-a6e101ac5bdb",
   "metadata": {},
   "outputs": [],
   "source": [
    "feature_cols = [col for col in df.columns if col not in ['patient_id',\n",
    "                                                         'patient_zip3',\n",
    "                                                        'allocated_set',\n",
    "                                                        'treatment_pd']]\n"
   ]
  },
  {
   "cell_type": "code",
   "execution_count": 13,
   "id": "9101fdc8-ffc9-4359-8b7e-173e246c5022",
   "metadata": {},
   "outputs": [
    {
     "name": "stdout",
     "output_type": "stream",
     "text": [
      "(27674, 92)\n"
     ]
    }
   ],
   "source": [
    "df = df.loc[(df['allocated_set']=='train')&(df['patient_zip3'].notna())]\n",
    "df = df.reset_index(drop=True)\n",
    "print(df.shape)"
   ]
  },
  {
   "cell_type": "markdown",
   "id": "906d3de8-a20c-48f3-a41d-e7e20af700c9",
   "metadata": {},
   "source": [
    "# Univariable analysis"
   ]
  },
  {
   "cell_type": "code",
   "execution_count": 74,
   "id": "be5aa0d5-b7e5-4ef9-bc94-39e9d25cc969",
   "metadata": {
    "collapsed": true,
    "jupyter": {
     "outputs_hidden": true
    }
   },
   "outputs": [
    {
     "name": "stdout",
     "output_type": "stream",
     "text": [
      "patient_race\n",
      "                Mixed Linear Model Regression Results\n",
      "======================================================================\n",
      "Model:                MixedLM     Dependent Variable:     treatment_pd\n",
      "No. Observations:     12522       Method:                 REML        \n",
      "No. Groups:           771         Scale:                  31521.9441  \n",
      "Min. group size:      1           Log-Likelihood:         -82636.2599 \n",
      "Max. group size:      193         Converged:              Yes         \n",
      "Mean group size:      16.2                                            \n",
      "----------------------------------------------------------------------\n",
      "                          Coef.  Std.Err.   z    P>|z|  [0.025  0.975]\n",
      "----------------------------------------------------------------------\n",
      "Intercept                124.840    6.969 17.913 0.000 111.181 138.500\n",
      "patient_race[T.Black]     15.719    7.815  2.011 0.044   0.401  31.037\n",
      "patient_race[T.Hispanic]   1.946    8.124  0.240 0.811 -13.977  17.869\n",
      "patient_race[T.Other]      9.313    8.163  1.141 0.254  -6.687  25.313\n",
      "patient_race[T.White]      4.813    7.262  0.663 0.508  -9.421  19.047\n",
      "Group Var                158.804    0.441                             \n",
      "======================================================================\n",
      "\n",
      "payer_type\n"
     ]
    },
    {
     "name": "stderr",
     "output_type": "stream",
     "text": [
      "/Users/thodsawit/anaconda3/envs/bmi212-wids/lib/python3.11/site-packages/statsmodels/base/model.py:607: ConvergenceWarning: Maximum Likelihood optimization failed to converge. Check mle_retvals\n",
      "  warnings.warn(\"Maximum Likelihood optimization failed to \"\n",
      "/Users/thodsawit/anaconda3/envs/bmi212-wids/lib/python3.11/site-packages/statsmodels/regression/mixed_linear_model.py:2201: ConvergenceWarning: Retrying MixedLM optimization with lbfgs\n",
      "  warnings.warn(\n",
      "/Users/thodsawit/anaconda3/envs/bmi212-wids/lib/python3.11/site-packages/statsmodels/base/model.py:607: ConvergenceWarning: Maximum Likelihood optimization failed to converge. Check mle_retvals\n",
      "  warnings.warn(\"Maximum Likelihood optimization failed to \"\n",
      "/Users/thodsawit/anaconda3/envs/bmi212-wids/lib/python3.11/site-packages/statsmodels/regression/mixed_linear_model.py:2201: ConvergenceWarning: Retrying MixedLM optimization with cg\n",
      "  warnings.warn(\n",
      "/Users/thodsawit/anaconda3/envs/bmi212-wids/lib/python3.11/site-packages/statsmodels/base/model.py:607: ConvergenceWarning: Maximum Likelihood optimization failed to converge. Check mle_retvals\n",
      "  warnings.warn(\"Maximum Likelihood optimization failed to \"\n",
      "/Users/thodsawit/anaconda3/envs/bmi212-wids/lib/python3.11/site-packages/statsmodels/regression/mixed_linear_model.py:2207: ConvergenceWarning: MixedLM optimization failed, trying a different optimizer may help.\n",
      "  warnings.warn(msg, ConvergenceWarning)\n",
      "/Users/thodsawit/anaconda3/envs/bmi212-wids/lib/python3.11/site-packages/statsmodels/regression/mixed_linear_model.py:2219: ConvergenceWarning: Gradient optimization failed, |grad| = 476.279781\n",
      "  warnings.warn(msg, ConvergenceWarning)\n"
     ]
    },
    {
     "name": "stdout",
     "output_type": "stream",
     "text": [
      "                    Mixed Linear Model Regression Results\n",
      "==============================================================================\n",
      "Model:                    MixedLM       Dependent Variable:       treatment_pd\n",
      "No. Observations:         24838         Method:                   REML        \n",
      "No. Groups:               849           Scale:                    34518.2943  \n",
      "Min. group size:          1             Log-Likelihood:           -165127.9934\n",
      "Max. group size:          349           Converged:                No          \n",
      "Mean group size:          29.3                                                \n",
      "------------------------------------------------------------------------------\n",
      "                                  Coef.  Std.Err.   z    P>|z|  [0.025  0.975]\n",
      "------------------------------------------------------------------------------\n",
      "Intercept                        123.768    1.838 67.327 0.000 120.165 127.371\n",
      "payer_type[T.MEDICAID]            12.495    3.027  4.129 0.000   6.563  18.427\n",
      "payer_type[T.MEDICARE ADVANTAGE]  40.685    3.846 10.578 0.000  33.147  48.224\n",
      "Group Var                        479.807    0.869                             \n",
      "==============================================================================\n",
      "\n",
      "patient_state\n",
      "               Mixed Linear Model Regression Results\n",
      "====================================================================\n",
      "Model:                MixedLM    Dependent Variable:    treatment_pd\n",
      "No. Observations:     27595      Method:                REML        \n",
      "No. Groups:           849        Scale:                 35080.0004  \n",
      "Min. group size:      1          Log-Likelihood:        -183353.9194\n",
      "Max. group size:      385        Converged:             Yes         \n",
      "Mean group size:      32.5                                          \n",
      "--------------------------------------------------------------------\n",
      "                     Coef.   Std.Err.   z    P>|z|  [0.025   0.975] \n",
      "--------------------------------------------------------------------\n",
      "Intercept            332.851   66.313  5.019 0.000  202.880  462.821\n",
      "patient_state[T.AL] -213.500   69.298 -3.081 0.002 -349.322  -77.679\n",
      "patient_state[T.AR] -213.925   68.056 -3.143 0.002 -347.313  -80.537\n",
      "patient_state[T.AZ] -184.528   67.038 -2.753 0.006 -315.921  -53.136\n",
      "patient_state[T.CA] -188.603   66.383 -2.841 0.004 -318.712  -58.495\n",
      "patient_state[T.CO] -208.140   66.822 -3.115 0.002 -339.108  -77.171\n",
      "patient_state[T.CT] -203.876   67.111 -3.038 0.002 -335.412  -72.340\n",
      "patient_state[T.DC] -222.684   72.939 -3.053 0.002 -365.642  -79.727\n",
      "patient_state[T.DE] -219.855   70.851 -3.103 0.002 -358.721  -80.988\n",
      "patient_state[T.FL] -200.537   66.593 -3.011 0.003 -331.056  -70.018\n",
      "patient_state[T.GA] -206.259   66.526 -3.100 0.002 -336.648  -75.870\n",
      "patient_state[T.HI] -157.469   73.771 -2.135 0.033 -302.057  -12.880\n",
      "patient_state[T.IA] -197.780   68.086 -2.905 0.004 -331.226  -64.334\n",
      "patient_state[T.ID] -233.142   67.774 -3.440 0.001 -365.977 -100.307\n",
      "patient_state[T.IL] -195.005   66.480 -2.933 0.003 -325.303  -64.707\n",
      "patient_state[T.IN] -221.289   66.684 -3.318 0.001 -351.987  -90.590\n",
      "patient_state[T.KS] -237.523   68.410 -3.472 0.001 -371.605 -103.441\n",
      "patient_state[T.KY] -211.781   66.740 -3.173 0.002 -342.588  -80.973\n",
      "patient_state[T.LA] -202.451   67.264 -3.010 0.003 -334.287  -70.615\n",
      "patient_state[T.MA] -211.491   68.426 -3.091 0.002 -345.604  -77.377\n",
      "patient_state[T.MD] -190.684   67.837 -2.811 0.005 -323.641  -57.726\n",
      "patient_state[T.ME] -224.516   68.618 -3.272 0.001 -359.004  -90.027\n",
      "patient_state[T.MI] -189.405   66.497 -2.848 0.004 -319.737  -59.074\n",
      "patient_state[T.MN] -204.048   66.746 -3.057 0.002 -334.866  -73.229\n",
      "patient_state[T.MO] -213.728   67.000 -3.190 0.001 -345.046  -82.411\n",
      "patient_state[T.MS] -232.148   67.759 -3.426 0.001 -364.952  -99.343\n",
      "patient_state[T.MT] -212.290   68.597 -3.095 0.002 -346.738  -77.842\n",
      "patient_state[T.NC] -205.073   67.120 -3.055 0.002 -336.626  -73.519\n",
      "patient_state[T.ND] -181.477   78.462 -2.313 0.021 -335.260  -27.694\n",
      "patient_state[T.NE] -215.979   69.730 -3.097 0.002 -352.647  -79.310\n",
      "patient_state[T.NH] -222.072   68.272 -3.253 0.001 -355.882  -88.262\n",
      "patient_state[T.NJ] -178.035   66.535 -2.676 0.007 -308.441  -47.629\n",
      "patient_state[T.NM] -197.820   67.211 -2.943 0.003 -329.551  -66.089\n",
      "patient_state[T.NV] -222.878   68.087 -3.273 0.001 -356.327  -89.430\n",
      "patient_state[T.NY] -185.619   66.454 -2.793 0.005 -315.867  -55.370\n",
      "patient_state[T.OH] -203.631   66.503 -3.062 0.002 -333.974  -73.288\n",
      "patient_state[T.OK] -231.004   67.151 -3.440 0.001 -362.617  -99.391\n",
      "patient_state[T.OR] -196.506   68.095 -2.886 0.004 -329.971  -63.042\n",
      "patient_state[T.PA] -198.012   66.599 -2.973 0.003 -328.543  -67.480\n",
      "patient_state[T.PR] -177.327   68.181 -2.601 0.009 -310.959  -43.694\n",
      "patient_state[T.RI] -209.930   73.558 -2.854 0.004 -354.100  -65.760\n",
      "patient_state[T.SC] -198.717   67.310 -2.952 0.003 -330.642  -66.792\n",
      "patient_state[T.SD] -271.777   79.697 -3.410 0.001 -427.979 -115.574\n",
      "patient_state[T.TN] -178.326   67.527 -2.641 0.008 -310.676  -45.977\n",
      "patient_state[T.TX] -202.696   66.421 -3.052 0.002 -332.879  -72.513\n",
      "patient_state[T.UT] -254.498   71.451 -3.562 0.000 -394.540 -114.457\n",
      "patient_state[T.VA] -187.019   66.614 -2.807 0.005 -317.581  -56.457\n",
      "patient_state[T.VT] -173.668   84.284 -2.060 0.039 -338.862   -8.473\n",
      "patient_state[T.WA] -205.923   66.993 -3.074 0.002 -337.227  -74.620\n",
      "patient_state[T.WI] -220.937   66.957 -3.300 0.001 -352.170  -89.703\n",
      "patient_state[T.WV] -249.080   68.844 -3.618 0.000 -384.012 -114.147\n",
      "patient_state[T.WY] -266.582   91.105 -2.926 0.003 -445.145  -88.019\n",
      "Group Var             23.184    0.185                               \n",
      "====================================================================\n",
      "\n",
      "patient_age\n"
     ]
    },
    {
     "name": "stderr",
     "output_type": "stream",
     "text": [
      "/Users/thodsawit/anaconda3/envs/bmi212-wids/lib/python3.11/site-packages/statsmodels/base/model.py:607: ConvergenceWarning: Maximum Likelihood optimization failed to converge. Check mle_retvals\n",
      "  warnings.warn(\"Maximum Likelihood optimization failed to \"\n",
      "/Users/thodsawit/anaconda3/envs/bmi212-wids/lib/python3.11/site-packages/statsmodels/regression/mixed_linear_model.py:2201: ConvergenceWarning: Retrying MixedLM optimization with lbfgs\n",
      "  warnings.warn(\n"
     ]
    },
    {
     "name": "stdout",
     "output_type": "stream",
     "text": [
      "          Mixed Linear Model Regression Results\n",
      "==========================================================\n",
      "Model:            MixedLM Dependent Variable: treatment_pd\n",
      "No. Observations: 27674   Method:             REML        \n",
      "No. Groups:       849     Scale:              34989.0510  \n",
      "Min. group size:  1       Log-Likelihood:     -184079.2767\n",
      "Max. group size:  385     Converged:          Yes         \n",
      "Mean group size:  32.6                                    \n",
      "----------------------------------------------------------\n",
      "                Coef.  Std.Err.   z    P>|z| [0.025 0.975]\n",
      "----------------------------------------------------------\n",
      "Intercept       72.924    5.632 12.949 0.000 61.886 83.962\n",
      "patient_age      1.108    0.101 11.004 0.000  0.911  1.305\n",
      "Group Var      110.517    0.235                           \n",
      "==========================================================\n",
      "\n",
      "patient_gender\n"
     ]
    },
    {
     "name": "stderr",
     "output_type": "stream",
     "text": [
      "/Users/thodsawit/anaconda3/envs/bmi212-wids/lib/python3.11/site-packages/statsmodels/base/model.py:607: ConvergenceWarning: Maximum Likelihood optimization failed to converge. Check mle_retvals\n",
      "  warnings.warn(\"Maximum Likelihood optimization failed to \"\n",
      "/Users/thodsawit/anaconda3/envs/bmi212-wids/lib/python3.11/site-packages/statsmodels/regression/mixed_linear_model.py:2201: ConvergenceWarning: Retrying MixedLM optimization with lbfgs\n",
      "  warnings.warn(\n"
     ]
    },
    {
     "name": "stdout",
     "output_type": "stream",
     "text": [
      "          Mixed Linear Model Regression Results\n",
      "==========================================================\n",
      "Model:            MixedLM Dependent Variable: treatment_pd\n",
      "No. Observations: 27674   Method:             REML        \n",
      "No. Groups:       849     Scale:              35136.7851  \n",
      "Min. group size:  1       Log-Likelihood:     -184138.3003\n",
      "Max. group size:  385     Converged:          Yes         \n",
      "Mean group size:  32.6                                    \n",
      "----------------------------------------------------------\n",
      "             Coef.  Std.Err.    z    P>|z|  [0.025  0.975]\n",
      "----------------------------------------------------------\n",
      "Intercept   133.225    1.296 102.804 0.000 130.685 135.764\n",
      "Group Var   116.122    0.237                              \n",
      "==========================================================\n",
      "\n",
      "bmi\n"
     ]
    },
    {
     "name": "stderr",
     "output_type": "stream",
     "text": [
      "/Users/thodsawit/anaconda3/envs/bmi212-wids/lib/python3.11/site-packages/statsmodels/base/model.py:607: ConvergenceWarning: Maximum Likelihood optimization failed to converge. Check mle_retvals\n",
      "  warnings.warn(\"Maximum Likelihood optimization failed to \"\n",
      "/Users/thodsawit/anaconda3/envs/bmi212-wids/lib/python3.11/site-packages/statsmodels/regression/mixed_linear_model.py:2201: ConvergenceWarning: Retrying MixedLM optimization with lbfgs\n",
      "  warnings.warn(\n",
      "/Users/thodsawit/anaconda3/envs/bmi212-wids/lib/python3.11/site-packages/statsmodels/base/model.py:607: ConvergenceWarning: Maximum Likelihood optimization failed to converge. Check mle_retvals\n",
      "  warnings.warn(\"Maximum Likelihood optimization failed to \"\n",
      "/Users/thodsawit/anaconda3/envs/bmi212-wids/lib/python3.11/site-packages/statsmodels/regression/mixed_linear_model.py:2201: ConvergenceWarning: Retrying MixedLM optimization with cg\n",
      "  warnings.warn(\n",
      "/Users/thodsawit/anaconda3/envs/bmi212-wids/lib/python3.11/site-packages/statsmodels/base/model.py:607: ConvergenceWarning: Maximum Likelihood optimization failed to converge. Check mle_retvals\n",
      "  warnings.warn(\"Maximum Likelihood optimization failed to \"\n",
      "/Users/thodsawit/anaconda3/envs/bmi212-wids/lib/python3.11/site-packages/statsmodels/regression/mixed_linear_model.py:2207: ConvergenceWarning: MixedLM optimization failed, trying a different optimizer may help.\n",
      "  warnings.warn(msg, ConvergenceWarning)\n",
      "/Users/thodsawit/anaconda3/envs/bmi212-wids/lib/python3.11/site-packages/statsmodels/regression/mixed_linear_model.py:2219: ConvergenceWarning: Gradient optimization failed, |grad| = 345.186885\n",
      "  warnings.warn(msg, ConvergenceWarning)\n"
     ]
    },
    {
     "name": "stdout",
     "output_type": "stream",
     "text": [
      "          Mixed Linear Model Regression Results\n",
      "==========================================================\n",
      "Model:            MixedLM Dependent Variable: treatment_pd\n",
      "No. Observations: 8749    Method:             REML        \n",
      "No. Groups:       735     Scale:              32541.5420  \n",
      "Min. group size:  1       Log-Likelihood:     -57999.9991 \n",
      "Max. group size:  139     Converged:          No          \n",
      "Mean group size:  11.9                                    \n",
      "----------------------------------------------------------\n",
      "             Coef.   Std.Err.   z    P>|z|  [0.025  0.975]\n",
      "----------------------------------------------------------\n",
      "Intercept    142.977   10.663 13.409 0.000 122.078 163.876\n",
      "bmi           -0.504    0.349 -1.444 0.149  -1.187   0.180\n",
      "Group Var   1564.582    4.800                             \n",
      "==========================================================\n",
      "\n",
      "breast_cancer_diagnosis_code\n"
     ]
    },
    {
     "name": "stderr",
     "output_type": "stream",
     "text": [
      "/Users/thodsawit/anaconda3/envs/bmi212-wids/lib/python3.11/site-packages/statsmodels/base/model.py:607: ConvergenceWarning: Maximum Likelihood optimization failed to converge. Check mle_retvals\n",
      "  warnings.warn(\"Maximum Likelihood optimization failed to \"\n",
      "/Users/thodsawit/anaconda3/envs/bmi212-wids/lib/python3.11/site-packages/statsmodels/regression/mixed_linear_model.py:2201: ConvergenceWarning: Retrying MixedLM optimization with lbfgs\n",
      "  warnings.warn(\n",
      "/Users/thodsawit/anaconda3/envs/bmi212-wids/lib/python3.11/site-packages/statsmodels/base/model.py:607: ConvergenceWarning: Maximum Likelihood optimization failed to converge. Check mle_retvals\n",
      "  warnings.warn(\"Maximum Likelihood optimization failed to \"\n",
      "/Users/thodsawit/anaconda3/envs/bmi212-wids/lib/python3.11/site-packages/statsmodels/regression/mixed_linear_model.py:2201: ConvergenceWarning: Retrying MixedLM optimization with cg\n",
      "  warnings.warn(\n",
      "/Users/thodsawit/anaconda3/envs/bmi212-wids/lib/python3.11/site-packages/statsmodels/base/model.py:607: ConvergenceWarning: Maximum Likelihood optimization failed to converge. Check mle_retvals\n",
      "  warnings.warn(\"Maximum Likelihood optimization failed to \"\n",
      "/Users/thodsawit/anaconda3/envs/bmi212-wids/lib/python3.11/site-packages/statsmodels/regression/mixed_linear_model.py:2207: ConvergenceWarning: MixedLM optimization failed, trying a different optimizer may help.\n",
      "  warnings.warn(msg, ConvergenceWarning)\n",
      "/Users/thodsawit/anaconda3/envs/bmi212-wids/lib/python3.11/site-packages/statsmodels/regression/mixed_linear_model.py:2219: ConvergenceWarning: Gradient optimization failed, |grad| = 364.940743\n",
      "  warnings.warn(msg, ConvergenceWarning)\n"
     ]
    },
    {
     "name": "stdout",
     "output_type": "stream",
     "text": [
      "                        Mixed Linear Model Regression Results\n",
      "======================================================================================\n",
      "Model:                      MixedLM          Dependent Variable:          treatment_pd\n",
      "No. Observations:           27674            Method:                      REML        \n",
      "No. Groups:                 849              Scale:                       25362.7111  \n",
      "Min. group size:            1                Log-Likelihood:              -179392.8922\n",
      "Max. group size:            385              Converged:                   No          \n",
      "Mean group size:            32.6                                                      \n",
      "--------------------------------------------------------------------------------------\n",
      "                                        Coef.   Std.Err.   z    P>|z|  [0.025   0.975]\n",
      "--------------------------------------------------------------------------------------\n",
      "Intercept                               359.029  112.901  3.180 0.001  137.747 580.311\n",
      "breast_cancer_diagnosis_code[T.1741]     41.479  113.846  0.364 0.716 -181.655 264.613\n",
      "breast_cancer_diagnosis_code[T.1742]    -19.537  113.584 -0.172 0.863 -242.158 203.084\n",
      "breast_cancer_diagnosis_code[T.1743]     -5.791  114.771 -0.050 0.960 -230.737 219.156\n",
      "breast_cancer_diagnosis_code[T.1744]    -13.110  113.105 -0.116 0.908 -234.791 208.572\n",
      "breast_cancer_diagnosis_code[T.1745]    -61.310  113.962 -0.538 0.591 -284.671 162.052\n",
      "breast_cancer_diagnosis_code[T.1746]    -73.941  118.162 -0.626 0.531 -305.534 157.651\n",
      "breast_cancer_diagnosis_code[T.1748]    -30.285  113.141 -0.268 0.789 -252.037 191.468\n",
      "breast_cancer_diagnosis_code[T.1749]     12.135  112.939  0.107 0.914 -209.222 233.492\n",
      "breast_cancer_diagnosis_code[T.1759]    -41.076  145.725 -0.282 0.778 -326.693 244.540\n",
      "breast_cancer_diagnosis_code[T.19881]    36.991  121.943  0.303 0.762 -202.013 275.996\n",
      "breast_cancer_diagnosis_code[T.C50]     -21.343  195.620 -0.109 0.913 -404.752 362.066\n",
      "breast_cancer_diagnosis_code[T.C5001]  -289.456  145.689 -1.987 0.047 -575.001  -3.912\n",
      "breast_cancer_diagnosis_code[T.C50011] -270.912  113.328 -2.391 0.017 -493.030 -48.794\n",
      "breast_cancer_diagnosis_code[T.C50012] -281.789  113.303 -2.487 0.013 -503.859 -59.719\n",
      "breast_cancer_diagnosis_code[T.C50019] -278.717  118.159 -2.359 0.018 -510.304 -47.130\n",
      "breast_cancer_diagnosis_code[T.C50021] -257.082  195.524 -1.315 0.189 -640.302 126.137\n",
      "breast_cancer_diagnosis_code[T.C5011]  -166.840  133.584 -1.249 0.212 -428.659  94.979\n",
      "breast_cancer_diagnosis_code[T.C50111] -256.662  113.114 -2.269 0.023 -478.361 -34.964\n",
      "breast_cancer_diagnosis_code[T.C50112] -261.541  113.117 -2.312 0.021 -483.246 -39.836\n",
      "breast_cancer_diagnosis_code[T.C50119] -250.274  115.999 -2.158 0.031 -477.628 -22.920\n",
      "breast_cancer_diagnosis_code[T.C50121]  -69.745  159.655 -0.437 0.662 -382.663 243.173\n",
      "breast_cancer_diagnosis_code[T.C5021]  -284.437  126.216 -2.254 0.024 -531.816 -37.058\n",
      "breast_cancer_diagnosis_code[T.C50211] -268.807  113.052 -2.378 0.017 -490.384 -47.230\n",
      "breast_cancer_diagnosis_code[T.C50212] -276.793  113.045 -2.449 0.014 -498.358 -55.229\n",
      "breast_cancer_diagnosis_code[T.C50219] -263.440  116.869 -2.254 0.024 -492.498 -34.381\n",
      "breast_cancer_diagnosis_code[T.C50221]  -10.205  195.402 -0.052 0.958 -393.185 372.776\n",
      "breast_cancer_diagnosis_code[T.C50222] -318.384  195.636 -1.627 0.104 -701.824  65.056\n",
      "breast_cancer_diagnosis_code[T.C5031]  -242.699  133.583 -1.817 0.069 -504.516  19.119\n",
      "breast_cancer_diagnosis_code[T.C50311] -280.525  113.262 -2.477 0.013 -502.515 -58.536\n",
      "breast_cancer_diagnosis_code[T.C50312] -273.907  113.203 -2.420 0.016 -495.781 -52.034\n",
      "breast_cancer_diagnosis_code[T.C50319] -289.394  117.932 -2.454 0.014 -520.537 -58.252\n",
      "breast_cancer_diagnosis_code[T.C50322] -289.951  195.426 -1.484 0.138 -672.980  93.078\n",
      "breast_cancer_diagnosis_code[T.C5041]  -267.981  116.081 -2.309 0.021 -495.496 -40.466\n",
      "breast_cancer_diagnosis_code[T.C50411] -279.184  112.945 -2.472 0.013 -500.553 -57.815\n",
      "breast_cancer_diagnosis_code[T.C50412] -276.144  112.943 -2.445 0.014 -497.509 -54.779\n",
      "breast_cancer_diagnosis_code[T.C50419] -253.730  114.630 -2.213 0.027 -478.400 -29.059\n",
      "breast_cancer_diagnosis_code[T.C50421] -160.952  195.651 -0.823 0.411 -544.421 222.517\n",
      "breast_cancer_diagnosis_code[T.C50422] -213.548  195.578 -1.092 0.275 -596.874 169.778\n",
      "breast_cancer_diagnosis_code[T.C5051]  -305.043  121.267 -2.515 0.012 -542.721 -67.365\n",
      "breast_cancer_diagnosis_code[T.C50511] -276.158  113.118 -2.441 0.015 -497.866 -54.451\n",
      "breast_cancer_diagnosis_code[T.C50512] -279.451  113.113 -2.471 0.013 -501.148 -57.755\n",
      "breast_cancer_diagnosis_code[T.C50519] -189.551  119.323 -1.589 0.112 -423.420  44.319\n",
      "breast_cancer_diagnosis_code[T.C50521] -201.012  195.577 -1.028 0.304 -584.337 182.313\n",
      "breast_cancer_diagnosis_code[T.C50522] -357.976  195.419 -1.832 0.067 -740.990  25.037\n",
      "breast_cancer_diagnosis_code[T.C5061]  -286.795  159.667 -1.796 0.072 -599.737  26.147\n",
      "breast_cancer_diagnosis_code[T.C50611] -270.688  114.164 -2.371 0.018 -494.445 -46.931\n",
      "breast_cancer_diagnosis_code[T.C50612] -247.929  114.004 -2.175 0.030 -471.373 -24.485\n",
      "breast_cancer_diagnosis_code[T.C50619] -292.390  133.569 -2.189 0.029 -554.181 -30.599\n",
      "breast_cancer_diagnosis_code[T.C5081]  -256.305  118.702 -2.159 0.031 -488.956 -23.654\n",
      "breast_cancer_diagnosis_code[T.C50811] -277.197  112.985 -2.453 0.014 -498.643 -55.751\n",
      "breast_cancer_diagnosis_code[T.C50812] -272.870  112.990 -2.415 0.016 -494.327 -51.413\n",
      "breast_cancer_diagnosis_code[T.C50819] -242.872  115.240 -2.108 0.035 -468.739 -17.006\n",
      "breast_cancer_diagnosis_code[T.C5091]  -219.038  114.330 -1.916 0.055 -443.121   5.044\n",
      "breast_cancer_diagnosis_code[T.C50911] -266.727  112.929 -2.362 0.018 -488.065 -45.390\n",
      "breast_cancer_diagnosis_code[T.C50912] -265.857  112.929 -2.354 0.019 -487.194 -44.520\n",
      "breast_cancer_diagnosis_code[T.C50919] -233.098  112.959 -2.064 0.039 -454.494 -11.702\n",
      "breast_cancer_diagnosis_code[T.C50921] -302.976  195.419 -1.550 0.121 -685.990  80.037\n",
      "breast_cancer_diagnosis_code[T.C50929] -232.197  130.360 -1.781 0.075 -487.698  23.305\n",
      "Group Var                               177.166    0.431                              \n",
      "======================================================================================\n",
      "\n",
      "breast_cancer_diagnosis_desc\n"
     ]
    },
    {
     "name": "stderr",
     "output_type": "stream",
     "text": [
      "/Users/thodsawit/anaconda3/envs/bmi212-wids/lib/python3.11/site-packages/statsmodels/base/model.py:607: ConvergenceWarning: Maximum Likelihood optimization failed to converge. Check mle_retvals\n",
      "  warnings.warn(\"Maximum Likelihood optimization failed to \"\n",
      "/Users/thodsawit/anaconda3/envs/bmi212-wids/lib/python3.11/site-packages/statsmodels/regression/mixed_linear_model.py:2201: ConvergenceWarning: Retrying MixedLM optimization with lbfgs\n",
      "  warnings.warn(\n",
      "/Users/thodsawit/anaconda3/envs/bmi212-wids/lib/python3.11/site-packages/statsmodels/base/model.py:607: ConvergenceWarning: Maximum Likelihood optimization failed to converge. Check mle_retvals\n",
      "  warnings.warn(\"Maximum Likelihood optimization failed to \"\n",
      "/Users/thodsawit/anaconda3/envs/bmi212-wids/lib/python3.11/site-packages/statsmodels/regression/mixed_linear_model.py:2201: ConvergenceWarning: Retrying MixedLM optimization with cg\n",
      "  warnings.warn(\n",
      "/Users/thodsawit/anaconda3/envs/bmi212-wids/lib/python3.11/site-packages/statsmodels/base/model.py:607: ConvergenceWarning: Maximum Likelihood optimization failed to converge. Check mle_retvals\n",
      "  warnings.warn(\"Maximum Likelihood optimization failed to \"\n",
      "/Users/thodsawit/anaconda3/envs/bmi212-wids/lib/python3.11/site-packages/statsmodels/regression/mixed_linear_model.py:2207: ConvergenceWarning: MixedLM optimization failed, trying a different optimizer may help.\n",
      "  warnings.warn(msg, ConvergenceWarning)\n",
      "/Users/thodsawit/anaconda3/envs/bmi212-wids/lib/python3.11/site-packages/statsmodels/regression/mixed_linear_model.py:2219: ConvergenceWarning: Gradient optimization failed, |grad| = 364.940743\n",
      "  warnings.warn(msg, ConvergenceWarning)\n"
     ]
    },
    {
     "name": "stdout",
     "output_type": "stream",
     "text": [
      "                                                     Mixed Linear Model Regression Results\n",
      "===============================================================================================================================================\n",
      "Model:                                         MixedLM                             Dependent Variable:                             treatment_pd\n",
      "No. Observations:                              27674                               Method:                                         REML        \n",
      "No. Groups:                                    849                                 Scale:                                          25362.7111  \n",
      "Min. group size:                               1                                   Log-Likelihood:                                 -179392.8922\n",
      "Max. group size:                               385                                 Converged:                                      No          \n",
      "Mean group size:                               32.6                                                                                            \n",
      "-----------------------------------------------------------------------------------------------------------------------------------------------\n",
      "                                                                                                  Coef.  Std.Err.   z    P>|z|  [0.025   0.975]\n",
      "-----------------------------------------------------------------------------------------------------------------------------------------------\n",
      "Intercept                                                                                         85.122    8.252 10.316 0.000   68.949 101.295\n",
      "breast_cancer_diagnosis_desc[T.Malig neoplasm of lower-inner quadrant of left male breast]       -16.044  159.742 -0.100 0.920 -329.133 297.045\n",
      "breast_cancer_diagnosis_desc[T.Malig neoplasm of lower-inner quadrant of unsp female breast]     -15.487   35.034 -0.442 0.658  -84.153  53.178\n",
      "breast_cancer_diagnosis_desc[T.Malig neoplasm of lower-outer quadrant of left female breast]      -5.544   10.724 -0.517 0.605  -26.562  15.474\n",
      "breast_cancer_diagnosis_desc[T.Malig neoplasm of lower-outer quadrant of left male breast]       -84.069  159.709 -0.526 0.599 -397.093 228.955\n",
      "breast_cancer_diagnosis_desc[T.Malig neoplasm of lower-outer quadrant of right male breast]       72.895  159.883  0.456 0.648 -240.470 386.261\n",
      "breast_cancer_diagnosis_desc[T.Malig neoplasm of lower-outer quadrant of unsp female breast]      84.356   39.571  2.132 0.033    6.798 161.915\n",
      "breast_cancer_diagnosis_desc[T.Malig neoplasm of upper-inner quadrant of left female breast]      -2.886    9.985 -0.289 0.773  -22.457  16.684\n",
      "breast_cancer_diagnosis_desc[T.Malig neoplasm of upper-inner quadrant of left male breast]       -44.477  159.992 -0.278 0.781 -358.056 269.103\n",
      "breast_cancer_diagnosis_desc[T.Malig neoplasm of upper-inner quadrant of right male breast]      263.703  159.686  1.651 0.099  -49.277 576.682\n",
      "breast_cancer_diagnosis_desc[T.Malig neoplasm of upper-inner quadrant of unsp female breast]      10.467   31.267  0.335 0.738  -50.815  71.750\n",
      "breast_cancer_diagnosis_desc[T.Malig neoplasm of upper-outer quadrant of left female breast]      -2.237    8.788 -0.255 0.799  -19.462  14.988\n",
      "breast_cancer_diagnosis_desc[T.Malig neoplasm of upper-outer quadrant of left male breast]        60.359  159.895  0.377 0.706 -253.028 373.747\n",
      "breast_cancer_diagnosis_desc[T.Malig neoplasm of upper-outer quadrant of right male breast]      112.955  159.996  0.706 0.480 -200.632 426.542\n",
      "breast_cancer_diagnosis_desc[T.Malig neoplasm of upper-outer quadrant of unsp female breast]      20.178   21.452  0.941 0.347  -21.867  62.223\n",
      "breast_cancer_diagnosis_desc[T.Malig neoplm of lower-inner quadrant of right female breast]       -6.618   12.206 -0.542 0.588  -30.541  17.305\n",
      "breast_cancer_diagnosis_desc[T.Malig neoplm of lower-outer quadrant of right female breast]       -2.251   10.762 -0.209 0.834  -23.344  18.842\n",
      "breast_cancer_diagnosis_desc[T.Malig neoplm of upper-inner quadrant of right female breast]        5.100   10.054  0.507 0.612  -14.606  24.806\n",
      "breast_cancer_diagnosis_desc[T.Malig neoplm of upper-outer quadrant of right female breast]       -5.277    8.799 -0.600 0.549  -22.522  11.968\n",
      "breast_cancer_diagnosis_desc[T.Malignant neoplasm of axillary tail of breast, female]            -12.888  113.177 -0.114 0.909 -234.711 208.935\n",
      "breast_cancer_diagnosis_desc[T.Malignant neoplasm of axillary tail of female breast]             199.966   35.796  5.586 0.000  129.808 270.124\n",
      "breast_cancer_diagnosis_desc[T.Malignant neoplasm of axillary tail of left female breast]         25.978   17.818  1.458 0.145   -8.944  60.901\n",
      "breast_cancer_diagnosis_desc[T.Malignant neoplasm of axillary tail of right female breast]         3.219   18.816  0.171 0.864  -33.660  40.099\n",
      "breast_cancer_diagnosis_desc[T.Malignant neoplasm of axillary tail of unsp female breast]        -18.483   71.841 -0.257 0.797 -159.289 122.324\n",
      "breast_cancer_diagnosis_desc[T.Malignant neoplasm of breast]                                     252.564  159.975  1.579 0.114  -60.982 566.110\n",
      "breast_cancer_diagnosis_desc[T.Malignant neoplasm of breast (female), unspecified]               286.042    8.757 32.664 0.000  268.879 303.206\n",
      "breast_cancer_diagnosis_desc[T.Malignant neoplasm of breast of unspecified site, female]          54.869   19.767  2.776 0.006   16.126  93.612\n",
      "breast_cancer_diagnosis_desc[T.Malignant neoplasm of central portion of breast, female]          107.067   71.864  1.490 0.136  -33.783 247.917\n",
      "breast_cancer_diagnosis_desc[T.Malignant neoplasm of central portion of female breast]           315.386   16.786 18.789 0.000  282.486 348.286\n",
      "breast_cancer_diagnosis_desc[T.Malignant neoplasm of central portion of left female breast]       12.366   10.780  1.147 0.251   -8.763  33.495\n",
      "breast_cancer_diagnosis_desc[T.Malignant neoplasm of central portion of right female breast]      17.245   10.772  1.601 0.109   -3.867  38.357\n",
      "breast_cancer_diagnosis_desc[T.Malignant neoplasm of central portion of right male breast]       204.162  113.192  1.804 0.071  -17.691 426.016\n",
      "breast_cancer_diagnosis_desc[T.Malignant neoplasm of central portion of unsp female breast]       23.633   27.848  0.849 0.396  -30.949  78.215\n",
      "breast_cancer_diagnosis_desc[T.Malignant neoplasm of lower-inner quadrant of breast, female]      31.208   71.876  0.434 0.664 -109.667 172.084\n",
      "breast_cancer_diagnosis_desc[T.Malignant neoplasm of lower-inner quadrant of female breast]      268.117   22.184 12.086 0.000  224.638 311.596\n",
      "breast_cancer_diagnosis_desc[T.Malignant neoplasm of lower-outer quadrant of breast, female]     -31.136   45.016 -0.692 0.489 -119.365  57.093\n",
      "breast_cancer_diagnosis_desc[T.Malignant neoplasm of lower-outer quadrant of female breast]      212.598   17.548 12.115 0.000  178.204 246.992\n",
      "breast_cancer_diagnosis_desc[T.Malignant neoplasm of nipple and areola of female breast]         273.907  113.203  2.420 0.016   52.034 495.781\n",
      "breast_cancer_diagnosis_desc[T.Malignant neoplasm of nipple and areola, female]                  -15.549   92.450 -0.168 0.866 -196.749 165.650\n",
      "breast_cancer_diagnosis_desc[T.Malignant neoplasm of nipple and areola, left female breast]       -7.881   12.582 -0.626 0.531  -32.541  16.779\n",
      "breast_cancer_diagnosis_desc[T.Malignant neoplasm of nipple and areola, right female breast]       2.995   12.832  0.233 0.815  -22.155  28.146\n",
      "breast_cancer_diagnosis_desc[T.Malignant neoplasm of nipple and areola, right male breast]        16.825  159.862  0.105 0.916 -296.498 330.148\n",
      "breast_cancer_diagnosis_desc[T.Malignant neoplasm of nipple and areola, unsp female breast]       -4.810   35.790 -0.134 0.893  -74.957  65.338\n",
      "breast_cancer_diagnosis_desc[T.Malignant neoplasm of other and unspecified sites of male breast] 232.831   92.519  2.517 0.012   51.496 414.166\n",
      "breast_cancer_diagnosis_desc[T.Malignant neoplasm of other specified sites of female breast]     243.622   11.038 22.070 0.000  221.988 265.257\n",
      "breast_cancer_diagnosis_desc[T.Malignant neoplasm of overlapping sites of breast, female]         17.602   37.552  0.469 0.639  -55.999  91.203\n",
      "breast_cancer_diagnosis_desc[T.Malignant neoplasm of ovrlp sites of left female breast]            1.037    9.361  0.111 0.912  -17.309  19.384\n",
      "breast_cancer_diagnosis_desc[T.Malignant neoplasm of ovrlp sites of right female breast]          -3.290    9.328 -0.353 0.724  -21.573  14.992\n",
      "breast_cancer_diagnosis_desc[T.Malignant neoplasm of ovrlp sites of unsp female breast]           31.035   24.501  1.267 0.205  -16.985  79.055\n",
      "breast_cancer_diagnosis_desc[T.Malignant neoplasm of unsp site of right female breast]             7.180    8.610  0.834 0.404   -9.696  24.056\n",
      "breast_cancer_diagnosis_desc[T.Malignant neoplasm of unsp site of unspecified female breast]      40.809    8.967  4.551 0.000   23.234  58.385\n",
      "breast_cancer_diagnosis_desc[T.Malignant neoplasm of unsp site of unspecified male breast]        41.711   65.675  0.635 0.525  -87.011 170.432\n",
      "breast_cancer_diagnosis_desc[T.Malignant neoplasm of unspecified site of left female breast]       8.050    8.608  0.935 0.350   -8.821  24.921\n",
      "breast_cancer_diagnosis_desc[T.Malignant neoplasm of unspecified site of right male breast]      -29.069  159.709 -0.182 0.856 -342.093 283.955\n",
      "breast_cancer_diagnosis_desc[T.Malignant neoplasm of upper-inner quadrant of breast, female]     -10.530   57.024 -0.185 0.854 -122.294 101.235\n",
      "breast_cancer_diagnosis_desc[T.Malignant neoplasm of upper-inner quadrant of female breast]      254.370   14.907 17.064 0.000  225.154 283.586\n",
      "breast_cancer_diagnosis_desc[T.Malignant neoplasm of upper-outer quadrant of breast, female]       5.926   28.209  0.210 0.834  -49.363  61.215\n",
      "breast_cancer_diagnosis_desc[T.Malignant neoplasm of upper-outer quadrant of female breast]      260.798   10.638 24.516 0.000  239.947 281.648\n",
      "breast_cancer_diagnosis_desc[T.Secondary malignant neoplasm of breast]                           310.898   46.814  6.641 0.000  219.145 402.651\n",
      "Group Var                                                                                        177.166    0.431                              \n",
      "===============================================================================================================================================\n",
      "\n",
      "breast_cancer_diagnosis_year\n"
     ]
    },
    {
     "name": "stderr",
     "output_type": "stream",
     "text": [
      "/Users/thodsawit/anaconda3/envs/bmi212-wids/lib/python3.11/site-packages/statsmodels/base/model.py:607: ConvergenceWarning: Maximum Likelihood optimization failed to converge. Check mle_retvals\n",
      "  warnings.warn(\"Maximum Likelihood optimization failed to \"\n",
      "/Users/thodsawit/anaconda3/envs/bmi212-wids/lib/python3.11/site-packages/statsmodels/regression/mixed_linear_model.py:2201: ConvergenceWarning: Retrying MixedLM optimization with lbfgs\n",
      "  warnings.warn(\n",
      "/Users/thodsawit/anaconda3/envs/bmi212-wids/lib/python3.11/site-packages/statsmodels/base/model.py:607: ConvergenceWarning: Maximum Likelihood optimization failed to converge. Check mle_retvals\n",
      "  warnings.warn(\"Maximum Likelihood optimization failed to \"\n",
      "/Users/thodsawit/anaconda3/envs/bmi212-wids/lib/python3.11/site-packages/statsmodels/regression/mixed_linear_model.py:2201: ConvergenceWarning: Retrying MixedLM optimization with cg\n",
      "  warnings.warn(\n",
      "/Users/thodsawit/anaconda3/envs/bmi212-wids/lib/python3.11/site-packages/statsmodels/base/model.py:607: ConvergenceWarning: Maximum Likelihood optimization failed to converge. Check mle_retvals\n",
      "  warnings.warn(\"Maximum Likelihood optimization failed to \"\n",
      "/Users/thodsawit/anaconda3/envs/bmi212-wids/lib/python3.11/site-packages/statsmodels/regression/mixed_linear_model.py:2207: ConvergenceWarning: MixedLM optimization failed, trying a different optimizer may help.\n",
      "  warnings.warn(msg, ConvergenceWarning)\n",
      "/Users/thodsawit/anaconda3/envs/bmi212-wids/lib/python3.11/site-packages/statsmodels/regression/mixed_linear_model.py:2219: ConvergenceWarning: Gradient optimization failed, |grad| = 314.593676\n",
      "  warnings.warn(msg, ConvergenceWarning)\n"
     ]
    },
    {
     "name": "stdout",
     "output_type": "stream",
     "text": [
      "                       Mixed Linear Model Regression Results\n",
      "====================================================================================\n",
      "Model:                      MixedLM         Dependent Variable:         treatment_pd\n",
      "No. Observations:           27674           Method:                     REML        \n",
      "No. Groups:                 849             Scale:                      29521.6418  \n",
      "Min. group size:            1               Log-Likelihood:             -181763.6709\n",
      "Max. group size:            385             Converged:                  No          \n",
      "Mean group size:            32.6                                                    \n",
      "------------------------------------------------------------------------------------\n",
      "                               Coef.    Std.Err.    z    P>|z|   [0.025     0.975]  \n",
      "------------------------------------------------------------------------------------\n",
      "Intercept                    142447.559 1976.396  72.074 0.000 138573.893 146321.225\n",
      "breast_cancer_diagnosis_year    -70.575    0.980 -72.007 0.000    -72.496    -68.654\n",
      "Group Var                       204.112    0.430                                    \n",
      "====================================================================================\n",
      "\n",
      "metastatic_cancer_diagnosis_code\n"
     ]
    },
    {
     "name": "stderr",
     "output_type": "stream",
     "text": [
      "/Users/thodsawit/anaconda3/envs/bmi212-wids/lib/python3.11/site-packages/statsmodels/base/model.py:607: ConvergenceWarning: Maximum Likelihood optimization failed to converge. Check mle_retvals\n",
      "  warnings.warn(\"Maximum Likelihood optimization failed to \"\n",
      "/Users/thodsawit/anaconda3/envs/bmi212-wids/lib/python3.11/site-packages/statsmodels/regression/mixed_linear_model.py:2201: ConvergenceWarning: Retrying MixedLM optimization with lbfgs\n",
      "  warnings.warn(\n"
     ]
    },
    {
     "name": "stdout",
     "output_type": "stream",
     "text": [
      "                          Mixed Linear Model Regression Results\n",
      "=========================================================================================\n",
      "Model:                       MixedLM           Dependent Variable:           treatment_pd\n",
      "No. Observations:            27674             Method:                       REML        \n",
      "No. Groups:                  849               Scale:                        30659.9847  \n",
      "Min. group size:             1                 Log-Likelihood:               -182071.9501\n",
      "Max. group size:             385               Converged:                    Yes         \n",
      "Mean group size:             32.6                                                        \n",
      "-----------------------------------------------------------------------------------------\n",
      "                                           Coef.   Std.Err.   z    P>|z|  [0.025   0.975]\n",
      "-----------------------------------------------------------------------------------------\n",
      "Intercept                                  160.336   10.510 15.256 0.000  139.737 180.936\n",
      "metastatic_cancer_diagnosis_code[T.C771]    14.743   14.533  1.014 0.310  -13.741  43.226\n",
      "metastatic_cancer_diagnosis_code[T.C772]    -0.264   22.929 -0.012 0.991  -45.204  44.675\n",
      "metastatic_cancer_diagnosis_code[T.C773]   -66.142   10.564 -6.261 0.000  -86.846 -45.437\n",
      "metastatic_cancer_diagnosis_code[T.C774]    92.637   72.373  1.280 0.201  -49.211 234.485\n",
      "metastatic_cancer_diagnosis_code[T.C775]    51.131  101.850  0.502 0.616 -148.492 250.753\n",
      "metastatic_cancer_diagnosis_code[T.C778]     9.192   16.847  0.546 0.585  -23.827  42.211\n",
      "metastatic_cancer_diagnosis_code[T.C779]   -30.632   11.641 -2.631 0.009  -53.448  -7.815\n",
      "metastatic_cancer_diagnosis_code[T.C7800]   51.734   12.673  4.082 0.000   26.895  76.574\n",
      "metastatic_cancer_diagnosis_code[T.C7801]   59.065   15.377  3.841 0.000   28.926  89.203\n",
      "metastatic_cancer_diagnosis_code[T.C7802]   39.017   20.670  1.888 0.059   -1.495  79.530\n",
      "metastatic_cancer_diagnosis_code[T.C781]    83.230   29.980  2.776 0.006   24.470 141.990\n",
      "metastatic_cancer_diagnosis_code[T.C782]    92.060   20.436  4.505 0.000   52.006 132.115\n",
      "metastatic_cancer_diagnosis_code[T.C7839]   24.138  101.788  0.237 0.813 -175.362 223.638\n",
      "metastatic_cancer_diagnosis_code[T.C784]    44.015  101.850  0.432 0.666 -155.608 243.637\n",
      "metastatic_cancer_diagnosis_code[T.C785]   322.927   56.446  5.721 0.000  212.296 433.559\n",
      "metastatic_cancer_diagnosis_code[T.C786]    48.626   24.959  1.948 0.051   -0.293  97.544\n",
      "metastatic_cancer_diagnosis_code[T.C787]    42.543   11.887  3.579 0.000   19.246  65.840\n",
      "metastatic_cancer_diagnosis_code[T.C7880]   90.051  175.558  0.513 0.608 -254.036 434.137\n",
      "metastatic_cancer_diagnosis_code[T.C7889]   17.256   42.649  0.405 0.686  -66.335 100.846\n",
      "metastatic_cancer_diagnosis_code[T.C7900]   62.847  101.791  0.617 0.537 -136.659 262.353\n",
      "metastatic_cancer_diagnosis_code[T.C7901]   11.578  124.524  0.093 0.926 -232.485 255.640\n",
      "metastatic_cancer_diagnosis_code[T.C7902] -141.713  175.828 -0.806 0.420 -486.331 202.904\n",
      "metastatic_cancer_diagnosis_code[T.C7910]  477.281  175.738  2.716 0.007  132.840 821.722\n",
      "metastatic_cancer_diagnosis_code[T.C792]    56.082   15.666  3.580 0.000   25.378  86.787\n",
      "metastatic_cancer_diagnosis_code[T.C7931]   59.545   14.613  4.075 0.000   30.905  88.185\n",
      "metastatic_cancer_diagnosis_code[T.C7932]   37.713   79.160  0.476 0.634 -117.437 192.864\n",
      "metastatic_cancer_diagnosis_code[T.C7940]    6.358  124.456  0.051 0.959 -237.571 250.287\n",
      "metastatic_cancer_diagnosis_code[T.C7949]   63.280   36.611  1.728 0.084   -8.477 135.037\n",
      "metastatic_cancer_diagnosis_code[T.C7951]  138.077   11.013 12.538 0.000  116.492 159.661\n",
      "metastatic_cancer_diagnosis_code[T.C7952]  133.395   28.740  4.641 0.000   77.066 189.724\n",
      "metastatic_cancer_diagnosis_code[T.C7960]  218.523   79.127  2.762 0.006   63.437 373.609\n",
      "metastatic_cancer_diagnosis_code[T.C7961]   40.921  124.510  0.329 0.742 -203.114 284.956\n",
      "metastatic_cancer_diagnosis_code[T.C7962] -153.789  124.512 -1.235 0.217 -397.829  90.251\n",
      "metastatic_cancer_diagnosis_code[T.C7970]  -79.567   67.141 -1.185 0.236 -211.162  52.028\n",
      "metastatic_cancer_diagnosis_code[T.C7971]    1.489   79.168  0.019 0.985 -153.677 156.654\n",
      "metastatic_cancer_diagnosis_code[T.C7972]  -74.649   88.358 -0.845 0.398 -247.827  98.529\n",
      "metastatic_cancer_diagnosis_code[T.C7981]    2.841   12.819  0.222 0.825  -22.284  27.967\n",
      "metastatic_cancer_diagnosis_code[T.C7982]  185.702   59.403  3.126 0.002   69.275 302.129\n",
      "metastatic_cancer_diagnosis_code[T.C7989]  -38.960   12.323 -3.162 0.002  -63.112 -14.808\n",
      "metastatic_cancer_diagnosis_code[T.C799]     4.720   13.848  0.341 0.733  -22.421  31.861\n",
      "Group Var                                  149.851    0.291                              \n",
      "=========================================================================================\n",
      "\n",
      "metastatic_first_treatment\n"
     ]
    },
    {
     "name": "stderr",
     "output_type": "stream",
     "text": [
      "/Users/thodsawit/anaconda3/envs/bmi212-wids/lib/python3.11/site-packages/statsmodels/base/model.py:607: ConvergenceWarning: Maximum Likelihood optimization failed to converge. Check mle_retvals\n",
      "  warnings.warn(\"Maximum Likelihood optimization failed to \"\n",
      "/Users/thodsawit/anaconda3/envs/bmi212-wids/lib/python3.11/site-packages/statsmodels/regression/mixed_linear_model.py:2201: ConvergenceWarning: Retrying MixedLM optimization with lbfgs\n",
      "  warnings.warn(\n",
      "/Users/thodsawit/anaconda3/envs/bmi212-wids/lib/python3.11/site-packages/statsmodels/base/model.py:607: ConvergenceWarning: Maximum Likelihood optimization failed to converge. Check mle_retvals\n",
      "  warnings.warn(\"Maximum Likelihood optimization failed to \"\n",
      "/Users/thodsawit/anaconda3/envs/bmi212-wids/lib/python3.11/site-packages/statsmodels/regression/mixed_linear_model.py:2201: ConvergenceWarning: Retrying MixedLM optimization with cg\n",
      "  warnings.warn(\n",
      "/Users/thodsawit/anaconda3/envs/bmi212-wids/lib/python3.11/site-packages/statsmodels/base/model.py:607: ConvergenceWarning: Maximum Likelihood optimization failed to converge. Check mle_retvals\n",
      "  warnings.warn(\"Maximum Likelihood optimization failed to \"\n",
      "/Users/thodsawit/anaconda3/envs/bmi212-wids/lib/python3.11/site-packages/statsmodels/regression/mixed_linear_model.py:2207: ConvergenceWarning: MixedLM optimization failed, trying a different optimizer may help.\n",
      "  warnings.warn(msg, ConvergenceWarning)\n",
      "/Users/thodsawit/anaconda3/envs/bmi212-wids/lib/python3.11/site-packages/statsmodels/regression/mixed_linear_model.py:2219: ConvergenceWarning: Gradient optimization failed, |grad| = 12.911185\n",
      "  warnings.warn(msg, ConvergenceWarning)\n"
     ]
    },
    {
     "name": "stdout",
     "output_type": "stream",
     "text": [
      "                                      Mixed Linear Model Regression Results\n",
      "=================================================================================================================\n",
      "Model:                               MixedLM                   Dependent Variable:                   treatment_pd\n",
      "No. Observations:                    27674                     Method:                               REML        \n",
      "No. Groups:                          849                       Scale:                                25951.3189  \n",
      "Min. group size:                     1                         Log-Likelihood:                       -179755.4638\n",
      "Max. group size:                     385                       Converged:                            No          \n",
      "Mean group size:                     32.6                                                                        \n",
      "-----------------------------------------------------------------------------------------------------------------\n",
      "                                                                  Coef.   Std.Err.   z    P>|z|  [0.025   0.975] \n",
      "-----------------------------------------------------------------------------------------------------------------\n",
      "Intercept                                                         456.967   93.143  4.906 0.000  274.409  639.525\n",
      "metastatic_first_treatment[T.BEVACIZUMAB]                        -134.510   93.778 -1.434 0.151 -318.311   49.291\n",
      "metastatic_first_treatment[T.BLEOMYCIN SULFATE]                   -34.227  147.261 -0.232 0.816 -322.854  254.399\n",
      "metastatic_first_treatment[T.CAPECITABINE]                        -99.950   93.230 -1.072 0.284 -282.678   82.778\n",
      "metastatic_first_treatment[T.CARBOPLATIN]                        -363.777   93.175 -3.904 0.000 -546.396 -181.159\n",
      "metastatic_first_treatment[T.CISPLATIN]                          -204.301   94.408 -2.164 0.030 -389.337  -19.266\n",
      "metastatic_first_treatment[T.CYCLOPHOSPHAMIDE]                   -358.982   93.178 -3.853 0.000 -541.608 -176.357\n",
      "metastatic_first_treatment[T.DOCETAXEL]                          -322.015   93.265 -3.453 0.001 -504.811 -139.218\n",
      "metastatic_first_treatment[T.DOCETAXEL ANHYDROUS]                -359.277   94.278 -3.811 0.000 -544.058 -174.495\n",
      "metastatic_first_treatment[T.DOXORUBICIN HCL]                    -385.412   93.158 -4.137 0.000 -567.998 -202.825\n",
      "metastatic_first_treatment[T.DOXORUBICIN HCL LIPOSOMAL]          -136.791   93.975 -1.456 0.146 -320.979   47.398\n",
      "metastatic_first_treatment[T.DOXORUBICIN HYDROCHLORIDE]          -376.388   93.685 -4.018 0.000 -560.008 -192.768\n",
      "metastatic_first_treatment[T.DRUG ASSAY EVEROLIMUS]              -124.704  147.265 -0.847 0.397 -413.338  163.929\n",
      "metastatic_first_treatment[T.EPIRUBICIN HCL]                     -346.768  147.259 -2.355 0.019 -635.390  -58.146\n",
      "metastatic_first_treatment[T.EPIRUBICIN HYDROCHLORIDE]            -56.724  147.249 -0.385 0.700 -345.327  231.879\n",
      "metastatic_first_treatment[T.ERIBULIN MESYLATE]                  -158.329   93.518 -1.693 0.090 -341.620   24.963\n",
      "metastatic_first_treatment[T.ERLOTINIB HYDROCHLORIDE]            -360.655  123.210 -2.927 0.003 -602.142 -119.169\n",
      "metastatic_first_treatment[T.ETOPOSIDE]                          -340.174  123.201 -2.761 0.006 -581.643  -98.706\n",
      "metastatic_first_treatment[T.EVEROLIMUS]                           12.685   93.416  0.136 0.892 -170.407  195.777\n",
      "metastatic_first_treatment[T.GEMCITABINE HCL]                    -161.643   93.513 -1.729 0.084 -344.926   21.640\n",
      "metastatic_first_treatment[T.GEMCITABINE HYDROCHLORIDE]          -197.106   98.007 -2.011 0.044 -389.195   -5.017\n",
      "metastatic_first_treatment[T.IPILIMUMAB]                         -337.434  131.722 -2.562 0.010 -595.603  -79.264\n",
      "metastatic_first_treatment[T.IRINOTECAN HCL]                     -149.941  102.033 -1.470 0.142 -349.922   50.040\n",
      "metastatic_first_treatment[T.IXABEPILONE]                        -244.164   95.744 -2.550 0.011 -431.819  -56.509\n",
      "metastatic_first_treatment[T.Inj gemcitabine hcl (accord)]        752.587  186.254  4.041 0.000  387.535 1117.638\n",
      "metastatic_first_treatment[T.METHOTREXATE]                       -209.048   95.039 -2.200 0.028 -395.321  -22.775\n",
      "metastatic_first_treatment[T.METHOTREXATE SODIUM]                -175.914   93.993 -1.872 0.061 -360.138    8.309\n",
      "metastatic_first_treatment[T.NIRAPARIB]                          -408.078  186.299 -2.190 0.028 -773.217  -42.938\n",
      "metastatic_first_treatment[T.NIVOLUMAB]                             7.483  102.636  0.073 0.942 -193.681  208.647\n",
      "metastatic_first_treatment[T.PACLITAXEL]                         -310.497   93.192 -3.332 0.001 -493.149 -127.845\n",
      "metastatic_first_treatment[T.PACLITAXEL PROTEIN BOUND PARTICLES] -194.805   93.375 -2.086 0.037 -377.816  -11.794\n",
      "metastatic_first_treatment[T.PAZOPANIB HYDROCHLORIDE]            -228.179  131.714 -1.732 0.083 -486.334   29.976\n",
      "metastatic_first_treatment[T.PEMETREXED DISODIUM]                 -98.771  111.325 -0.887 0.375 -316.963  119.421\n",
      "metastatic_first_treatment[T.PEMETREXED DISODIUM HEPTAHYDRATE]   -439.152  186.278 -2.358 0.018 -804.249  -74.054\n",
      "metastatic_first_treatment[T.RUCAPARIB CAMSYLATE]                 522.091  186.264  2.803 0.005  157.021  887.162\n",
      "metastatic_first_treatment[T.TALAZOPARIB TOSYLATE]               -443.150  186.285 -2.379 0.017 -808.262  -78.039\n",
      "metastatic_first_treatment[T.TEMOZOLOMIDE]                        -85.332  105.079 -0.812 0.417 -291.282  120.619\n",
      "metastatic_first_treatment[T.THALIDOMIDE]                        -263.078  186.218 -1.413 0.158 -628.058  101.903\n",
      "metastatic_first_treatment[T.TOPOTECAN HCL]                       147.040  131.709  1.116 0.264 -111.104  405.184\n",
      "metastatic_first_treatment[T.VINORELBINE TARTRATE]               -130.588   93.746 -1.393 0.164 -314.326   53.150\n",
      "Group Var                                                          82.404    0.200                               \n",
      "=================================================================================================================\n",
      "\n",
      "metastatic_first_treatment_type\n"
     ]
    },
    {
     "name": "stderr",
     "output_type": "stream",
     "text": [
      "/Users/thodsawit/anaconda3/envs/bmi212-wids/lib/python3.11/site-packages/statsmodels/base/model.py:607: ConvergenceWarning: Maximum Likelihood optimization failed to converge. Check mle_retvals\n",
      "  warnings.warn(\"Maximum Likelihood optimization failed to \"\n",
      "/Users/thodsawit/anaconda3/envs/bmi212-wids/lib/python3.11/site-packages/statsmodels/regression/mixed_linear_model.py:2201: ConvergenceWarning: Retrying MixedLM optimization with lbfgs\n",
      "  warnings.warn(\n",
      "/Users/thodsawit/anaconda3/envs/bmi212-wids/lib/python3.11/site-packages/statsmodels/base/model.py:607: ConvergenceWarning: Maximum Likelihood optimization failed to converge. Check mle_retvals\n",
      "  warnings.warn(\"Maximum Likelihood optimization failed to \"\n",
      "/Users/thodsawit/anaconda3/envs/bmi212-wids/lib/python3.11/site-packages/statsmodels/regression/mixed_linear_model.py:2201: ConvergenceWarning: Retrying MixedLM optimization with cg\n",
      "  warnings.warn(\n",
      "/Users/thodsawit/anaconda3/envs/bmi212-wids/lib/python3.11/site-packages/statsmodels/base/model.py:607: ConvergenceWarning: Maximum Likelihood optimization failed to converge. Check mle_retvals\n",
      "  warnings.warn(\"Maximum Likelihood optimization failed to \"\n",
      "/Users/thodsawit/anaconda3/envs/bmi212-wids/lib/python3.11/site-packages/statsmodels/regression/mixed_linear_model.py:2207: ConvergenceWarning: MixedLM optimization failed, trying a different optimizer may help.\n",
      "  warnings.warn(msg, ConvergenceWarning)\n",
      "/Users/thodsawit/anaconda3/envs/bmi212-wids/lib/python3.11/site-packages/statsmodels/regression/mixed_linear_model.py:2219: ConvergenceWarning: Gradient optimization failed, |grad| = 124.893861\n",
      "  warnings.warn(msg, ConvergenceWarning)\n"
     ]
    },
    {
     "name": "stdout",
     "output_type": "stream",
     "text": [
      "                                             Mixed Linear Model Regression Results\n",
      "================================================================================================================================\n",
      "Model:                                    MixedLM                        Dependent Variable:                        treatment_pd\n",
      "No. Observations:                         16650                          Method:                                    REML        \n",
      "No. Groups:                               834                            Scale:                                     45515.3431  \n",
      "Min. group size:                          1                              Log-Likelihood:                            -112910.7111\n",
      "Max. group size:                          236                            Converged:                                 No          \n",
      "Mean group size:                          20.0                                                                                  \n",
      "--------------------------------------------------------------------------------------------------------------------------------\n",
      "                                                                                  Coef.   Std.Err.   z    P>|z|  [0.025   0.975]\n",
      "--------------------------------------------------------------------------------------------------------------------------------\n",
      "Intercept                                                                         351.868  123.284  2.854 0.004  110.237 593.500\n",
      "metastatic_first_treatment_type[T.Antimycobacterials]                            -156.147  246.585 -0.633 0.527 -639.445 327.151\n",
      "metastatic_first_treatment_type[T.Antineoplastics]                               -191.741  123.289 -1.555 0.120 -433.384  49.902\n",
      "metastatic_first_treatment_type[T.Nonsteroidals For Inflammatory Skin Disorders] -115.089  246.566 -0.467 0.641 -598.350 368.172\n",
      "Group Var                                                                          85.425    0.290                              \n",
      "================================================================================================================================\n",
      "\n",
      "metastatic_first_novel_treatment\n",
      "                              Mixed Linear Model Regression Results\n",
      "==================================================================================================\n",
      "Model:                          MixedLM              Dependent Variable:              treatment_pd\n",
      "No. Observations:               233                  Method:                          REML        \n",
      "No. Groups:                     159                  Scale:                           50769.4266  \n",
      "Min. group size:                1                    Log-Likelihood:                  -1610.6739  \n",
      "Max. group size:                10                   Converged:                       Yes         \n",
      "Mean group size:                1.5                                                               \n",
      "--------------------------------------------------------------------------------------------------\n",
      "                                                    Coef.   Std.Err.   z    P>|z|  [0.025   0.975]\n",
      "--------------------------------------------------------------------------------------------------\n",
      "Intercept                                           277.751   24.274 11.442 0.000  230.175 325.328\n",
      "metastatic_first_novel_treatment[T.PEMBROLIZUMAB]   -82.141   32.478 -2.529 0.011 -145.796 -18.486\n",
      "Group Var                                         14794.473   34.941                              \n",
      "==================================================================================================\n",
      "\n",
      "metastatic_first_novel_treatment_type\n",
      "          Mixed Linear Model Regression Results\n",
      "==========================================================\n",
      "Model:            MixedLM Dependent Variable: treatment_pd\n",
      "No. Observations: 233     Method:             REML        \n",
      "No. Groups:       159     Scale:              53327.3783  \n",
      "Min. group size:  1       Log-Likelihood:     -1618.2229  \n",
      "Max. group size:  10      Converged:          Yes         \n",
      "Mean group size:  1.5                                     \n",
      "----------------------------------------------------------\n",
      "             Coef.   Std.Err.   z    P>|z|  [0.025  0.975]\n",
      "----------------------------------------------------------\n",
      "Intercept    237.391   18.323 12.956 0.000 201.478 273.304\n",
      "Group Var  13437.417   33.601                             \n",
      "==========================================================\n",
      "\n",
      "region\n"
     ]
    },
    {
     "name": "stderr",
     "output_type": "stream",
     "text": [
      "/Users/thodsawit/anaconda3/envs/bmi212-wids/lib/python3.11/site-packages/statsmodels/base/model.py:607: ConvergenceWarning: Maximum Likelihood optimization failed to converge. Check mle_retvals\n",
      "  warnings.warn(\"Maximum Likelihood optimization failed to \"\n",
      "/Users/thodsawit/anaconda3/envs/bmi212-wids/lib/python3.11/site-packages/statsmodels/regression/mixed_linear_model.py:2201: ConvergenceWarning: Retrying MixedLM optimization with lbfgs\n",
      "  warnings.warn(\n"
     ]
    },
    {
     "name": "stdout",
     "output_type": "stream",
     "text": [
      "              Mixed Linear Model Regression Results\n",
      "=================================================================\n",
      "Model:               MixedLM   Dependent Variable:   treatment_pd\n",
      "No. Observations:    27451     Method:               REML        \n",
      "No. Groups:          846       Scale:                35127.2159  \n",
      "Min. group size:     1         Log-Likelihood:       -182651.8411\n",
      "Max. group size:     385       Converged:            Yes         \n",
      "Mean group size:     32.4                                        \n",
      "-----------------------------------------------------------------\n",
      "                     Coef.  Std.Err.   z    P>|z|  [0.025  0.975]\n",
      "-----------------------------------------------------------------\n",
      "Intercept           128.296    2.595 49.438 0.000 123.210 133.383\n",
      "region[T.Northeast]  13.783    3.968  3.473 0.001   6.005  21.561\n",
      "region[T.South]       0.393    3.425  0.115 0.909  -6.319   7.106\n",
      "region[T.West]        8.835    3.738  2.364 0.018   1.509  16.161\n",
      "Group Var           145.869    0.282                             \n",
      "=================================================================\n",
      "\n",
      "division\n"
     ]
    },
    {
     "name": "stderr",
     "output_type": "stream",
     "text": [
      "/Users/thodsawit/anaconda3/envs/bmi212-wids/lib/python3.11/site-packages/statsmodels/base/model.py:607: ConvergenceWarning: Maximum Likelihood optimization failed to converge. Check mle_retvals\n",
      "  warnings.warn(\"Maximum Likelihood optimization failed to \"\n",
      "/Users/thodsawit/anaconda3/envs/bmi212-wids/lib/python3.11/site-packages/statsmodels/regression/mixed_linear_model.py:2201: ConvergenceWarning: Retrying MixedLM optimization with lbfgs\n",
      "  warnings.warn(\n",
      "/Users/thodsawit/anaconda3/envs/bmi212-wids/lib/python3.11/site-packages/statsmodels/base/model.py:607: ConvergenceWarning: Maximum Likelihood optimization failed to converge. Check mle_retvals\n",
      "  warnings.warn(\"Maximum Likelihood optimization failed to \"\n",
      "/Users/thodsawit/anaconda3/envs/bmi212-wids/lib/python3.11/site-packages/statsmodels/regression/mixed_linear_model.py:2201: ConvergenceWarning: Retrying MixedLM optimization with cg\n",
      "  warnings.warn(\n",
      "/Users/thodsawit/anaconda3/envs/bmi212-wids/lib/python3.11/site-packages/statsmodels/base/model.py:607: ConvergenceWarning: Maximum Likelihood optimization failed to converge. Check mle_retvals\n",
      "  warnings.warn(\"Maximum Likelihood optimization failed to \"\n",
      "/Users/thodsawit/anaconda3/envs/bmi212-wids/lib/python3.11/site-packages/statsmodels/regression/mixed_linear_model.py:2207: ConvergenceWarning: MixedLM optimization failed, trying a different optimizer may help.\n",
      "  warnings.warn(msg, ConvergenceWarning)\n",
      "/Users/thodsawit/anaconda3/envs/bmi212-wids/lib/python3.11/site-packages/statsmodels/regression/mixed_linear_model.py:2219: ConvergenceWarning: Gradient optimization failed, |grad| = 282.557438\n",
      "  warnings.warn(msg, ConvergenceWarning)\n"
     ]
    },
    {
     "name": "stdout",
     "output_type": "stream",
     "text": [
      "                   Mixed Linear Model Regression Results\n",
      "============================================================================\n",
      "Model:                  MixedLM       Dependent Variable:       treatment_pd\n",
      "No. Observations:       27451         Method:                   REML        \n",
      "No. Groups:             846           Scale:                    35049.6007  \n",
      "Min. group size:        1             Log-Likelihood:           -182630.7221\n",
      "Max. group size:        385           Converged:                No          \n",
      "Mean group size:        32.4                                                \n",
      "----------------------------------------------------------------------------\n",
      "                                Coef.  Std.Err.   z    P>|z|  [0.025  0.975]\n",
      "----------------------------------------------------------------------------\n",
      "Intercept                      129.849    3.130 41.490 0.000 123.715 135.983\n",
      "division[T.East South Central]  -6.079    6.857 -0.886 0.375 -19.519   7.361\n",
      "division[T.Middle Atlantic]     16.375    4.727  3.464 0.001   7.110  25.639\n",
      "division[T.Mountain]            -4.887    6.049 -0.808 0.419 -16.742   6.968\n",
      "division[T.New England]         -7.719    8.024 -0.962 0.336 -23.446   8.008\n",
      "division[T.Pacific]             12.237    4.690  2.609 0.009   3.044  21.430\n",
      "division[T.South Atlantic]       1.898    4.600  0.413 0.680  -7.118  10.914\n",
      "division[T.West North Central]  -9.387    6.386 -1.470 0.142 -21.903   3.128\n",
      "division[T.West South Central]  -3.859    5.052 -0.764 0.445 -13.761   6.044\n",
      "Group Var                      238.716    0.431                             \n",
      "============================================================================\n",
      "\n",
      "population\n"
     ]
    },
    {
     "name": "stderr",
     "output_type": "stream",
     "text": [
      "/Users/thodsawit/anaconda3/envs/bmi212-wids/lib/python3.11/site-packages/statsmodels/base/model.py:607: ConvergenceWarning: Maximum Likelihood optimization failed to converge. Check mle_retvals\n",
      "  warnings.warn(\"Maximum Likelihood optimization failed to \"\n",
      "/Users/thodsawit/anaconda3/envs/bmi212-wids/lib/python3.11/site-packages/statsmodels/regression/mixed_linear_model.py:2201: ConvergenceWarning: Retrying MixedLM optimization with lbfgs\n",
      "  warnings.warn(\n",
      "/Users/thodsawit/anaconda3/envs/bmi212-wids/lib/python3.11/site-packages/statsmodels/base/model.py:607: ConvergenceWarning: Maximum Likelihood optimization failed to converge. Check mle_retvals\n",
      "  warnings.warn(\"Maximum Likelihood optimization failed to \"\n",
      "/Users/thodsawit/anaconda3/envs/bmi212-wids/lib/python3.11/site-packages/statsmodels/regression/mixed_linear_model.py:2201: ConvergenceWarning: Retrying MixedLM optimization with cg\n",
      "  warnings.warn(\n",
      "/Users/thodsawit/anaconda3/envs/bmi212-wids/lib/python3.11/site-packages/statsmodels/base/model.py:607: ConvergenceWarning: Maximum Likelihood optimization failed to converge. Check mle_retvals\n",
      "  warnings.warn(\"Maximum Likelihood optimization failed to \"\n",
      "/Users/thodsawit/anaconda3/envs/bmi212-wids/lib/python3.11/site-packages/statsmodels/regression/mixed_linear_model.py:2207: ConvergenceWarning: MixedLM optimization failed, trying a different optimizer may help.\n",
      "  warnings.warn(msg, ConvergenceWarning)\n",
      "/Users/thodsawit/anaconda3/envs/bmi212-wids/lib/python3.11/site-packages/statsmodels/regression/mixed_linear_model.py:2219: ConvergenceWarning: Gradient optimization failed, |grad| = 129.226397\n",
      "  warnings.warn(msg, ConvergenceWarning)\n"
     ]
    },
    {
     "name": "stdout",
     "output_type": "stream",
     "text": [
      "          Mixed Linear Model Regression Results\n",
      "==========================================================\n",
      "Model:            MixedLM Dependent Variable: treatment_pd\n",
      "No. Observations: 27674   Method:             REML        \n",
      "No. Groups:       849     Scale:              35084.8852  \n",
      "Min. group size:  1       Log-Likelihood:     -184140.7458\n",
      "Max. group size:  385     Converged:          No          \n",
      "Mean group size:  32.6                                    \n",
      "----------------------------------------------------------\n",
      "              Coef.  Std.Err.   z    P>|z|  [0.025  0.975]\n",
      "----------------------------------------------------------\n",
      "Intercept    126.270    2.310 54.655 0.000 121.742 130.798\n",
      "population     0.000    0.000  3.534 0.000   0.000   0.001\n",
      "Group Var    166.604    0.309                             \n",
      "==========================================================\n",
      "\n",
      "density\n"
     ]
    },
    {
     "name": "stderr",
     "output_type": "stream",
     "text": [
      "/Users/thodsawit/anaconda3/envs/bmi212-wids/lib/python3.11/site-packages/statsmodels/base/model.py:607: ConvergenceWarning: Maximum Likelihood optimization failed to converge. Check mle_retvals\n",
      "  warnings.warn(\"Maximum Likelihood optimization failed to \"\n",
      "/Users/thodsawit/anaconda3/envs/bmi212-wids/lib/python3.11/site-packages/statsmodels/regression/mixed_linear_model.py:2201: ConvergenceWarning: Retrying MixedLM optimization with lbfgs\n",
      "  warnings.warn(\n",
      "/Users/thodsawit/anaconda3/envs/bmi212-wids/lib/python3.11/site-packages/statsmodels/base/model.py:607: ConvergenceWarning: Maximum Likelihood optimization failed to converge. Check mle_retvals\n",
      "  warnings.warn(\"Maximum Likelihood optimization failed to \"\n",
      "/Users/thodsawit/anaconda3/envs/bmi212-wids/lib/python3.11/site-packages/statsmodels/regression/mixed_linear_model.py:2201: ConvergenceWarning: Retrying MixedLM optimization with cg\n",
      "  warnings.warn(\n",
      "/Users/thodsawit/anaconda3/envs/bmi212-wids/lib/python3.11/site-packages/statsmodels/base/model.py:607: ConvergenceWarning: Maximum Likelihood optimization failed to converge. Check mle_retvals\n",
      "  warnings.warn(\"Maximum Likelihood optimization failed to \"\n",
      "/Users/thodsawit/anaconda3/envs/bmi212-wids/lib/python3.11/site-packages/statsmodels/regression/mixed_linear_model.py:2207: ConvergenceWarning: MixedLM optimization failed, trying a different optimizer may help.\n",
      "  warnings.warn(msg, ConvergenceWarning)\n",
      "/Users/thodsawit/anaconda3/envs/bmi212-wids/lib/python3.11/site-packages/statsmodels/regression/mixed_linear_model.py:2219: ConvergenceWarning: Gradient optimization failed, |grad| = 73.271212\n",
      "  warnings.warn(msg, ConvergenceWarning)\n"
     ]
    },
    {
     "name": "stdout",
     "output_type": "stream",
     "text": [
      "          Mixed Linear Model Regression Results\n",
      "==========================================================\n",
      "Model:            MixedLM Dependent Variable: treatment_pd\n",
      "No. Observations: 27674   Method:             REML        \n",
      "No. Groups:       849     Scale:              35102.8267  \n",
      "Min. group size:  1       Log-Likelihood:     -184140.3530\n",
      "Max. group size:  385     Converged:          No          \n",
      "Mean group size:  32.6                                    \n",
      "----------------------------------------------------------\n",
      "              Coef.  Std.Err.   z    P>|z|  [0.025  0.975]\n",
      "----------------------------------------------------------\n",
      "Intercept    131.271    1.440 91.131 0.000 128.448 134.095\n",
      "density        0.001    0.000  3.129 0.002   0.000   0.002\n",
      "Group Var    145.826    0.278                             \n",
      "==========================================================\n",
      "\n",
      "age_median\n"
     ]
    },
    {
     "name": "stderr",
     "output_type": "stream",
     "text": [
      "/Users/thodsawit/anaconda3/envs/bmi212-wids/lib/python3.11/site-packages/statsmodels/base/model.py:607: ConvergenceWarning: Maximum Likelihood optimization failed to converge. Check mle_retvals\n",
      "  warnings.warn(\"Maximum Likelihood optimization failed to \"\n",
      "/Users/thodsawit/anaconda3/envs/bmi212-wids/lib/python3.11/site-packages/statsmodels/regression/mixed_linear_model.py:2201: ConvergenceWarning: Retrying MixedLM optimization with lbfgs\n",
      "  warnings.warn(\n",
      "/Users/thodsawit/anaconda3/envs/bmi212-wids/lib/python3.11/site-packages/statsmodels/base/model.py:607: ConvergenceWarning: Maximum Likelihood optimization failed to converge. Check mle_retvals\n",
      "  warnings.warn(\"Maximum Likelihood optimization failed to \"\n",
      "/Users/thodsawit/anaconda3/envs/bmi212-wids/lib/python3.11/site-packages/statsmodels/regression/mixed_linear_model.py:2201: ConvergenceWarning: Retrying MixedLM optimization with cg\n",
      "  warnings.warn(\n",
      "/Users/thodsawit/anaconda3/envs/bmi212-wids/lib/python3.11/site-packages/statsmodels/base/model.py:607: ConvergenceWarning: Maximum Likelihood optimization failed to converge. Check mle_retvals\n",
      "  warnings.warn(\"Maximum Likelihood optimization failed to \"\n",
      "/Users/thodsawit/anaconda3/envs/bmi212-wids/lib/python3.11/site-packages/statsmodels/regression/mixed_linear_model.py:2207: ConvergenceWarning: MixedLM optimization failed, trying a different optimizer may help.\n",
      "  warnings.warn(msg, ConvergenceWarning)\n",
      "/Users/thodsawit/anaconda3/envs/bmi212-wids/lib/python3.11/site-packages/statsmodels/regression/mixed_linear_model.py:2219: ConvergenceWarning: Gradient optimization failed, |grad| = 1.303188\n",
      "  warnings.warn(msg, ConvergenceWarning)\n"
     ]
    },
    {
     "name": "stdout",
     "output_type": "stream",
     "text": [
      "          Mixed Linear Model Regression Results\n",
      "==========================================================\n",
      "Model:            MixedLM Dependent Variable: treatment_pd\n",
      "No. Observations: 27674   Method:             REML        \n",
      "No. Groups:       849     Scale:              35135.1414  \n",
      "Min. group size:  1       Log-Likelihood:     -184138.4930\n",
      "Max. group size:  385     Converged:          No          \n",
      "Mean group size:  32.6                                    \n",
      "----------------------------------------------------------\n",
      "              Coef.  Std.Err.   z    P>|z|  [0.025  0.975]\n",
      "----------------------------------------------------------\n",
      "Intercept    137.659   12.702 10.837 0.000 112.763 162.556\n",
      "age_median    -0.109    0.308 -0.353 0.724  -0.713   0.496\n",
      "Group Var    119.609    0.241                             \n",
      "==========================================================\n",
      "\n",
      "age_under_10\n"
     ]
    },
    {
     "name": "stderr",
     "output_type": "stream",
     "text": [
      "/Users/thodsawit/anaconda3/envs/bmi212-wids/lib/python3.11/site-packages/statsmodels/base/model.py:607: ConvergenceWarning: Maximum Likelihood optimization failed to converge. Check mle_retvals\n",
      "  warnings.warn(\"Maximum Likelihood optimization failed to \"\n",
      "/Users/thodsawit/anaconda3/envs/bmi212-wids/lib/python3.11/site-packages/statsmodels/regression/mixed_linear_model.py:2201: ConvergenceWarning: Retrying MixedLM optimization with lbfgs\n",
      "  warnings.warn(\n",
      "/Users/thodsawit/anaconda3/envs/bmi212-wids/lib/python3.11/site-packages/statsmodels/base/model.py:607: ConvergenceWarning: Maximum Likelihood optimization failed to converge. Check mle_retvals\n",
      "  warnings.warn(\"Maximum Likelihood optimization failed to \"\n",
      "/Users/thodsawit/anaconda3/envs/bmi212-wids/lib/python3.11/site-packages/statsmodels/regression/mixed_linear_model.py:2201: ConvergenceWarning: Retrying MixedLM optimization with cg\n",
      "  warnings.warn(\n",
      "/Users/thodsawit/anaconda3/envs/bmi212-wids/lib/python3.11/site-packages/statsmodels/base/model.py:607: ConvergenceWarning: Maximum Likelihood optimization failed to converge. Check mle_retvals\n",
      "  warnings.warn(\"Maximum Likelihood optimization failed to \"\n",
      "/Users/thodsawit/anaconda3/envs/bmi212-wids/lib/python3.11/site-packages/statsmodels/regression/mixed_linear_model.py:2207: ConvergenceWarning: MixedLM optimization failed, trying a different optimizer may help.\n",
      "  warnings.warn(msg, ConvergenceWarning)\n",
      "/Users/thodsawit/anaconda3/envs/bmi212-wids/lib/python3.11/site-packages/statsmodels/regression/mixed_linear_model.py:2219: ConvergenceWarning: Gradient optimization failed, |grad| = 15.183216\n",
      "  warnings.warn(msg, ConvergenceWarning)\n"
     ]
    },
    {
     "name": "stdout",
     "output_type": "stream",
     "text": [
      "          Mixed Linear Model Regression Results\n",
      "==========================================================\n",
      "Model:            MixedLM Dependent Variable: treatment_pd\n",
      "No. Observations: 27674   Method:             REML        \n",
      "No. Groups:       849     Scale:              35130.1166  \n",
      "Min. group size:  1       Log-Likelihood:     -184136.9039\n",
      "Max. group size:  385     Converged:          No          \n",
      "Mean group size:  32.6                                    \n",
      "----------------------------------------------------------\n",
      "              Coef.  Std.Err.   z    P>|z|  [0.025  0.975]\n",
      "----------------------------------------------------------\n",
      "Intercept    143.689    9.117 15.760 0.000 125.819 161.558\n",
      "age_under_10  -0.952    0.815 -1.167 0.243  -2.550   0.647\n",
      "Group Var    124.018    0.249                             \n",
      "==========================================================\n",
      "\n",
      "age_10_to_19\n"
     ]
    },
    {
     "name": "stderr",
     "output_type": "stream",
     "text": [
      "/Users/thodsawit/anaconda3/envs/bmi212-wids/lib/python3.11/site-packages/statsmodels/base/model.py:607: ConvergenceWarning: Maximum Likelihood optimization failed to converge. Check mle_retvals\n",
      "  warnings.warn(\"Maximum Likelihood optimization failed to \"\n",
      "/Users/thodsawit/anaconda3/envs/bmi212-wids/lib/python3.11/site-packages/statsmodels/regression/mixed_linear_model.py:2201: ConvergenceWarning: Retrying MixedLM optimization with lbfgs\n",
      "  warnings.warn(\n",
      "/Users/thodsawit/anaconda3/envs/bmi212-wids/lib/python3.11/site-packages/statsmodels/base/model.py:607: ConvergenceWarning: Maximum Likelihood optimization failed to converge. Check mle_retvals\n",
      "  warnings.warn(\"Maximum Likelihood optimization failed to \"\n",
      "/Users/thodsawit/anaconda3/envs/bmi212-wids/lib/python3.11/site-packages/statsmodels/regression/mixed_linear_model.py:2201: ConvergenceWarning: Retrying MixedLM optimization with cg\n",
      "  warnings.warn(\n",
      "/Users/thodsawit/anaconda3/envs/bmi212-wids/lib/python3.11/site-packages/statsmodels/base/model.py:607: ConvergenceWarning: Maximum Likelihood optimization failed to converge. Check mle_retvals\n",
      "  warnings.warn(\"Maximum Likelihood optimization failed to \"\n",
      "/Users/thodsawit/anaconda3/envs/bmi212-wids/lib/python3.11/site-packages/statsmodels/regression/mixed_linear_model.py:2207: ConvergenceWarning: MixedLM optimization failed, trying a different optimizer may help.\n",
      "  warnings.warn(msg, ConvergenceWarning)\n",
      "/Users/thodsawit/anaconda3/envs/bmi212-wids/lib/python3.11/site-packages/statsmodels/regression/mixed_linear_model.py:2219: ConvergenceWarning: Gradient optimization failed, |grad| = 42.268870\n",
      "  warnings.warn(msg, ConvergenceWarning)\n"
     ]
    },
    {
     "name": "stdout",
     "output_type": "stream",
     "text": [
      "          Mixed Linear Model Regression Results\n",
      "==========================================================\n",
      "Model:            MixedLM Dependent Variable: treatment_pd\n",
      "No. Observations: 27674   Method:             REML        \n",
      "No. Groups:       849     Scale:              35117.5099  \n",
      "Min. group size:  1       Log-Likelihood:     -184134.8412\n",
      "Max. group size:  385     Converged:          No          \n",
      "Mean group size:  32.6                                    \n",
      "----------------------------------------------------------\n",
      "              Coef.  Std.Err.   z    P>|z|  [0.025  0.975]\n",
      "----------------------------------------------------------\n",
      "Intercept    153.958    8.627 17.846 0.000 137.050 170.866\n",
      "age_10_to_19  -1.616    0.661 -2.445 0.014  -2.912  -0.321\n",
      "Group Var    132.818    0.263                             \n",
      "==========================================================\n",
      "\n",
      "age_20s\n"
     ]
    },
    {
     "name": "stderr",
     "output_type": "stream",
     "text": [
      "/Users/thodsawit/anaconda3/envs/bmi212-wids/lib/python3.11/site-packages/statsmodels/base/model.py:607: ConvergenceWarning: Maximum Likelihood optimization failed to converge. Check mle_retvals\n",
      "  warnings.warn(\"Maximum Likelihood optimization failed to \"\n",
      "/Users/thodsawit/anaconda3/envs/bmi212-wids/lib/python3.11/site-packages/statsmodels/regression/mixed_linear_model.py:2201: ConvergenceWarning: Retrying MixedLM optimization with lbfgs\n",
      "  warnings.warn(\n",
      "/Users/thodsawit/anaconda3/envs/bmi212-wids/lib/python3.11/site-packages/statsmodels/base/model.py:607: ConvergenceWarning: Maximum Likelihood optimization failed to converge. Check mle_retvals\n",
      "  warnings.warn(\"Maximum Likelihood optimization failed to \"\n",
      "/Users/thodsawit/anaconda3/envs/bmi212-wids/lib/python3.11/site-packages/statsmodels/regression/mixed_linear_model.py:2201: ConvergenceWarning: Retrying MixedLM optimization with cg\n",
      "  warnings.warn(\n",
      "/Users/thodsawit/anaconda3/envs/bmi212-wids/lib/python3.11/site-packages/statsmodels/base/model.py:607: ConvergenceWarning: Maximum Likelihood optimization failed to converge. Check mle_retvals\n",
      "  warnings.warn(\"Maximum Likelihood optimization failed to \"\n",
      "/Users/thodsawit/anaconda3/envs/bmi212-wids/lib/python3.11/site-packages/statsmodels/regression/mixed_linear_model.py:2207: ConvergenceWarning: MixedLM optimization failed, trying a different optimizer may help.\n",
      "  warnings.warn(msg, ConvergenceWarning)\n",
      "/Users/thodsawit/anaconda3/envs/bmi212-wids/lib/python3.11/site-packages/statsmodels/regression/mixed_linear_model.py:2219: ConvergenceWarning: Gradient optimization failed, |grad| = 25.500447\n",
      "  warnings.warn(msg, ConvergenceWarning)\n"
     ]
    },
    {
     "name": "stdout",
     "output_type": "stream",
     "text": [
      "          Mixed Linear Model Regression Results\n",
      "==========================================================\n",
      "Model:            MixedLM Dependent Variable: treatment_pd\n",
      "No. Observations: 27674   Method:             REML        \n",
      "No. Groups:       849     Scale:              35127.4528  \n",
      "Min. group size:  1       Log-Likelihood:     -184137.2460\n",
      "Max. group size:  385     Converged:          No          \n",
      "Mean group size:  32.6                                    \n",
      "----------------------------------------------------------\n",
      "              Coef.  Std.Err.   z    P>|z|  [0.025  0.975]\n",
      "----------------------------------------------------------\n",
      "Intercept    125.746    5.173 24.308 0.000 115.607 135.885\n",
      "age_20s        0.570    0.386  1.476 0.140  -0.187   1.326\n",
      "Group Var    126.105    0.255                             \n",
      "==========================================================\n",
      "\n",
      "age_30s\n"
     ]
    },
    {
     "name": "stderr",
     "output_type": "stream",
     "text": [
      "/Users/thodsawit/anaconda3/envs/bmi212-wids/lib/python3.11/site-packages/statsmodels/base/model.py:607: ConvergenceWarning: Maximum Likelihood optimization failed to converge. Check mle_retvals\n",
      "  warnings.warn(\"Maximum Likelihood optimization failed to \"\n",
      "/Users/thodsawit/anaconda3/envs/bmi212-wids/lib/python3.11/site-packages/statsmodels/regression/mixed_linear_model.py:2201: ConvergenceWarning: Retrying MixedLM optimization with lbfgs\n",
      "  warnings.warn(\n"
     ]
    },
    {
     "name": "stdout",
     "output_type": "stream",
     "text": [
      "          Mixed Linear Model Regression Results\n",
      "==========================================================\n",
      "Model:            MixedLM Dependent Variable: treatment_pd\n",
      "No. Observations: 27674   Method:             REML        \n",
      "No. Groups:       849     Scale:              35107.1910  \n",
      "Min. group size:  1       Log-Likelihood:     -184134.0756\n",
      "Max. group size:  385     Converged:          Yes         \n",
      "Mean group size:  32.6                                    \n",
      "----------------------------------------------------------\n",
      "               Coef.  Std.Err.   z    P>|z| [0.025  0.975]\n",
      "----------------------------------------------------------\n",
      "Intercept     113.296    7.099 15.960 0.000 99.383 127.210\n",
      "age_30s         1.572    0.555  2.834 0.005  0.485   2.659\n",
      "Group Var     143.182    0.279                            \n",
      "==========================================================\n",
      "\n",
      "age_40s\n"
     ]
    },
    {
     "name": "stderr",
     "output_type": "stream",
     "text": [
      "/Users/thodsawit/anaconda3/envs/bmi212-wids/lib/python3.11/site-packages/statsmodels/base/model.py:607: ConvergenceWarning: Maximum Likelihood optimization failed to converge. Check mle_retvals\n",
      "  warnings.warn(\"Maximum Likelihood optimization failed to \"\n",
      "/Users/thodsawit/anaconda3/envs/bmi212-wids/lib/python3.11/site-packages/statsmodels/regression/mixed_linear_model.py:2201: ConvergenceWarning: Retrying MixedLM optimization with lbfgs\n",
      "  warnings.warn(\n"
     ]
    },
    {
     "name": "stdout",
     "output_type": "stream",
     "text": [
      "          Mixed Linear Model Regression Results\n",
      "==========================================================\n",
      "Model:            MixedLM Dependent Variable: treatment_pd\n",
      "No. Observations: 27674   Method:             REML        \n",
      "No. Groups:       849     Scale:              35119.8992  \n",
      "Min. group size:  1       Log-Likelihood:     -184135.5585\n",
      "Max. group size:  385     Converged:          Yes         \n",
      "Mean group size:  32.6                                    \n",
      "-----------------------------------------------------------\n",
      "            Coef.   Std.Err.    z    P>|z|  [0.025   0.975]\n",
      "-----------------------------------------------------------\n",
      "Intercept  109.715    12.248  8.957  0.000  85.708  133.721\n",
      "age_40s      1.953     1.017  1.921  0.055  -0.039    3.946\n",
      "Group Var  133.509     0.260                               \n",
      "==========================================================\n",
      "\n",
      "age_50s\n"
     ]
    },
    {
     "name": "stderr",
     "output_type": "stream",
     "text": [
      "/Users/thodsawit/anaconda3/envs/bmi212-wids/lib/python3.11/site-packages/statsmodels/base/model.py:607: ConvergenceWarning: Maximum Likelihood optimization failed to converge. Check mle_retvals\n",
      "  warnings.warn(\"Maximum Likelihood optimization failed to \"\n",
      "/Users/thodsawit/anaconda3/envs/bmi212-wids/lib/python3.11/site-packages/statsmodels/regression/mixed_linear_model.py:2201: ConvergenceWarning: Retrying MixedLM optimization with lbfgs\n",
      "  warnings.warn(\n"
     ]
    },
    {
     "name": "stdout",
     "output_type": "stream",
     "text": [
      "          Mixed Linear Model Regression Results\n",
      "==========================================================\n",
      "Model:            MixedLM Dependent Variable: treatment_pd\n",
      "No. Observations: 27674   Method:             REML        \n",
      "No. Groups:       849     Scale:              35133.2490  \n",
      "Min. group size:  1       Log-Likelihood:     -184137.2840\n",
      "Max. group size:  385     Converged:          Yes         \n",
      "Mean group size:  32.6                                    \n",
      "----------------------------------------------------------\n",
      "              Coef.  Std.Err.   z    P>|z|  [0.025  0.975]\n",
      "----------------------------------------------------------\n",
      "Intercept    124.253   10.209 12.171 0.000 104.244 144.262\n",
      "age_50s        0.657    0.743  0.884 0.377  -0.800   2.114\n",
      "Group Var    120.953    0.241                             \n",
      "==========================================================\n",
      "\n",
      "age_60s\n"
     ]
    },
    {
     "name": "stderr",
     "output_type": "stream",
     "text": [
      "/Users/thodsawit/anaconda3/envs/bmi212-wids/lib/python3.11/site-packages/statsmodels/base/model.py:607: ConvergenceWarning: Maximum Likelihood optimization failed to converge. Check mle_retvals\n",
      "  warnings.warn(\"Maximum Likelihood optimization failed to \"\n",
      "/Users/thodsawit/anaconda3/envs/bmi212-wids/lib/python3.11/site-packages/statsmodels/regression/mixed_linear_model.py:2201: ConvergenceWarning: Retrying MixedLM optimization with lbfgs\n",
      "  warnings.warn(\n",
      "/Users/thodsawit/anaconda3/envs/bmi212-wids/lib/python3.11/site-packages/statsmodels/base/model.py:607: ConvergenceWarning: Maximum Likelihood optimization failed to converge. Check mle_retvals\n",
      "  warnings.warn(\"Maximum Likelihood optimization failed to \"\n",
      "/Users/thodsawit/anaconda3/envs/bmi212-wids/lib/python3.11/site-packages/statsmodels/regression/mixed_linear_model.py:2201: ConvergenceWarning: Retrying MixedLM optimization with cg\n",
      "  warnings.warn(\n",
      "/Users/thodsawit/anaconda3/envs/bmi212-wids/lib/python3.11/site-packages/statsmodels/base/model.py:607: ConvergenceWarning: Maximum Likelihood optimization failed to converge. Check mle_retvals\n",
      "  warnings.warn(\"Maximum Likelihood optimization failed to \"\n",
      "/Users/thodsawit/anaconda3/envs/bmi212-wids/lib/python3.11/site-packages/statsmodels/regression/mixed_linear_model.py:2207: ConvergenceWarning: MixedLM optimization failed, trying a different optimizer may help.\n",
      "  warnings.warn(msg, ConvergenceWarning)\n",
      "/Users/thodsawit/anaconda3/envs/bmi212-wids/lib/python3.11/site-packages/statsmodels/regression/mixed_linear_model.py:2219: ConvergenceWarning: Gradient optimization failed, |grad| = 34.608754\n",
      "  warnings.warn(msg, ConvergenceWarning)\n"
     ]
    },
    {
     "name": "stdout",
     "output_type": "stream",
     "text": [
      "          Mixed Linear Model Regression Results\n",
      "==========================================================\n",
      "Model:            MixedLM Dependent Variable: treatment_pd\n",
      "No. Observations: 27674   Method:             REML        \n",
      "No. Groups:       849     Scale:              35122.8583  \n",
      "Min. group size:  1       Log-Likelihood:     -184136.4754\n",
      "Max. group size:  385     Converged:          No          \n",
      "Mean group size:  32.6                                    \n",
      "----------------------------------------------------------\n",
      "              Coef.  Std.Err.   z    P>|z|  [0.025  0.975]\n",
      "----------------------------------------------------------\n",
      "Intercept    144.571    6.453 22.403 0.000 131.923 157.219\n",
      "age_60s       -0.885    0.489 -1.812 0.070  -1.843   0.072\n",
      "Group Var    130.278    0.259                             \n",
      "==========================================================\n",
      "\n",
      "age_70s\n"
     ]
    },
    {
     "name": "stderr",
     "output_type": "stream",
     "text": [
      "/Users/thodsawit/anaconda3/envs/bmi212-wids/lib/python3.11/site-packages/statsmodels/base/model.py:607: ConvergenceWarning: Maximum Likelihood optimization failed to converge. Check mle_retvals\n",
      "  warnings.warn(\"Maximum Likelihood optimization failed to \"\n",
      "/Users/thodsawit/anaconda3/envs/bmi212-wids/lib/python3.11/site-packages/statsmodels/regression/mixed_linear_model.py:2201: ConvergenceWarning: Retrying MixedLM optimization with lbfgs\n",
      "  warnings.warn(\n",
      "/Users/thodsawit/anaconda3/envs/bmi212-wids/lib/python3.11/site-packages/statsmodels/base/model.py:607: ConvergenceWarning: Maximum Likelihood optimization failed to converge. Check mle_retvals\n",
      "  warnings.warn(\"Maximum Likelihood optimization failed to \"\n",
      "/Users/thodsawit/anaconda3/envs/bmi212-wids/lib/python3.11/site-packages/statsmodels/regression/mixed_linear_model.py:2201: ConvergenceWarning: Retrying MixedLM optimization with cg\n",
      "  warnings.warn(\n",
      "/Users/thodsawit/anaconda3/envs/bmi212-wids/lib/python3.11/site-packages/statsmodels/base/model.py:607: ConvergenceWarning: Maximum Likelihood optimization failed to converge. Check mle_retvals\n",
      "  warnings.warn(\"Maximum Likelihood optimization failed to \"\n",
      "/Users/thodsawit/anaconda3/envs/bmi212-wids/lib/python3.11/site-packages/statsmodels/regression/mixed_linear_model.py:2207: ConvergenceWarning: MixedLM optimization failed, trying a different optimizer may help.\n",
      "  warnings.warn(msg, ConvergenceWarning)\n",
      "/Users/thodsawit/anaconda3/envs/bmi212-wids/lib/python3.11/site-packages/statsmodels/regression/mixed_linear_model.py:2219: ConvergenceWarning: Gradient optimization failed, |grad| = 25.367941\n",
      "  warnings.warn(msg, ConvergenceWarning)\n"
     ]
    },
    {
     "name": "stdout",
     "output_type": "stream",
     "text": [
      "          Mixed Linear Model Regression Results\n",
      "==========================================================\n",
      "Model:            MixedLM Dependent Variable: treatment_pd\n",
      "No. Observations: 27674   Method:             REML        \n",
      "No. Groups:       849     Scale:              35125.9694  \n",
      "Min. group size:  1       Log-Likelihood:     -184136.6667\n",
      "Max. group size:  385     Converged:          No          \n",
      "Mean group size:  32.6                                    \n",
      "----------------------------------------------------------\n",
      "              Coef.  Std.Err.   z    P>|z|  [0.025  0.975]\n",
      "----------------------------------------------------------\n",
      "Intercept    140.404    4.738 29.635 0.000 131.118 149.690\n",
      "age_70s       -0.922    0.578 -1.594 0.111  -2.054   0.211\n",
      "Group Var    127.444    0.254                             \n",
      "==========================================================\n",
      "\n",
      "age_over_80\n"
     ]
    },
    {
     "name": "stderr",
     "output_type": "stream",
     "text": [
      "/Users/thodsawit/anaconda3/envs/bmi212-wids/lib/python3.11/site-packages/statsmodels/base/model.py:607: ConvergenceWarning: Maximum Likelihood optimization failed to converge. Check mle_retvals\n",
      "  warnings.warn(\"Maximum Likelihood optimization failed to \"\n",
      "/Users/thodsawit/anaconda3/envs/bmi212-wids/lib/python3.11/site-packages/statsmodels/regression/mixed_linear_model.py:2201: ConvergenceWarning: Retrying MixedLM optimization with lbfgs\n",
      "  warnings.warn(\n",
      "/Users/thodsawit/anaconda3/envs/bmi212-wids/lib/python3.11/site-packages/statsmodels/base/model.py:607: ConvergenceWarning: Maximum Likelihood optimization failed to converge. Check mle_retvals\n",
      "  warnings.warn(\"Maximum Likelihood optimization failed to \"\n",
      "/Users/thodsawit/anaconda3/envs/bmi212-wids/lib/python3.11/site-packages/statsmodels/regression/mixed_linear_model.py:2201: ConvergenceWarning: Retrying MixedLM optimization with cg\n",
      "  warnings.warn(\n",
      "/Users/thodsawit/anaconda3/envs/bmi212-wids/lib/python3.11/site-packages/statsmodels/base/model.py:607: ConvergenceWarning: Maximum Likelihood optimization failed to converge. Check mle_retvals\n",
      "  warnings.warn(\"Maximum Likelihood optimization failed to \"\n",
      "/Users/thodsawit/anaconda3/envs/bmi212-wids/lib/python3.11/site-packages/statsmodels/regression/mixed_linear_model.py:2207: ConvergenceWarning: MixedLM optimization failed, trying a different optimizer may help.\n",
      "  warnings.warn(msg, ConvergenceWarning)\n",
      "/Users/thodsawit/anaconda3/envs/bmi212-wids/lib/python3.11/site-packages/statsmodels/regression/mixed_linear_model.py:2219: ConvergenceWarning: Gradient optimization failed, |grad| = 2.585812\n",
      "  warnings.warn(msg, ConvergenceWarning)\n"
     ]
    },
    {
     "name": "stdout",
     "output_type": "stream",
     "text": [
      "          Mixed Linear Model Regression Results\n",
      "==========================================================\n",
      "Model:            MixedLM Dependent Variable: treatment_pd\n",
      "No. Observations: 27674   Method:             REML        \n",
      "No. Groups:       849     Scale:              35133.4375  \n",
      "Min. group size:  1       Log-Likelihood:     -184137.2459\n",
      "Max. group size:  385     Converged:          No          \n",
      "Mean group size:  32.6                                    \n",
      "----------------------------------------------------------\n",
      "              Coef.  Std.Err.   z    P>|z|  [0.025  0.975]\n",
      "----------------------------------------------------------\n",
      "Intercept    135.323    4.270 31.694 0.000 126.955 143.692\n",
      "age_over_80   -0.522    0.995 -0.525 0.600  -2.472   1.428\n",
      "Group Var    121.537    0.243                             \n",
      "==========================================================\n",
      "\n",
      "male\n"
     ]
    },
    {
     "name": "stderr",
     "output_type": "stream",
     "text": [
      "/Users/thodsawit/anaconda3/envs/bmi212-wids/lib/python3.11/site-packages/statsmodels/base/model.py:607: ConvergenceWarning: Maximum Likelihood optimization failed to converge. Check mle_retvals\n",
      "  warnings.warn(\"Maximum Likelihood optimization failed to \"\n",
      "/Users/thodsawit/anaconda3/envs/bmi212-wids/lib/python3.11/site-packages/statsmodels/regression/mixed_linear_model.py:2201: ConvergenceWarning: Retrying MixedLM optimization with lbfgs\n",
      "  warnings.warn(\n"
     ]
    },
    {
     "name": "stdout",
     "output_type": "stream",
     "text": [
      "          Mixed Linear Model Regression Results\n",
      "==========================================================\n",
      "Model:            MixedLM Dependent Variable: treatment_pd\n",
      "No. Observations: 27674   Method:             REML        \n",
      "No. Groups:       849     Scale:              35134.6429  \n",
      "Min. group size:  1       Log-Likelihood:     -184137.5888\n",
      "Max. group size:  385     Converged:          Yes         \n",
      "Mean group size:  32.6                                    \n",
      "----------------------------------------------------------\n",
      "               Coef.  Std.Err.   z    P>|z| [0.025  0.975]\n",
      "----------------------------------------------------------\n",
      "Intercept     146.953   38.033  3.864 0.000 72.409 221.496\n",
      "male           -0.274    0.759 -0.362 0.717 -1.761   1.212\n",
      "Group Var     120.233    0.241                            \n",
      "==========================================================\n",
      "\n",
      "female\n"
     ]
    },
    {
     "name": "stderr",
     "output_type": "stream",
     "text": [
      "/Users/thodsawit/anaconda3/envs/bmi212-wids/lib/python3.11/site-packages/statsmodels/base/model.py:607: ConvergenceWarning: Maximum Likelihood optimization failed to converge. Check mle_retvals\n",
      "  warnings.warn(\"Maximum Likelihood optimization failed to \"\n",
      "/Users/thodsawit/anaconda3/envs/bmi212-wids/lib/python3.11/site-packages/statsmodels/regression/mixed_linear_model.py:2201: ConvergenceWarning: Retrying MixedLM optimization with lbfgs\n",
      "  warnings.warn(\n"
     ]
    },
    {
     "name": "stdout",
     "output_type": "stream",
     "text": [
      "          Mixed Linear Model Regression Results\n",
      "==========================================================\n",
      "Model:            MixedLM Dependent Variable: treatment_pd\n",
      "No. Observations: 27674   Method:             REML        \n",
      "No. Groups:       849     Scale:              35134.6430  \n",
      "Min. group size:  1       Log-Likelihood:     -184137.5888\n",
      "Max. group size:  385     Converged:          Yes         \n",
      "Mean group size:  32.6                                    \n",
      "-----------------------------------------------------------\n",
      "            Coef.   Std.Err.    z    P>|z|  [0.025   0.975]\n",
      "-----------------------------------------------------------\n",
      "Intercept  119.503    37.867  3.156  0.002  45.286  193.721\n",
      "female       0.274     0.759  0.362  0.717  -1.212    1.761\n",
      "Group Var  120.233     0.241                               \n",
      "==========================================================\n",
      "\n",
      "married\n"
     ]
    },
    {
     "name": "stderr",
     "output_type": "stream",
     "text": [
      "/Users/thodsawit/anaconda3/envs/bmi212-wids/lib/python3.11/site-packages/statsmodels/base/model.py:607: ConvergenceWarning: Maximum Likelihood optimization failed to converge. Check mle_retvals\n",
      "  warnings.warn(\"Maximum Likelihood optimization failed to \"\n",
      "/Users/thodsawit/anaconda3/envs/bmi212-wids/lib/python3.11/site-packages/statsmodels/regression/mixed_linear_model.py:2201: ConvergenceWarning: Retrying MixedLM optimization with lbfgs\n",
      "  warnings.warn(\n"
     ]
    },
    {
     "name": "stdout",
     "output_type": "stream",
     "text": [
      "          Mixed Linear Model Regression Results\n",
      "==========================================================\n",
      "Model:            MixedLM Dependent Variable: treatment_pd\n",
      "No. Observations: 27674   Method:             REML        \n",
      "No. Groups:       849     Scale:              35119.5896  \n",
      "Min. group size:  1       Log-Likelihood:     -184136.7333\n",
      "Max. group size:  385     Converged:          Yes         \n",
      "Mean group size:  32.6                                    \n",
      "----------------------------------------------------------\n",
      "              Coef.  Std.Err.   z    P>|z|  [0.025  0.975]\n",
      "----------------------------------------------------------\n",
      "Intercept    151.612    8.496 17.846 0.000 134.960 168.263\n",
      "married       -0.383    0.174 -2.203 0.028  -0.724  -0.042\n",
      "Group Var    131.957    0.263                             \n",
      "==========================================================\n",
      "\n",
      "divorced\n"
     ]
    },
    {
     "name": "stderr",
     "output_type": "stream",
     "text": [
      "/Users/thodsawit/anaconda3/envs/bmi212-wids/lib/python3.11/site-packages/statsmodels/base/model.py:607: ConvergenceWarning: Maximum Likelihood optimization failed to converge. Check mle_retvals\n",
      "  warnings.warn(\"Maximum Likelihood optimization failed to \"\n",
      "/Users/thodsawit/anaconda3/envs/bmi212-wids/lib/python3.11/site-packages/statsmodels/regression/mixed_linear_model.py:2201: ConvergenceWarning: Retrying MixedLM optimization with lbfgs\n",
      "  warnings.warn(\n"
     ]
    },
    {
     "name": "stdout",
     "output_type": "stream",
     "text": [
      "          Mixed Linear Model Regression Results\n",
      "==========================================================\n",
      "Model:            MixedLM Dependent Variable: treatment_pd\n",
      "No. Observations: 27674   Method:             REML        \n",
      "No. Groups:       849     Scale:              35069.0489  \n",
      "Min. group size:  1       Log-Likelihood:     -184129.5664\n",
      "Max. group size:  385     Converged:          Yes         \n",
      "Mean group size:  32.6                                    \n",
      "----------------------------------------------------------\n",
      "              Coef.  Std.Err.   z    P>|z|  [0.025  0.975]\n",
      "----------------------------------------------------------\n",
      "Intercept    166.815    8.142 20.489 0.000 150.858 182.772\n",
      "divorced      -2.647    0.625 -4.235 0.000  -3.872  -1.422\n",
      "Group Var    179.629    0.355                             \n",
      "==========================================================\n",
      "\n",
      "never_married\n"
     ]
    },
    {
     "name": "stderr",
     "output_type": "stream",
     "text": [
      "/Users/thodsawit/anaconda3/envs/bmi212-wids/lib/python3.11/site-packages/statsmodels/base/model.py:607: ConvergenceWarning: Maximum Likelihood optimization failed to converge. Check mle_retvals\n",
      "  warnings.warn(\"Maximum Likelihood optimization failed to \"\n",
      "/Users/thodsawit/anaconda3/envs/bmi212-wids/lib/python3.11/site-packages/statsmodels/regression/mixed_linear_model.py:2201: ConvergenceWarning: Retrying MixedLM optimization with lbfgs\n",
      "  warnings.warn(\n",
      "/Users/thodsawit/anaconda3/envs/bmi212-wids/lib/python3.11/site-packages/statsmodels/base/model.py:607: ConvergenceWarning: Maximum Likelihood optimization failed to converge. Check mle_retvals\n",
      "  warnings.warn(\"Maximum Likelihood optimization failed to \"\n",
      "/Users/thodsawit/anaconda3/envs/bmi212-wids/lib/python3.11/site-packages/statsmodels/regression/mixed_linear_model.py:2201: ConvergenceWarning: Retrying MixedLM optimization with cg\n",
      "  warnings.warn(\n",
      "/Users/thodsawit/anaconda3/envs/bmi212-wids/lib/python3.11/site-packages/statsmodels/base/model.py:607: ConvergenceWarning: Maximum Likelihood optimization failed to converge. Check mle_retvals\n",
      "  warnings.warn(\"Maximum Likelihood optimization failed to \"\n",
      "/Users/thodsawit/anaconda3/envs/bmi212-wids/lib/python3.11/site-packages/statsmodels/regression/mixed_linear_model.py:2207: ConvergenceWarning: MixedLM optimization failed, trying a different optimizer may help.\n",
      "  warnings.warn(msg, ConvergenceWarning)\n",
      "/Users/thodsawit/anaconda3/envs/bmi212-wids/lib/python3.11/site-packages/statsmodels/regression/mixed_linear_model.py:2219: ConvergenceWarning: Gradient optimization failed, |grad| = 131.939037\n",
      "  warnings.warn(msg, ConvergenceWarning)\n"
     ]
    },
    {
     "name": "stdout",
     "output_type": "stream",
     "text": [
      "           Mixed Linear Model Regression Results\n",
      "===========================================================\n",
      "Model:             MixedLM Dependent Variable: treatment_pd\n",
      "No. Observations:  27674   Method:             REML        \n",
      "No. Groups:        849     Scale:              35088.2532  \n",
      "Min. group size:   1       Log-Likelihood:     -184133.0102\n",
      "Max. group size:   385     Converged:          No          \n",
      "Mean group size:   32.6                                    \n",
      "-----------------------------------------------------------\n",
      "               Coef.  Std.Err.   z    P>|z|  [0.025  0.975]\n",
      "-----------------------------------------------------------\n",
      "Intercept     113.109    5.654 20.004 0.000 102.027 124.191\n",
      "never_married   0.604    0.167  3.608 0.000   0.276   0.932\n",
      "Group Var     160.763    0.315                             \n",
      "===========================================================\n",
      "\n",
      "widowed\n"
     ]
    },
    {
     "name": "stderr",
     "output_type": "stream",
     "text": [
      "/Users/thodsawit/anaconda3/envs/bmi212-wids/lib/python3.11/site-packages/statsmodels/base/model.py:607: ConvergenceWarning: Maximum Likelihood optimization failed to converge. Check mle_retvals\n",
      "  warnings.warn(\"Maximum Likelihood optimization failed to \"\n",
      "/Users/thodsawit/anaconda3/envs/bmi212-wids/lib/python3.11/site-packages/statsmodels/regression/mixed_linear_model.py:2201: ConvergenceWarning: Retrying MixedLM optimization with lbfgs\n",
      "  warnings.warn(\n"
     ]
    },
    {
     "name": "stdout",
     "output_type": "stream",
     "text": [
      "          Mixed Linear Model Regression Results\n",
      "==========================================================\n",
      "Model:            MixedLM Dependent Variable: treatment_pd\n",
      "No. Observations: 27674   Method:             REML        \n",
      "No. Groups:       849     Scale:              35117.5439  \n",
      "Min. group size:  1       Log-Likelihood:     -184135.5391\n",
      "Max. group size:  385     Converged:          Yes         \n",
      "Mean group size:  32.6                                    \n",
      "----------------------------------------------------------\n",
      "              Coef.  Std.Err.   z    P>|z|  [0.025  0.975]\n",
      "----------------------------------------------------------\n",
      "Intercept    142.971    4.985 28.683 0.000 133.202 152.741\n",
      "widowed       -1.641    0.798 -2.057 0.040  -3.206  -0.077\n",
      "Group Var    135.701    0.267                             \n",
      "==========================================================\n",
      "\n",
      "family_size\n"
     ]
    },
    {
     "name": "stderr",
     "output_type": "stream",
     "text": [
      "/Users/thodsawit/anaconda3/envs/bmi212-wids/lib/python3.11/site-packages/statsmodels/base/model.py:607: ConvergenceWarning: Maximum Likelihood optimization failed to converge. Check mle_retvals\n",
      "  warnings.warn(\"Maximum Likelihood optimization failed to \"\n",
      "/Users/thodsawit/anaconda3/envs/bmi212-wids/lib/python3.11/site-packages/statsmodels/regression/mixed_linear_model.py:2201: ConvergenceWarning: Retrying MixedLM optimization with lbfgs\n",
      "  warnings.warn(\n",
      "/Users/thodsawit/anaconda3/envs/bmi212-wids/lib/python3.11/site-packages/statsmodels/base/model.py:607: ConvergenceWarning: Maximum Likelihood optimization failed to converge. Check mle_retvals\n",
      "  warnings.warn(\"Maximum Likelihood optimization failed to \"\n",
      "/Users/thodsawit/anaconda3/envs/bmi212-wids/lib/python3.11/site-packages/statsmodels/regression/mixed_linear_model.py:2201: ConvergenceWarning: Retrying MixedLM optimization with cg\n",
      "  warnings.warn(\n",
      "/Users/thodsawit/anaconda3/envs/bmi212-wids/lib/python3.11/site-packages/statsmodels/base/model.py:607: ConvergenceWarning: Maximum Likelihood optimization failed to converge. Check mle_retvals\n",
      "  warnings.warn(\"Maximum Likelihood optimization failed to \"\n",
      "/Users/thodsawit/anaconda3/envs/bmi212-wids/lib/python3.11/site-packages/statsmodels/regression/mixed_linear_model.py:2207: ConvergenceWarning: MixedLM optimization failed, trying a different optimizer may help.\n",
      "  warnings.warn(msg, ConvergenceWarning)\n",
      "/Users/thodsawit/anaconda3/envs/bmi212-wids/lib/python3.11/site-packages/statsmodels/regression/mixed_linear_model.py:2219: ConvergenceWarning: Gradient optimization failed, |grad| = 89.287346\n",
      "  warnings.warn(msg, ConvergenceWarning)\n"
     ]
    },
    {
     "name": "stdout",
     "output_type": "stream",
     "text": [
      "          Mixed Linear Model Regression Results\n",
      "==========================================================\n",
      "Model:            MixedLM Dependent Variable: treatment_pd\n",
      "No. Observations: 27671   Method:             REML        \n",
      "No. Groups:       848     Scale:              35088.4700  \n",
      "Min. group size:  1       Log-Likelihood:     -184106.3282\n",
      "Max. group size:  385     Converged:          No          \n",
      "Mean group size:  32.6                                    \n",
      "----------------------------------------------------------\n",
      "                Coef.  Std.Err.   z   P>|z| [0.025  0.975]\n",
      "----------------------------------------------------------\n",
      "Intercept       76.986   18.899 4.074 0.000 39.945 114.026\n",
      "family_size     17.633    5.935 2.971 0.003  6.000  29.265\n",
      "Group Var      149.723    0.287                           \n",
      "==========================================================\n",
      "\n",
      "family_dual_income\n"
     ]
    },
    {
     "name": "stderr",
     "output_type": "stream",
     "text": [
      "/Users/thodsawit/anaconda3/envs/bmi212-wids/lib/python3.11/site-packages/statsmodels/base/model.py:607: ConvergenceWarning: Maximum Likelihood optimization failed to converge. Check mle_retvals\n",
      "  warnings.warn(\"Maximum Likelihood optimization failed to \"\n",
      "/Users/thodsawit/anaconda3/envs/bmi212-wids/lib/python3.11/site-packages/statsmodels/regression/mixed_linear_model.py:2201: ConvergenceWarning: Retrying MixedLM optimization with lbfgs\n",
      "  warnings.warn(\n",
      "/Users/thodsawit/anaconda3/envs/bmi212-wids/lib/python3.11/site-packages/statsmodels/base/model.py:607: ConvergenceWarning: Maximum Likelihood optimization failed to converge. Check mle_retvals\n",
      "  warnings.warn(\"Maximum Likelihood optimization failed to \"\n",
      "/Users/thodsawit/anaconda3/envs/bmi212-wids/lib/python3.11/site-packages/statsmodels/regression/mixed_linear_model.py:2201: ConvergenceWarning: Retrying MixedLM optimization with cg\n",
      "  warnings.warn(\n",
      "/Users/thodsawit/anaconda3/envs/bmi212-wids/lib/python3.11/site-packages/statsmodels/base/model.py:607: ConvergenceWarning: Maximum Likelihood optimization failed to converge. Check mle_retvals\n",
      "  warnings.warn(\"Maximum Likelihood optimization failed to \"\n",
      "/Users/thodsawit/anaconda3/envs/bmi212-wids/lib/python3.11/site-packages/statsmodels/regression/mixed_linear_model.py:2207: ConvergenceWarning: MixedLM optimization failed, trying a different optimizer may help.\n",
      "  warnings.warn(msg, ConvergenceWarning)\n",
      "/Users/thodsawit/anaconda3/envs/bmi212-wids/lib/python3.11/site-packages/statsmodels/regression/mixed_linear_model.py:2219: ConvergenceWarning: Gradient optimization failed, |grad| = 39.611287\n",
      "  warnings.warn(msg, ConvergenceWarning)\n"
     ]
    },
    {
     "name": "stdout",
     "output_type": "stream",
     "text": [
      "             Mixed Linear Model Regression Results\n",
      "===============================================================\n",
      "Model:               MixedLM  Dependent Variable:  treatment_pd\n",
      "No. Observations:    27671    Method:              REML        \n",
      "No. Groups:          848      Scale:               35107.3955  \n",
      "Min. group size:     1        Log-Likelihood:      -184111.9475\n",
      "Max. group size:     385      Converged:           No          \n",
      "Mean group size:     32.6                                      \n",
      "---------------------------------------------------------------\n",
      "                    Coef.  Std.Err.   z    P>|z| [0.025  0.975]\n",
      "---------------------------------------------------------------\n",
      "Intercept          114.307    9.167 12.469 0.000 96.340 132.274\n",
      "family_dual_income   0.366    0.177  2.070 0.038  0.019   0.712\n",
      "Group Var          131.901    0.261                            \n",
      "===============================================================\n",
      "\n",
      "income_household_median\n"
     ]
    },
    {
     "name": "stderr",
     "output_type": "stream",
     "text": [
      "/Users/thodsawit/anaconda3/envs/bmi212-wids/lib/python3.11/site-packages/statsmodels/base/model.py:607: ConvergenceWarning: Maximum Likelihood optimization failed to converge. Check mle_retvals\n",
      "  warnings.warn(\"Maximum Likelihood optimization failed to \"\n",
      "/Users/thodsawit/anaconda3/envs/bmi212-wids/lib/python3.11/site-packages/statsmodels/regression/mixed_linear_model.py:2201: ConvergenceWarning: Retrying MixedLM optimization with lbfgs\n",
      "  warnings.warn(\n",
      "/Users/thodsawit/anaconda3/envs/bmi212-wids/lib/python3.11/site-packages/statsmodels/base/model.py:607: ConvergenceWarning: Maximum Likelihood optimization failed to converge. Check mle_retvals\n",
      "  warnings.warn(\"Maximum Likelihood optimization failed to \"\n",
      "/Users/thodsawit/anaconda3/envs/bmi212-wids/lib/python3.11/site-packages/statsmodels/regression/mixed_linear_model.py:2201: ConvergenceWarning: Retrying MixedLM optimization with cg\n",
      "  warnings.warn(\n",
      "/Users/thodsawit/anaconda3/envs/bmi212-wids/lib/python3.11/site-packages/statsmodels/base/model.py:607: ConvergenceWarning: Maximum Likelihood optimization failed to converge. Check mle_retvals\n",
      "  warnings.warn(\"Maximum Likelihood optimization failed to \"\n",
      "/Users/thodsawit/anaconda3/envs/bmi212-wids/lib/python3.11/site-packages/statsmodels/regression/mixed_linear_model.py:2207: ConvergenceWarning: MixedLM optimization failed, trying a different optimizer may help.\n",
      "  warnings.warn(msg, ConvergenceWarning)\n",
      "/Users/thodsawit/anaconda3/envs/bmi212-wids/lib/python3.11/site-packages/statsmodels/regression/mixed_linear_model.py:2219: ConvergenceWarning: Gradient optimization failed, |grad| = 149.164414\n",
      "  warnings.warn(msg, ConvergenceWarning)\n"
     ]
    },
    {
     "name": "stdout",
     "output_type": "stream",
     "text": [
      "                Mixed Linear Model Regression Results\n",
      "=====================================================================\n",
      "Model:                 MixedLM    Dependent Variable:    treatment_pd\n",
      "No. Observations:      27671      Method:                REML        \n",
      "No. Groups:            848        Scale:                 35060.8019  \n",
      "Min. group size:       1          Log-Likelihood:        -184114.1964\n",
      "Max. group size:       385        Converged:             No          \n",
      "Mean group size:       32.6                                          \n",
      "---------------------------------------------------------------------\n",
      "                         Coef.  Std.Err.   z    P>|z|  [0.025  0.975]\n",
      "---------------------------------------------------------------------\n",
      "Intercept               114.856    4.580 25.077 0.000 105.879 123.833\n",
      "income_household_median   0.000    0.000  4.120 0.000   0.000   0.000\n",
      "Group Var               174.630    0.318                             \n",
      "=====================================================================\n",
      "\n",
      "income_household_under_5\n"
     ]
    },
    {
     "name": "stderr",
     "output_type": "stream",
     "text": [
      "/Users/thodsawit/anaconda3/envs/bmi212-wids/lib/python3.11/site-packages/statsmodels/base/model.py:607: ConvergenceWarning: Maximum Likelihood optimization failed to converge. Check mle_retvals\n",
      "  warnings.warn(\"Maximum Likelihood optimization failed to \"\n",
      "/Users/thodsawit/anaconda3/envs/bmi212-wids/lib/python3.11/site-packages/statsmodels/regression/mixed_linear_model.py:2201: ConvergenceWarning: Retrying MixedLM optimization with lbfgs\n",
      "  warnings.warn(\n"
     ]
    },
    {
     "name": "stdout",
     "output_type": "stream",
     "text": [
      "                Mixed Linear Model Regression Results\n",
      "======================================================================\n",
      "Model:                MixedLM     Dependent Variable:     treatment_pd\n",
      "No. Observations:     27671       Method:                 REML        \n",
      "No. Groups:           848         Scale:                  35117.2854  \n",
      "Min. group size:      1           Log-Likelihood:         -184111.9092\n",
      "Max. group size:      385         Converged:              Yes         \n",
      "Mean group size:      32.6                                            \n",
      "----------------------------------------------------------------------\n",
      "                          Coef.  Std.Err.   z    P>|z|  [0.025  0.975]\n",
      "----------------------------------------------------------------------\n",
      "Intercept                130.223    2.802 46.468 0.000 124.731 135.716\n",
      "income_household_under_5   0.896    0.761  1.178 0.239  -0.595   2.387\n",
      "Group Var                123.820    0.249                             \n",
      "======================================================================\n",
      "\n",
      "income_household_5_to_10\n"
     ]
    },
    {
     "name": "stderr",
     "output_type": "stream",
     "text": [
      "/Users/thodsawit/anaconda3/envs/bmi212-wids/lib/python3.11/site-packages/statsmodels/base/model.py:607: ConvergenceWarning: Maximum Likelihood optimization failed to converge. Check mle_retvals\n",
      "  warnings.warn(\"Maximum Likelihood optimization failed to \"\n",
      "/Users/thodsawit/anaconda3/envs/bmi212-wids/lib/python3.11/site-packages/statsmodels/regression/mixed_linear_model.py:2201: ConvergenceWarning: Retrying MixedLM optimization with lbfgs\n",
      "  warnings.warn(\n",
      "/Users/thodsawit/anaconda3/envs/bmi212-wids/lib/python3.11/site-packages/statsmodels/base/model.py:607: ConvergenceWarning: Maximum Likelihood optimization failed to converge. Check mle_retvals\n",
      "  warnings.warn(\"Maximum Likelihood optimization failed to \"\n",
      "/Users/thodsawit/anaconda3/envs/bmi212-wids/lib/python3.11/site-packages/statsmodels/regression/mixed_linear_model.py:2201: ConvergenceWarning: Retrying MixedLM optimization with cg\n",
      "  warnings.warn(\n",
      "/Users/thodsawit/anaconda3/envs/bmi212-wids/lib/python3.11/site-packages/statsmodels/base/model.py:607: ConvergenceWarning: Maximum Likelihood optimization failed to converge. Check mle_retvals\n",
      "  warnings.warn(\"Maximum Likelihood optimization failed to \"\n",
      "/Users/thodsawit/anaconda3/envs/bmi212-wids/lib/python3.11/site-packages/statsmodels/regression/mixed_linear_model.py:2207: ConvergenceWarning: MixedLM optimization failed, trying a different optimizer may help.\n",
      "  warnings.warn(msg, ConvergenceWarning)\n",
      "/Users/thodsawit/anaconda3/envs/bmi212-wids/lib/python3.11/site-packages/statsmodels/regression/mixed_linear_model.py:2219: ConvergenceWarning: Gradient optimization failed, |grad| = 3.376611\n",
      "  warnings.warn(msg, ConvergenceWarning)\n"
     ]
    },
    {
     "name": "stdout",
     "output_type": "stream",
     "text": [
      "                Mixed Linear Model Regression Results\n",
      "======================================================================\n",
      "Model:                MixedLM     Dependent Variable:     treatment_pd\n",
      "No. Observations:     27671       Method:                 REML        \n",
      "No. Groups:           848         Scale:                  35121.3019  \n",
      "Min. group size:      1           Log-Likelihood:         -184112.1121\n",
      "Max. group size:      385         Converged:              No          \n",
      "Mean group size:      32.6                                            \n",
      "----------------------------------------------------------------------\n",
      "                          Coef.  Std.Err.   z    P>|z|  [0.025  0.975]\n",
      "----------------------------------------------------------------------\n",
      "Intercept                135.087    2.514 53.738 0.000 130.161 140.014\n",
      "income_household_5_to_10  -0.741    0.839 -0.883 0.377  -2.386   0.904\n",
      "Group Var                119.673    0.240                             \n",
      "======================================================================\n",
      "\n",
      "income_household_10_to_15\n"
     ]
    },
    {
     "name": "stderr",
     "output_type": "stream",
     "text": [
      "/Users/thodsawit/anaconda3/envs/bmi212-wids/lib/python3.11/site-packages/statsmodels/base/model.py:607: ConvergenceWarning: Maximum Likelihood optimization failed to converge. Check mle_retvals\n",
      "  warnings.warn(\"Maximum Likelihood optimization failed to \"\n",
      "/Users/thodsawit/anaconda3/envs/bmi212-wids/lib/python3.11/site-packages/statsmodels/regression/mixed_linear_model.py:2201: ConvergenceWarning: Retrying MixedLM optimization with lbfgs\n",
      "  warnings.warn(\n",
      "/Users/thodsawit/anaconda3/envs/bmi212-wids/lib/python3.11/site-packages/statsmodels/base/model.py:607: ConvergenceWarning: Maximum Likelihood optimization failed to converge. Check mle_retvals\n",
      "  warnings.warn(\"Maximum Likelihood optimization failed to \"\n",
      "/Users/thodsawit/anaconda3/envs/bmi212-wids/lib/python3.11/site-packages/statsmodels/regression/mixed_linear_model.py:2201: ConvergenceWarning: Retrying MixedLM optimization with cg\n",
      "  warnings.warn(\n",
      "/Users/thodsawit/anaconda3/envs/bmi212-wids/lib/python3.11/site-packages/statsmodels/base/model.py:607: ConvergenceWarning: Maximum Likelihood optimization failed to converge. Check mle_retvals\n",
      "  warnings.warn(\"Maximum Likelihood optimization failed to \"\n",
      "/Users/thodsawit/anaconda3/envs/bmi212-wids/lib/python3.11/site-packages/statsmodels/regression/mixed_linear_model.py:2207: ConvergenceWarning: MixedLM optimization failed, trying a different optimizer may help.\n",
      "  warnings.warn(msg, ConvergenceWarning)\n",
      "/Users/thodsawit/anaconda3/envs/bmi212-wids/lib/python3.11/site-packages/statsmodels/regression/mixed_linear_model.py:2219: ConvergenceWarning: Gradient optimization failed, |grad| = 12.794716\n",
      "  warnings.warn(msg, ConvergenceWarning)\n"
     ]
    },
    {
     "name": "stdout",
     "output_type": "stream",
     "text": [
      "                 Mixed Linear Model Regression Results\n",
      "=======================================================================\n",
      "Model:                 MixedLM     Dependent Variable:     treatment_pd\n",
      "No. Observations:      27671       Method:                 REML        \n",
      "No. Groups:            848         Scale:                  35122.5722  \n",
      "Min. group size:       1           Log-Likelihood:         -184111.8105\n",
      "Max. group size:       385         Converged:              No          \n",
      "Mean group size:       32.6                                            \n",
      "-----------------------------------------------------------------------\n",
      "                           Coef.  Std.Err.   z    P>|z|  [0.025  0.975]\n",
      "-----------------------------------------------------------------------\n",
      "Intercept                 137.020    3.102 44.165 0.000 130.939 143.101\n",
      "income_household_10_to_15  -0.913    0.678 -1.347 0.178  -2.243   0.416\n",
      "Group Var                 116.393    0.235                             \n",
      "=======================================================================\n",
      "\n",
      "income_household_15_to_20\n"
     ]
    },
    {
     "name": "stderr",
     "output_type": "stream",
     "text": [
      "/Users/thodsawit/anaconda3/envs/bmi212-wids/lib/python3.11/site-packages/statsmodels/base/model.py:607: ConvergenceWarning: Maximum Likelihood optimization failed to converge. Check mle_retvals\n",
      "  warnings.warn(\"Maximum Likelihood optimization failed to \"\n",
      "/Users/thodsawit/anaconda3/envs/bmi212-wids/lib/python3.11/site-packages/statsmodels/regression/mixed_linear_model.py:2201: ConvergenceWarning: Retrying MixedLM optimization with lbfgs\n",
      "  warnings.warn(\n",
      "/Users/thodsawit/anaconda3/envs/bmi212-wids/lib/python3.11/site-packages/statsmodels/base/model.py:607: ConvergenceWarning: Maximum Likelihood optimization failed to converge. Check mle_retvals\n",
      "  warnings.warn(\"Maximum Likelihood optimization failed to \"\n",
      "/Users/thodsawit/anaconda3/envs/bmi212-wids/lib/python3.11/site-packages/statsmodels/regression/mixed_linear_model.py:2201: ConvergenceWarning: Retrying MixedLM optimization with cg\n",
      "  warnings.warn(\n",
      "/Users/thodsawit/anaconda3/envs/bmi212-wids/lib/python3.11/site-packages/statsmodels/base/model.py:607: ConvergenceWarning: Maximum Likelihood optimization failed to converge. Check mle_retvals\n",
      "  warnings.warn(\"Maximum Likelihood optimization failed to \"\n",
      "/Users/thodsawit/anaconda3/envs/bmi212-wids/lib/python3.11/site-packages/statsmodels/regression/mixed_linear_model.py:2207: ConvergenceWarning: MixedLM optimization failed, trying a different optimizer may help.\n",
      "  warnings.warn(msg, ConvergenceWarning)\n",
      "/Users/thodsawit/anaconda3/envs/bmi212-wids/lib/python3.11/site-packages/statsmodels/regression/mixed_linear_model.py:2219: ConvergenceWarning: Gradient optimization failed, |grad| = 62.997451\n",
      "  warnings.warn(msg, ConvergenceWarning)\n"
     ]
    },
    {
     "name": "stdout",
     "output_type": "stream",
     "text": [
      "                 Mixed Linear Model Regression Results\n",
      "=======================================================================\n",
      "Model:                 MixedLM     Dependent Variable:     treatment_pd\n",
      "No. Observations:      27671       Method:                 REML        \n",
      "No. Groups:            848         Scale:                  35092.5000  \n",
      "Min. group size:       1           Log-Likelihood:         -184107.0239\n",
      "Max. group size:       385         Converged:              No          \n",
      "Mean group size:       32.6                                            \n",
      "-----------------------------------------------------------------------\n",
      "                           Coef.  Std.Err.   z    P>|z|  [0.025  0.975]\n",
      "-----------------------------------------------------------------------\n",
      "Intercept                 144.104    3.548 40.611 0.000 137.150 151.059\n",
      "income_household_15_to_20  -2.744    0.820 -3.345 0.001  -4.351  -1.136\n",
      "Group Var                 140.085    0.271                             \n",
      "=======================================================================\n",
      "\n",
      "income_household_20_to_25\n"
     ]
    },
    {
     "name": "stderr",
     "output_type": "stream",
     "text": [
      "/Users/thodsawit/anaconda3/envs/bmi212-wids/lib/python3.11/site-packages/statsmodels/base/model.py:607: ConvergenceWarning: Maximum Likelihood optimization failed to converge. Check mle_retvals\n",
      "  warnings.warn(\"Maximum Likelihood optimization failed to \"\n",
      "/Users/thodsawit/anaconda3/envs/bmi212-wids/lib/python3.11/site-packages/statsmodels/regression/mixed_linear_model.py:2201: ConvergenceWarning: Retrying MixedLM optimization with lbfgs\n",
      "  warnings.warn(\n",
      "/Users/thodsawit/anaconda3/envs/bmi212-wids/lib/python3.11/site-packages/statsmodels/base/model.py:607: ConvergenceWarning: Maximum Likelihood optimization failed to converge. Check mle_retvals\n",
      "  warnings.warn(\"Maximum Likelihood optimization failed to \"\n",
      "/Users/thodsawit/anaconda3/envs/bmi212-wids/lib/python3.11/site-packages/statsmodels/regression/mixed_linear_model.py:2201: ConvergenceWarning: Retrying MixedLM optimization with cg\n",
      "  warnings.warn(\n",
      "/Users/thodsawit/anaconda3/envs/bmi212-wids/lib/python3.11/site-packages/statsmodels/base/model.py:607: ConvergenceWarning: Maximum Likelihood optimization failed to converge. Check mle_retvals\n",
      "  warnings.warn(\"Maximum Likelihood optimization failed to \"\n",
      "/Users/thodsawit/anaconda3/envs/bmi212-wids/lib/python3.11/site-packages/statsmodels/regression/mixed_linear_model.py:2207: ConvergenceWarning: MixedLM optimization failed, trying a different optimizer may help.\n",
      "  warnings.warn(msg, ConvergenceWarning)\n",
      "/Users/thodsawit/anaconda3/envs/bmi212-wids/lib/python3.11/site-packages/statsmodels/regression/mixed_linear_model.py:2219: ConvergenceWarning: Gradient optimization failed, |grad| = 105.058239\n",
      "  warnings.warn(msg, ConvergenceWarning)\n"
     ]
    },
    {
     "name": "stdout",
     "output_type": "stream",
     "text": [
      "                 Mixed Linear Model Regression Results\n",
      "=======================================================================\n",
      "Model:                 MixedLM     Dependent Variable:     treatment_pd\n",
      "No. Observations:      27671       Method:                 REML        \n",
      "No. Groups:            848         Scale:                  35081.7981  \n",
      "Min. group size:       1           Log-Likelihood:         -184107.2455\n",
      "Max. group size:       385         Converged:              No          \n",
      "Mean group size:       32.6                                            \n",
      "-----------------------------------------------------------------------\n",
      "                           Coef.  Std.Err.   z    P>|z|  [0.025  0.975]\n",
      "-----------------------------------------------------------------------\n",
      "Intercept                 145.320    3.967 36.630 0.000 137.544 153.096\n",
      "income_household_20_to_25  -2.956    0.894 -3.305 0.001  -4.709  -1.203\n",
      "Group Var                 155.319    0.295                             \n",
      "=======================================================================\n",
      "\n",
      "income_household_25_to_35\n"
     ]
    },
    {
     "name": "stderr",
     "output_type": "stream",
     "text": [
      "/Users/thodsawit/anaconda3/envs/bmi212-wids/lib/python3.11/site-packages/statsmodels/base/model.py:607: ConvergenceWarning: Maximum Likelihood optimization failed to converge. Check mle_retvals\n",
      "  warnings.warn(\"Maximum Likelihood optimization failed to \"\n",
      "/Users/thodsawit/anaconda3/envs/bmi212-wids/lib/python3.11/site-packages/statsmodels/regression/mixed_linear_model.py:2201: ConvergenceWarning: Retrying MixedLM optimization with lbfgs\n",
      "  warnings.warn(\n"
     ]
    },
    {
     "name": "stdout",
     "output_type": "stream",
     "text": [
      "                 Mixed Linear Model Regression Results\n",
      "=======================================================================\n",
      "Model:                 MixedLM     Dependent Variable:     treatment_pd\n",
      "No. Observations:      27671       Method:                 REML        \n",
      "No. Groups:            848         Scale:                  35048.4398  \n",
      "Min. group size:       1           Log-Likelihood:         -184105.6812\n",
      "Max. group size:       385         Converged:              Yes         \n",
      "Mean group size:       32.6                                            \n",
      "-----------------------------------------------------------------------\n",
      "                           Coef.  Std.Err.   z    P>|z|  [0.025  0.975]\n",
      "-----------------------------------------------------------------------\n",
      "Intercept                 152.583    5.054 30.189 0.000 142.676 162.489\n",
      "income_household_25_to_35  -2.307    0.566 -4.073 0.000  -3.417  -1.197\n",
      "Group Var                 194.156    0.357                             \n",
      "=======================================================================\n",
      "\n",
      "income_household_35_to_50\n"
     ]
    },
    {
     "name": "stderr",
     "output_type": "stream",
     "text": [
      "/Users/thodsawit/anaconda3/envs/bmi212-wids/lib/python3.11/site-packages/statsmodels/base/model.py:607: ConvergenceWarning: Maximum Likelihood optimization failed to converge. Check mle_retvals\n",
      "  warnings.warn(\"Maximum Likelihood optimization failed to \"\n",
      "/Users/thodsawit/anaconda3/envs/bmi212-wids/lib/python3.11/site-packages/statsmodels/regression/mixed_linear_model.py:2201: ConvergenceWarning: Retrying MixedLM optimization with lbfgs\n",
      "  warnings.warn(\n",
      "/Users/thodsawit/anaconda3/envs/bmi212-wids/lib/python3.11/site-packages/statsmodels/base/model.py:607: ConvergenceWarning: Maximum Likelihood optimization failed to converge. Check mle_retvals\n",
      "  warnings.warn(\"Maximum Likelihood optimization failed to \"\n",
      "/Users/thodsawit/anaconda3/envs/bmi212-wids/lib/python3.11/site-packages/statsmodels/regression/mixed_linear_model.py:2201: ConvergenceWarning: Retrying MixedLM optimization with cg\n",
      "  warnings.warn(\n",
      "/Users/thodsawit/anaconda3/envs/bmi212-wids/lib/python3.11/site-packages/statsmodels/base/model.py:607: ConvergenceWarning: Maximum Likelihood optimization failed to converge. Check mle_retvals\n",
      "  warnings.warn(\"Maximum Likelihood optimization failed to \"\n",
      "/Users/thodsawit/anaconda3/envs/bmi212-wids/lib/python3.11/site-packages/statsmodels/regression/mixed_linear_model.py:2207: ConvergenceWarning: MixedLM optimization failed, trying a different optimizer may help.\n",
      "  warnings.warn(msg, ConvergenceWarning)\n",
      "/Users/thodsawit/anaconda3/envs/bmi212-wids/lib/python3.11/site-packages/statsmodels/regression/mixed_linear_model.py:2219: ConvergenceWarning: Gradient optimization failed, |grad| = 273.196443\n",
      "  warnings.warn(msg, ConvergenceWarning)\n"
     ]
    },
    {
     "name": "stdout",
     "output_type": "stream",
     "text": [
      "                 Mixed Linear Model Regression Results\n",
      "=======================================================================\n",
      "Model:                 MixedLM     Dependent Variable:     treatment_pd\n",
      "No. Observations:      27671       Method:                 REML        \n",
      "No. Groups:            848         Scale:                  35012.8899  \n",
      "Min. group size:       1           Log-Likelihood:         -184099.3229\n",
      "Max. group size:       385         Converged:              No          \n",
      "Mean group size:       32.6                                            \n",
      "-----------------------------------------------------------------------\n",
      "                           Coef.  Std.Err.   z    P>|z|  [0.025  0.975]\n",
      "-----------------------------------------------------------------------\n",
      "Intercept                 165.488    6.023 27.477 0.000 153.684 177.293\n",
      "income_household_35_to_50  -2.799    0.500 -5.593 0.000  -3.779  -1.818\n",
      "Group Var                 221.549    0.410                             \n",
      "=======================================================================\n",
      "\n",
      "income_household_50_to_75\n"
     ]
    },
    {
     "name": "stderr",
     "output_type": "stream",
     "text": [
      "/Users/thodsawit/anaconda3/envs/bmi212-wids/lib/python3.11/site-packages/statsmodels/base/model.py:607: ConvergenceWarning: Maximum Likelihood optimization failed to converge. Check mle_retvals\n",
      "  warnings.warn(\"Maximum Likelihood optimization failed to \"\n",
      "/Users/thodsawit/anaconda3/envs/bmi212-wids/lib/python3.11/site-packages/statsmodels/regression/mixed_linear_model.py:2201: ConvergenceWarning: Retrying MixedLM optimization with lbfgs\n",
      "  warnings.warn(\n",
      "/Users/thodsawit/anaconda3/envs/bmi212-wids/lib/python3.11/site-packages/statsmodels/base/model.py:607: ConvergenceWarning: Maximum Likelihood optimization failed to converge. Check mle_retvals\n",
      "  warnings.warn(\"Maximum Likelihood optimization failed to \"\n",
      "/Users/thodsawit/anaconda3/envs/bmi212-wids/lib/python3.11/site-packages/statsmodels/regression/mixed_linear_model.py:2201: ConvergenceWarning: Retrying MixedLM optimization with cg\n",
      "  warnings.warn(\n",
      "/Users/thodsawit/anaconda3/envs/bmi212-wids/lib/python3.11/site-packages/statsmodels/base/model.py:607: ConvergenceWarning: Maximum Likelihood optimization failed to converge. Check mle_retvals\n",
      "  warnings.warn(\"Maximum Likelihood optimization failed to \"\n",
      "/Users/thodsawit/anaconda3/envs/bmi212-wids/lib/python3.11/site-packages/statsmodels/regression/mixed_linear_model.py:2207: ConvergenceWarning: MixedLM optimization failed, trying a different optimizer may help.\n",
      "  warnings.warn(msg, ConvergenceWarning)\n",
      "/Users/thodsawit/anaconda3/envs/bmi212-wids/lib/python3.11/site-packages/statsmodels/regression/mixed_linear_model.py:2219: ConvergenceWarning: Gradient optimization failed, |grad| = 252.697000\n",
      "  warnings.warn(msg, ConvergenceWarning)\n"
     ]
    },
    {
     "name": "stdout",
     "output_type": "stream",
     "text": [
      "                 Mixed Linear Model Regression Results\n",
      "=======================================================================\n",
      "Model:                 MixedLM     Dependent Variable:     treatment_pd\n",
      "No. Observations:      27671       Method:                 REML        \n",
      "No. Groups:            848         Scale:                  35031.9481  \n",
      "Min. group size:       1           Log-Likelihood:         -184104.7400\n",
      "Max. group size:       385         Converged:              No          \n",
      "Mean group size:       32.6                                            \n",
      "-----------------------------------------------------------------------\n",
      "                           Coef.  Std.Err.   z    P>|z|  [0.025  0.975]\n",
      "-----------------------------------------------------------------------\n",
      "Intercept                 168.427    8.127 20.725 0.000 152.499 184.356\n",
      "income_household_50_to_75  -2.106    0.471 -4.467 0.000  -3.030  -1.182\n",
      "Group Var                 213.636    0.398                             \n",
      "=======================================================================\n",
      "\n",
      "income_household_75_to_100\n"
     ]
    },
    {
     "name": "stderr",
     "output_type": "stream",
     "text": [
      "/Users/thodsawit/anaconda3/envs/bmi212-wids/lib/python3.11/site-packages/statsmodels/base/model.py:607: ConvergenceWarning: Maximum Likelihood optimization failed to converge. Check mle_retvals\n",
      "  warnings.warn(\"Maximum Likelihood optimization failed to \"\n",
      "/Users/thodsawit/anaconda3/envs/bmi212-wids/lib/python3.11/site-packages/statsmodels/regression/mixed_linear_model.py:2201: ConvergenceWarning: Retrying MixedLM optimization with lbfgs\n",
      "  warnings.warn(\n",
      "/Users/thodsawit/anaconda3/envs/bmi212-wids/lib/python3.11/site-packages/statsmodels/base/model.py:607: ConvergenceWarning: Maximum Likelihood optimization failed to converge. Check mle_retvals\n",
      "  warnings.warn(\"Maximum Likelihood optimization failed to \"\n",
      "/Users/thodsawit/anaconda3/envs/bmi212-wids/lib/python3.11/site-packages/statsmodels/regression/mixed_linear_model.py:2201: ConvergenceWarning: Retrying MixedLM optimization with cg\n",
      "  warnings.warn(\n",
      "/Users/thodsawit/anaconda3/envs/bmi212-wids/lib/python3.11/site-packages/statsmodels/base/model.py:607: ConvergenceWarning: Maximum Likelihood optimization failed to converge. Check mle_retvals\n",
      "  warnings.warn(\"Maximum Likelihood optimization failed to \"\n",
      "/Users/thodsawit/anaconda3/envs/bmi212-wids/lib/python3.11/site-packages/statsmodels/regression/mixed_linear_model.py:2207: ConvergenceWarning: MixedLM optimization failed, trying a different optimizer may help.\n",
      "  warnings.warn(msg, ConvergenceWarning)\n",
      "/Users/thodsawit/anaconda3/envs/bmi212-wids/lib/python3.11/site-packages/statsmodels/regression/mixed_linear_model.py:2219: ConvergenceWarning: Gradient optimization failed, |grad| = 78.124697\n",
      "  warnings.warn(msg, ConvergenceWarning)\n"
     ]
    },
    {
     "name": "stdout",
     "output_type": "stream",
     "text": [
      "                 Mixed Linear Model Regression Results\n",
      "========================================================================\n",
      "Model:                  MixedLM     Dependent Variable:     treatment_pd\n",
      "No. Observations:       27671       Method:                 REML        \n",
      "No. Groups:             848         Scale:                  35095.1547  \n",
      "Min. group size:        1           Log-Likelihood:         -184109.7380\n",
      "Max. group size:        385         Converged:              No          \n",
      "Mean group size:        32.6                                            \n",
      "------------------------------------------------------------------------\n",
      "                            Coef.  Std.Err.   z    P>|z|  [0.025  0.975]\n",
      "------------------------------------------------------------------------\n",
      "Intercept                  153.554    8.292 18.518 0.000 137.301 169.806\n",
      "income_household_75_to_100  -1.619    0.645 -2.512 0.012  -2.883  -0.356\n",
      "Group Var                  144.867    0.281                             \n",
      "========================================================================\n",
      "\n",
      "income_household_100_to_150\n"
     ]
    },
    {
     "name": "stderr",
     "output_type": "stream",
     "text": [
      "/Users/thodsawit/anaconda3/envs/bmi212-wids/lib/python3.11/site-packages/statsmodels/base/model.py:607: ConvergenceWarning: Maximum Likelihood optimization failed to converge. Check mle_retvals\n",
      "  warnings.warn(\"Maximum Likelihood optimization failed to \"\n",
      "/Users/thodsawit/anaconda3/envs/bmi212-wids/lib/python3.11/site-packages/statsmodels/regression/mixed_linear_model.py:2201: ConvergenceWarning: Retrying MixedLM optimization with lbfgs\n",
      "  warnings.warn(\n"
     ]
    },
    {
     "name": "stdout",
     "output_type": "stream",
     "text": [
      "                  Mixed Linear Model Regression Results\n",
      "=========================================================================\n",
      "Model:                 MixedLM      Dependent Variable:      treatment_pd\n",
      "No. Observations:      27671        Method:                  REML        \n",
      "No. Groups:            848          Scale:                   35105.0144  \n",
      "Min. group size:       1            Log-Likelihood:          -184110.2716\n",
      "Max. group size:       385          Converged:               Yes         \n",
      "Mean group size:       32.6                                              \n",
      "-------------------------------------------------------------------------\n",
      "                             Coef.  Std.Err.   z    P>|z|  [0.025  0.975]\n",
      "-------------------------------------------------------------------------\n",
      "Intercept                   118.347    6.122 19.332 0.000 106.348 130.345\n",
      "income_household_100_to_150   0.943    0.382  2.470 0.014   0.195   1.691\n",
      "Group Var                   132.002    0.257                             \n",
      "=========================================================================\n",
      "\n",
      "income_household_150_over\n"
     ]
    },
    {
     "name": "stderr",
     "output_type": "stream",
     "text": [
      "/Users/thodsawit/anaconda3/envs/bmi212-wids/lib/python3.11/site-packages/statsmodels/base/model.py:607: ConvergenceWarning: Maximum Likelihood optimization failed to converge. Check mle_retvals\n",
      "  warnings.warn(\"Maximum Likelihood optimization failed to \"\n",
      "/Users/thodsawit/anaconda3/envs/bmi212-wids/lib/python3.11/site-packages/statsmodels/regression/mixed_linear_model.py:2201: ConvergenceWarning: Retrying MixedLM optimization with lbfgs\n",
      "  warnings.warn(\n",
      "/Users/thodsawit/anaconda3/envs/bmi212-wids/lib/python3.11/site-packages/statsmodels/base/model.py:607: ConvergenceWarning: Maximum Likelihood optimization failed to converge. Check mle_retvals\n",
      "  warnings.warn(\"Maximum Likelihood optimization failed to \"\n",
      "/Users/thodsawit/anaconda3/envs/bmi212-wids/lib/python3.11/site-packages/statsmodels/regression/mixed_linear_model.py:2201: ConvergenceWarning: Retrying MixedLM optimization with cg\n",
      "  warnings.warn(\n",
      "/Users/thodsawit/anaconda3/envs/bmi212-wids/lib/python3.11/site-packages/statsmodels/base/model.py:607: ConvergenceWarning: Maximum Likelihood optimization failed to converge. Check mle_retvals\n",
      "  warnings.warn(\"Maximum Likelihood optimization failed to \"\n",
      "/Users/thodsawit/anaconda3/envs/bmi212-wids/lib/python3.11/site-packages/statsmodels/regression/mixed_linear_model.py:2207: ConvergenceWarning: MixedLM optimization failed, trying a different optimizer may help.\n",
      "  warnings.warn(msg, ConvergenceWarning)\n",
      "/Users/thodsawit/anaconda3/envs/bmi212-wids/lib/python3.11/site-packages/statsmodels/regression/mixed_linear_model.py:2219: ConvergenceWarning: Gradient optimization failed, |grad| = 232.235563\n",
      "  warnings.warn(msg, ConvergenceWarning)\n"
     ]
    },
    {
     "name": "stdout",
     "output_type": "stream",
     "text": [
      "                 Mixed Linear Model Regression Results\n",
      "=======================================================================\n",
      "Model:                 MixedLM     Dependent Variable:     treatment_pd\n",
      "No. Observations:      27671       Method:                 REML        \n",
      "No. Groups:            848         Scale:                  35031.5384  \n",
      "Min. group size:       1           Log-Likelihood:         -184103.7760\n",
      "Max. group size:       385         Converged:              No          \n",
      "Mean group size:       32.6                                            \n",
      "-----------------------------------------------------------------------\n",
      "                           Coef.  Std.Err.   z    P>|z|  [0.025  0.975]\n",
      "-----------------------------------------------------------------------\n",
      "Intercept                 121.537    2.666 45.595 0.000 116.313 126.762\n",
      "income_household_150_over   0.694    0.142  4.890 0.000   0.416   0.972\n",
      "Group Var                 206.306    0.376                             \n",
      "=======================================================================\n",
      "\n",
      "income_household_six_figure\n"
     ]
    },
    {
     "name": "stderr",
     "output_type": "stream",
     "text": [
      "/Users/thodsawit/anaconda3/envs/bmi212-wids/lib/python3.11/site-packages/statsmodels/base/model.py:607: ConvergenceWarning: Maximum Likelihood optimization failed to converge. Check mle_retvals\n",
      "  warnings.warn(\"Maximum Likelihood optimization failed to \"\n",
      "/Users/thodsawit/anaconda3/envs/bmi212-wids/lib/python3.11/site-packages/statsmodels/regression/mixed_linear_model.py:2201: ConvergenceWarning: Retrying MixedLM optimization with lbfgs\n",
      "  warnings.warn(\n",
      "/Users/thodsawit/anaconda3/envs/bmi212-wids/lib/python3.11/site-packages/statsmodels/base/model.py:607: ConvergenceWarning: Maximum Likelihood optimization failed to converge. Check mle_retvals\n",
      "  warnings.warn(\"Maximum Likelihood optimization failed to \"\n",
      "/Users/thodsawit/anaconda3/envs/bmi212-wids/lib/python3.11/site-packages/statsmodels/regression/mixed_linear_model.py:2201: ConvergenceWarning: Retrying MixedLM optimization with cg\n",
      "  warnings.warn(\n",
      "/Users/thodsawit/anaconda3/envs/bmi212-wids/lib/python3.11/site-packages/statsmodels/base/model.py:607: ConvergenceWarning: Maximum Likelihood optimization failed to converge. Check mle_retvals\n",
      "  warnings.warn(\"Maximum Likelihood optimization failed to \"\n",
      "/Users/thodsawit/anaconda3/envs/bmi212-wids/lib/python3.11/site-packages/statsmodels/regression/mixed_linear_model.py:2207: ConvergenceWarning: MixedLM optimization failed, trying a different optimizer may help.\n",
      "  warnings.warn(msg, ConvergenceWarning)\n",
      "/Users/thodsawit/anaconda3/envs/bmi212-wids/lib/python3.11/site-packages/statsmodels/regression/mixed_linear_model.py:2219: ConvergenceWarning: Gradient optimization failed, |grad| = 196.737615\n",
      "  warnings.warn(msg, ConvergenceWarning)\n"
     ]
    },
    {
     "name": "stdout",
     "output_type": "stream",
     "text": [
      "                  Mixed Linear Model Regression Results\n",
      "=========================================================================\n",
      "Model:                 MixedLM      Dependent Variable:      treatment_pd\n",
      "No. Observations:      27671        Method:                  REML        \n",
      "No. Groups:            848          Scale:                   35043.8113  \n",
      "Min. group size:       1            Log-Likelihood:          -184104.7165\n",
      "Max. group size:       385          Converged:               No          \n",
      "Mean group size:       32.6                                              \n",
      "-------------------------------------------------------------------------\n",
      "                             Coef.  Std.Err.   z    P>|z|  [0.025  0.975]\n",
      "-------------------------------------------------------------------------\n",
      "Intercept                   116.079    3.842 30.211 0.000 108.548 123.610\n",
      "income_household_six_figure   0.526    0.113  4.652 0.000   0.304   0.748\n",
      "Group Var                   191.450    0.349                             \n",
      "=========================================================================\n",
      "\n",
      "income_individual_median\n"
     ]
    },
    {
     "name": "stderr",
     "output_type": "stream",
     "text": [
      "/Users/thodsawit/anaconda3/envs/bmi212-wids/lib/python3.11/site-packages/statsmodels/base/model.py:607: ConvergenceWarning: Maximum Likelihood optimization failed to converge. Check mle_retvals\n",
      "  warnings.warn(\"Maximum Likelihood optimization failed to \"\n",
      "/Users/thodsawit/anaconda3/envs/bmi212-wids/lib/python3.11/site-packages/statsmodels/regression/mixed_linear_model.py:2201: ConvergenceWarning: Retrying MixedLM optimization with lbfgs\n",
      "  warnings.warn(\n",
      "/Users/thodsawit/anaconda3/envs/bmi212-wids/lib/python3.11/site-packages/statsmodels/base/model.py:607: ConvergenceWarning: Maximum Likelihood optimization failed to converge. Check mle_retvals\n",
      "  warnings.warn(\"Maximum Likelihood optimization failed to \"\n",
      "/Users/thodsawit/anaconda3/envs/bmi212-wids/lib/python3.11/site-packages/statsmodels/regression/mixed_linear_model.py:2201: ConvergenceWarning: Retrying MixedLM optimization with cg\n",
      "  warnings.warn(\n",
      "/Users/thodsawit/anaconda3/envs/bmi212-wids/lib/python3.11/site-packages/statsmodels/base/model.py:607: ConvergenceWarning: Maximum Likelihood optimization failed to converge. Check mle_retvals\n",
      "  warnings.warn(\"Maximum Likelihood optimization failed to \"\n",
      "/Users/thodsawit/anaconda3/envs/bmi212-wids/lib/python3.11/site-packages/statsmodels/regression/mixed_linear_model.py:2207: ConvergenceWarning: MixedLM optimization failed, trying a different optimizer may help.\n",
      "  warnings.warn(msg, ConvergenceWarning)\n",
      "/Users/thodsawit/anaconda3/envs/bmi212-wids/lib/python3.11/site-packages/statsmodels/regression/mixed_linear_model.py:2219: ConvergenceWarning: Gradient optimization failed, |grad| = 127.009118\n",
      "  warnings.warn(msg, ConvergenceWarning)\n"
     ]
    },
    {
     "name": "stdout",
     "output_type": "stream",
     "text": [
      "                Mixed Linear Model Regression Results\n",
      "======================================================================\n",
      "Model:                MixedLM     Dependent Variable:     treatment_pd\n",
      "No. Observations:     27674       Method:                 REML        \n",
      "No. Groups:           849         Scale:                  35081.1649  \n",
      "Min. group size:      1           Log-Likelihood:         -184138.7758\n",
      "Max. group size:      385         Converged:              No          \n",
      "Mean group size:      32.6                                            \n",
      "----------------------------------------------------------------------\n",
      "                          Coef.  Std.Err.   z    P>|z|  [0.025  0.975]\n",
      "----------------------------------------------------------------------\n",
      "Intercept                112.128    5.412 20.718 0.000 101.520 122.736\n",
      "income_individual_median   0.001    0.000  3.974 0.000   0.000   0.001\n",
      "Group Var                165.924    0.305                             \n",
      "======================================================================\n",
      "\n",
      "home_ownership\n"
     ]
    },
    {
     "name": "stderr",
     "output_type": "stream",
     "text": [
      "/Users/thodsawit/anaconda3/envs/bmi212-wids/lib/python3.11/site-packages/statsmodels/base/model.py:607: ConvergenceWarning: Maximum Likelihood optimization failed to converge. Check mle_retvals\n",
      "  warnings.warn(\"Maximum Likelihood optimization failed to \"\n",
      "/Users/thodsawit/anaconda3/envs/bmi212-wids/lib/python3.11/site-packages/statsmodels/regression/mixed_linear_model.py:2201: ConvergenceWarning: Retrying MixedLM optimization with lbfgs\n",
      "  warnings.warn(\n"
     ]
    },
    {
     "name": "stdout",
     "output_type": "stream",
     "text": [
      "           Mixed Linear Model Regression Results\n",
      "============================================================\n",
      "Model:              MixedLM Dependent Variable: treatment_pd\n",
      "No. Observations:   27671   Method:             REML        \n",
      "No. Groups:         848     Scale:              35084.5296  \n",
      "Min. group size:    1       Log-Likelihood:     -184110.3735\n",
      "Max. group size:    385     Converged:          Yes         \n",
      "Mean group size:    32.6                                    \n",
      "------------------------------------------------------------\n",
      "                Coef.  Std.Err.   z    P>|z|  [0.025  0.975]\n",
      "------------------------------------------------------------\n",
      "Intercept      152.484    6.587 23.149 0.000 139.574 165.395\n",
      "home_ownership  -0.288    0.095 -3.023 0.003  -0.475  -0.101\n",
      "Group Var      154.691    0.295                             \n",
      "============================================================\n",
      "\n",
      "housing_units\n"
     ]
    },
    {
     "name": "stderr",
     "output_type": "stream",
     "text": [
      "/Users/thodsawit/anaconda3/envs/bmi212-wids/lib/python3.11/site-packages/statsmodels/base/model.py:607: ConvergenceWarning: Maximum Likelihood optimization failed to converge. Check mle_retvals\n",
      "  warnings.warn(\"Maximum Likelihood optimization failed to \"\n",
      "/Users/thodsawit/anaconda3/envs/bmi212-wids/lib/python3.11/site-packages/statsmodels/regression/mixed_linear_model.py:2201: ConvergenceWarning: Retrying MixedLM optimization with lbfgs\n",
      "  warnings.warn(\n",
      "/Users/thodsawit/anaconda3/envs/bmi212-wids/lib/python3.11/site-packages/statsmodels/base/model.py:607: ConvergenceWarning: Maximum Likelihood optimization failed to converge. Check mle_retvals\n",
      "  warnings.warn(\"Maximum Likelihood optimization failed to \"\n",
      "/Users/thodsawit/anaconda3/envs/bmi212-wids/lib/python3.11/site-packages/statsmodels/regression/mixed_linear_model.py:2201: ConvergenceWarning: Retrying MixedLM optimization with cg\n",
      "  warnings.warn(\n",
      "/Users/thodsawit/anaconda3/envs/bmi212-wids/lib/python3.11/site-packages/statsmodels/base/model.py:607: ConvergenceWarning: Maximum Likelihood optimization failed to converge. Check mle_retvals\n",
      "  warnings.warn(\"Maximum Likelihood optimization failed to \"\n",
      "/Users/thodsawit/anaconda3/envs/bmi212-wids/lib/python3.11/site-packages/statsmodels/regression/mixed_linear_model.py:2207: ConvergenceWarning: MixedLM optimization failed, trying a different optimizer may help.\n",
      "  warnings.warn(msg, ConvergenceWarning)\n",
      "/Users/thodsawit/anaconda3/envs/bmi212-wids/lib/python3.11/site-packages/statsmodels/regression/mixed_linear_model.py:2219: ConvergenceWarning: Gradient optimization failed, |grad| = 111.303591\n",
      "  warnings.warn(msg, ConvergenceWarning)\n"
     ]
    },
    {
     "name": "stdout",
     "output_type": "stream",
     "text": [
      "           Mixed Linear Model Regression Results\n",
      "===========================================================\n",
      "Model:             MixedLM Dependent Variable: treatment_pd\n",
      "No. Observations:  27674   Method:             REML        \n",
      "No. Groups:        849     Scale:              35092.0382  \n",
      "Min. group size:   1       Log-Likelihood:     -184140.4959\n",
      "Max. group size:   385     Converged:          No          \n",
      "Mean group size:   32.6                                    \n",
      "-----------------------------------------------------------\n",
      "               Coef.  Std.Err.   z    P>|z|  [0.025  0.975]\n",
      "-----------------------------------------------------------\n",
      "Intercept     126.661    2.341 54.106 0.000 122.072 131.249\n",
      "housing_units   0.001    0.000  3.275 0.001   0.000   0.002\n",
      "Group Var     159.547    0.299                             \n",
      "===========================================================\n",
      "\n",
      "home_value\n"
     ]
    },
    {
     "name": "stderr",
     "output_type": "stream",
     "text": [
      "/Users/thodsawit/anaconda3/envs/bmi212-wids/lib/python3.11/site-packages/statsmodels/base/model.py:607: ConvergenceWarning: Maximum Likelihood optimization failed to converge. Check mle_retvals\n",
      "  warnings.warn(\"Maximum Likelihood optimization failed to \"\n",
      "/Users/thodsawit/anaconda3/envs/bmi212-wids/lib/python3.11/site-packages/statsmodels/regression/mixed_linear_model.py:2201: ConvergenceWarning: Retrying MixedLM optimization with lbfgs\n",
      "  warnings.warn(\n",
      "/Users/thodsawit/anaconda3/envs/bmi212-wids/lib/python3.11/site-packages/statsmodels/base/model.py:607: ConvergenceWarning: Maximum Likelihood optimization failed to converge. Check mle_retvals\n",
      "  warnings.warn(\"Maximum Likelihood optimization failed to \"\n",
      "/Users/thodsawit/anaconda3/envs/bmi212-wids/lib/python3.11/site-packages/statsmodels/regression/mixed_linear_model.py:2201: ConvergenceWarning: Retrying MixedLM optimization with cg\n",
      "  warnings.warn(\n",
      "/Users/thodsawit/anaconda3/envs/bmi212-wids/lib/python3.11/site-packages/statsmodels/base/model.py:607: ConvergenceWarning: Maximum Likelihood optimization failed to converge. Check mle_retvals\n",
      "  warnings.warn(\"Maximum Likelihood optimization failed to \"\n",
      "/Users/thodsawit/anaconda3/envs/bmi212-wids/lib/python3.11/site-packages/statsmodels/regression/mixed_linear_model.py:2207: ConvergenceWarning: MixedLM optimization failed, trying a different optimizer may help.\n",
      "  warnings.warn(msg, ConvergenceWarning)\n",
      "/Users/thodsawit/anaconda3/envs/bmi212-wids/lib/python3.11/site-packages/statsmodels/regression/mixed_linear_model.py:2219: ConvergenceWarning: Gradient optimization failed, |grad| = 218.102693\n",
      "  warnings.warn(msg, ConvergenceWarning)\n"
     ]
    },
    {
     "name": "stdout",
     "output_type": "stream",
     "text": [
      "          Mixed Linear Model Regression Results\n",
      "==========================================================\n",
      "Model:            MixedLM Dependent Variable: treatment_pd\n",
      "No. Observations: 27671   Method:             REML        \n",
      "No. Groups:       848     Scale:              35039.6102  \n",
      "Min. group size:  1       Log-Likelihood:     -184114.9260\n",
      "Max. group size:  385     Converged:          No          \n",
      "Mean group size:  32.6                                    \n",
      "----------------------------------------------------------\n",
      "              Coef.  Std.Err.   z    P>|z|  [0.025  0.975]\n",
      "----------------------------------------------------------\n",
      "Intercept    124.510    2.249 55.368 0.000 120.103 128.918\n",
      "home_value     0.000    0.000  4.620 0.000   0.000   0.000\n",
      "Group Var    198.626    0.370                             \n",
      "==========================================================\n",
      "\n",
      "rent_median\n"
     ]
    },
    {
     "name": "stderr",
     "output_type": "stream",
     "text": [
      "/Users/thodsawit/anaconda3/envs/bmi212-wids/lib/python3.11/site-packages/statsmodels/base/model.py:607: ConvergenceWarning: Maximum Likelihood optimization failed to converge. Check mle_retvals\n",
      "  warnings.warn(\"Maximum Likelihood optimization failed to \"\n",
      "/Users/thodsawit/anaconda3/envs/bmi212-wids/lib/python3.11/site-packages/statsmodels/regression/mixed_linear_model.py:2201: ConvergenceWarning: Retrying MixedLM optimization with lbfgs\n",
      "  warnings.warn(\n",
      "/Users/thodsawit/anaconda3/envs/bmi212-wids/lib/python3.11/site-packages/statsmodels/base/model.py:607: ConvergenceWarning: Maximum Likelihood optimization failed to converge. Check mle_retvals\n",
      "  warnings.warn(\"Maximum Likelihood optimization failed to \"\n",
      "/Users/thodsawit/anaconda3/envs/bmi212-wids/lib/python3.11/site-packages/statsmodels/regression/mixed_linear_model.py:2201: ConvergenceWarning: Retrying MixedLM optimization with cg\n",
      "  warnings.warn(\n",
      "/Users/thodsawit/anaconda3/envs/bmi212-wids/lib/python3.11/site-packages/statsmodels/base/model.py:607: ConvergenceWarning: Maximum Likelihood optimization failed to converge. Check mle_retvals\n",
      "  warnings.warn(\"Maximum Likelihood optimization failed to \"\n",
      "/Users/thodsawit/anaconda3/envs/bmi212-wids/lib/python3.11/site-packages/statsmodels/regression/mixed_linear_model.py:2207: ConvergenceWarning: MixedLM optimization failed, trying a different optimizer may help.\n",
      "  warnings.warn(msg, ConvergenceWarning)\n",
      "/Users/thodsawit/anaconda3/envs/bmi212-wids/lib/python3.11/site-packages/statsmodels/regression/mixed_linear_model.py:2219: ConvergenceWarning: Gradient optimization failed, |grad| = 305.949055\n",
      "  warnings.warn(msg, ConvergenceWarning)\n"
     ]
    },
    {
     "name": "stdout",
     "output_type": "stream",
     "text": [
      "          Mixed Linear Model Regression Results\n",
      "==========================================================\n",
      "Model:            MixedLM Dependent Variable: treatment_pd\n",
      "No. Observations: 27671   Method:             REML        \n",
      "No. Groups:       848     Scale:              35003.9038  \n",
      "Min. group size:  1       Log-Likelihood:     -184105.8001\n",
      "Max. group size:  385     Converged:          No          \n",
      "Mean group size:  32.6                                    \n",
      "----------------------------------------------------------\n",
      "              Coef.  Std.Err.   z    P>|z|  [0.025  0.975]\n",
      "----------------------------------------------------------\n",
      "Intercept    111.678    4.084 27.348 0.000 103.674 119.682\n",
      "rent_median    0.018    0.003  5.450 0.000   0.011   0.024\n",
      "Group Var    240.246    0.440                             \n",
      "==========================================================\n",
      "\n",
      "rent_burden\n"
     ]
    },
    {
     "name": "stderr",
     "output_type": "stream",
     "text": [
      "/Users/thodsawit/anaconda3/envs/bmi212-wids/lib/python3.11/site-packages/statsmodels/base/model.py:607: ConvergenceWarning: Maximum Likelihood optimization failed to converge. Check mle_retvals\n",
      "  warnings.warn(\"Maximum Likelihood optimization failed to \"\n",
      "/Users/thodsawit/anaconda3/envs/bmi212-wids/lib/python3.11/site-packages/statsmodels/regression/mixed_linear_model.py:2201: ConvergenceWarning: Retrying MixedLM optimization with lbfgs\n",
      "  warnings.warn(\n",
      "/Users/thodsawit/anaconda3/envs/bmi212-wids/lib/python3.11/site-packages/statsmodels/base/model.py:607: ConvergenceWarning: Maximum Likelihood optimization failed to converge. Check mle_retvals\n",
      "  warnings.warn(\"Maximum Likelihood optimization failed to \"\n",
      "/Users/thodsawit/anaconda3/envs/bmi212-wids/lib/python3.11/site-packages/statsmodels/regression/mixed_linear_model.py:2201: ConvergenceWarning: Retrying MixedLM optimization with cg\n",
      "  warnings.warn(\n",
      "/Users/thodsawit/anaconda3/envs/bmi212-wids/lib/python3.11/site-packages/statsmodels/base/model.py:607: ConvergenceWarning: Maximum Likelihood optimization failed to converge. Check mle_retvals\n",
      "  warnings.warn(\"Maximum Likelihood optimization failed to \"\n",
      "/Users/thodsawit/anaconda3/envs/bmi212-wids/lib/python3.11/site-packages/statsmodels/regression/mixed_linear_model.py:2207: ConvergenceWarning: MixedLM optimization failed, trying a different optimizer may help.\n",
      "  warnings.warn(msg, ConvergenceWarning)\n",
      "/Users/thodsawit/anaconda3/envs/bmi212-wids/lib/python3.11/site-packages/statsmodels/regression/mixed_linear_model.py:2219: ConvergenceWarning: Gradient optimization failed, |grad| = 250.407232\n",
      "  warnings.warn(msg, ConvergenceWarning)\n"
     ]
    },
    {
     "name": "stdout",
     "output_type": "stream",
     "text": [
      "          Mixed Linear Model Regression Results\n",
      "==========================================================\n",
      "Model:            MixedLM Dependent Variable: treatment_pd\n",
      "No. Observations: 27671   Method:             REML        \n",
      "No. Groups:       848     Scale:              35028.9909  \n",
      "Min. group size:  1       Log-Likelihood:     -184103.5269\n",
      "Max. group size:  385     Converged:          No          \n",
      "Mean group size:  32.6                                    \n",
      "----------------------------------------------------------\n",
      "               Coef.  Std.Err.   z    P>|z| [0.025  0.975]\n",
      "----------------------------------------------------------\n",
      "Intercept      92.045    8.514 10.811 0.000 75.358 108.731\n",
      "rent_burden     1.311    0.271  4.831 0.000  0.779   1.842\n",
      "Group Var     211.423    0.395                            \n",
      "==========================================================\n",
      "\n",
      "education_less_highschool\n"
     ]
    },
    {
     "name": "stderr",
     "output_type": "stream",
     "text": [
      "/Users/thodsawit/anaconda3/envs/bmi212-wids/lib/python3.11/site-packages/statsmodels/base/model.py:607: ConvergenceWarning: Maximum Likelihood optimization failed to converge. Check mle_retvals\n",
      "  warnings.warn(\"Maximum Likelihood optimization failed to \"\n",
      "/Users/thodsawit/anaconda3/envs/bmi212-wids/lib/python3.11/site-packages/statsmodels/regression/mixed_linear_model.py:2201: ConvergenceWarning: Retrying MixedLM optimization with lbfgs\n",
      "  warnings.warn(\n",
      "/Users/thodsawit/anaconda3/envs/bmi212-wids/lib/python3.11/site-packages/statsmodels/base/model.py:607: ConvergenceWarning: Maximum Likelihood optimization failed to converge. Check mle_retvals\n",
      "  warnings.warn(\"Maximum Likelihood optimization failed to \"\n",
      "/Users/thodsawit/anaconda3/envs/bmi212-wids/lib/python3.11/site-packages/statsmodels/regression/mixed_linear_model.py:2201: ConvergenceWarning: Retrying MixedLM optimization with cg\n",
      "  warnings.warn(\n",
      "/Users/thodsawit/anaconda3/envs/bmi212-wids/lib/python3.11/site-packages/statsmodels/base/model.py:607: ConvergenceWarning: Maximum Likelihood optimization failed to converge. Check mle_retvals\n",
      "  warnings.warn(\"Maximum Likelihood optimization failed to \"\n",
      "/Users/thodsawit/anaconda3/envs/bmi212-wids/lib/python3.11/site-packages/statsmodels/regression/mixed_linear_model.py:2207: ConvergenceWarning: MixedLM optimization failed, trying a different optimizer may help.\n",
      "  warnings.warn(msg, ConvergenceWarning)\n",
      "/Users/thodsawit/anaconda3/envs/bmi212-wids/lib/python3.11/site-packages/statsmodels/regression/mixed_linear_model.py:2219: ConvergenceWarning: Gradient optimization failed, |grad| = 10.607639\n",
      "  warnings.warn(msg, ConvergenceWarning)\n"
     ]
    },
    {
     "name": "stdout",
     "output_type": "stream",
     "text": [
      "                 Mixed Linear Model Regression Results\n",
      "=======================================================================\n",
      "Model:                 MixedLM     Dependent Variable:     treatment_pd\n",
      "No. Observations:      27674       Method:                 REML        \n",
      "No. Groups:            849         Scale:                  35137.7771  \n",
      "Min. group size:       1           Log-Likelihood:         -184138.7796\n",
      "Max. group size:       385         Converged:              No          \n",
      "Mean group size:       32.6                                            \n",
      "-----------------------------------------------------------------------\n",
      "                           Coef.  Std.Err.   z    P>|z|  [0.025  0.975]\n",
      "-----------------------------------------------------------------------\n",
      "Intercept                 133.334    3.159 42.205 0.000 127.142 139.526\n",
      "education_less_highschool  -0.010    0.247 -0.039 0.969  -0.494   0.475\n",
      "Group Var                 116.473    0.237                             \n",
      "=======================================================================\n",
      "\n",
      "education_highschool\n"
     ]
    },
    {
     "name": "stderr",
     "output_type": "stream",
     "text": [
      "/Users/thodsawit/anaconda3/envs/bmi212-wids/lib/python3.11/site-packages/statsmodels/base/model.py:607: ConvergenceWarning: Maximum Likelihood optimization failed to converge. Check mle_retvals\n",
      "  warnings.warn(\"Maximum Likelihood optimization failed to \"\n",
      "/Users/thodsawit/anaconda3/envs/bmi212-wids/lib/python3.11/site-packages/statsmodels/regression/mixed_linear_model.py:2201: ConvergenceWarning: Retrying MixedLM optimization with lbfgs\n",
      "  warnings.warn(\n",
      "/Users/thodsawit/anaconda3/envs/bmi212-wids/lib/python3.11/site-packages/statsmodels/base/model.py:607: ConvergenceWarning: Maximum Likelihood optimization failed to converge. Check mle_retvals\n",
      "  warnings.warn(\"Maximum Likelihood optimization failed to \"\n",
      "/Users/thodsawit/anaconda3/envs/bmi212-wids/lib/python3.11/site-packages/statsmodels/regression/mixed_linear_model.py:2201: ConvergenceWarning: Retrying MixedLM optimization with cg\n",
      "  warnings.warn(\n",
      "/Users/thodsawit/anaconda3/envs/bmi212-wids/lib/python3.11/site-packages/statsmodels/base/model.py:607: ConvergenceWarning: Maximum Likelihood optimization failed to converge. Check mle_retvals\n",
      "  warnings.warn(\"Maximum Likelihood optimization failed to \"\n",
      "/Users/thodsawit/anaconda3/envs/bmi212-wids/lib/python3.11/site-packages/statsmodels/regression/mixed_linear_model.py:2207: ConvergenceWarning: MixedLM optimization failed, trying a different optimizer may help.\n",
      "  warnings.warn(msg, ConvergenceWarning)\n",
      "/Users/thodsawit/anaconda3/envs/bmi212-wids/lib/python3.11/site-packages/statsmodels/regression/mixed_linear_model.py:2219: ConvergenceWarning: Gradient optimization failed, |grad| = 163.021071\n",
      "  warnings.warn(msg, ConvergenceWarning)\n"
     ]
    },
    {
     "name": "stdout",
     "output_type": "stream",
     "text": [
      "              Mixed Linear Model Regression Results\n",
      "==================================================================\n",
      "Model:                MixedLM   Dependent Variable:   treatment_pd\n",
      "No. Observations:     27674     Method:               REML        \n",
      "No. Groups:           849       Scale:                35076.2163  \n",
      "Min. group size:      1         Log-Likelihood:       -184132.3088\n",
      "Max. group size:      385       Converged:            No          \n",
      "Mean group size:      32.6                                        \n",
      "------------------------------------------------------------------\n",
      "                      Coef.  Std.Err.   z    P>|z|  [0.025  0.975]\n",
      "------------------------------------------------------------------\n",
      "Intercept            150.982    4.864 31.041 0.000 141.449 160.516\n",
      "education_highschool  -0.628    0.162 -3.873 0.000  -0.946  -0.310\n",
      "Group Var            174.630    0.331                             \n",
      "==================================================================\n",
      "\n",
      "education_some_college\n"
     ]
    },
    {
     "name": "stderr",
     "output_type": "stream",
     "text": [
      "/Users/thodsawit/anaconda3/envs/bmi212-wids/lib/python3.11/site-packages/statsmodels/base/model.py:607: ConvergenceWarning: Maximum Likelihood optimization failed to converge. Check mle_retvals\n",
      "  warnings.warn(\"Maximum Likelihood optimization failed to \"\n",
      "/Users/thodsawit/anaconda3/envs/bmi212-wids/lib/python3.11/site-packages/statsmodels/regression/mixed_linear_model.py:2201: ConvergenceWarning: Retrying MixedLM optimization with lbfgs\n",
      "  warnings.warn(\n"
     ]
    },
    {
     "name": "stdout",
     "output_type": "stream",
     "text": [
      "               Mixed Linear Model Regression Results\n",
      "====================================================================\n",
      "Model:                MixedLM    Dependent Variable:    treatment_pd\n",
      "No. Observations:     27674      Method:                REML        \n",
      "No. Groups:           849        Scale:                 35103.3418  \n",
      "Min. group size:      1          Log-Likelihood:        -184134.9405\n",
      "Max. group size:      385        Converged:             Yes         \n",
      "Mean group size:      32.6                                          \n",
      "--------------------------------------------------------------------\n",
      "                        Coef.  Std.Err.   z    P>|z|  [0.025  0.975]\n",
      "--------------------------------------------------------------------\n",
      "Intercept              153.786    7.462 20.609 0.000 139.160 168.411\n",
      "education_some_college  -0.721    0.255 -2.824 0.005  -1.222  -0.221\n",
      "Group Var              148.576    0.280                             \n",
      "====================================================================\n",
      "\n",
      "education_bachelors\n"
     ]
    },
    {
     "name": "stderr",
     "output_type": "stream",
     "text": [
      "/Users/thodsawit/anaconda3/envs/bmi212-wids/lib/python3.11/site-packages/statsmodels/base/model.py:607: ConvergenceWarning: Maximum Likelihood optimization failed to converge. Check mle_retvals\n",
      "  warnings.warn(\"Maximum Likelihood optimization failed to \"\n",
      "/Users/thodsawit/anaconda3/envs/bmi212-wids/lib/python3.11/site-packages/statsmodels/regression/mixed_linear_model.py:2201: ConvergenceWarning: Retrying MixedLM optimization with lbfgs\n",
      "  warnings.warn(\n"
     ]
    },
    {
     "name": "stdout",
     "output_type": "stream",
     "text": [
      "              Mixed Linear Model Regression Results\n",
      "=================================================================\n",
      "Model:               MixedLM   Dependent Variable:   treatment_pd\n",
      "No. Observations:    27674     Method:               REML        \n",
      "No. Groups:          849       Scale:                35089.5347  \n",
      "Min. group size:     1         Log-Likelihood:       -184132.9307\n",
      "Max. group size:     385       Converged:            Yes         \n",
      "Mean group size:     32.6                                        \n",
      "-----------------------------------------------------------------\n",
      "                     Coef.  Std.Err.   z    P>|z|  [0.025  0.975]\n",
      "-----------------------------------------------------------------\n",
      "Intercept           119.445    4.010 29.789 0.000 111.586 127.304\n",
      "education_bachelors   0.720    0.201  3.576 0.000   0.325   1.115\n",
      "Group Var           159.398    0.300                             \n",
      "=================================================================\n",
      "\n",
      "education_graduate\n"
     ]
    },
    {
     "name": "stderr",
     "output_type": "stream",
     "text": [
      "/Users/thodsawit/anaconda3/envs/bmi212-wids/lib/python3.11/site-packages/statsmodels/base/model.py:607: ConvergenceWarning: Maximum Likelihood optimization failed to converge. Check mle_retvals\n",
      "  warnings.warn(\"Maximum Likelihood optimization failed to \"\n",
      "/Users/thodsawit/anaconda3/envs/bmi212-wids/lib/python3.11/site-packages/statsmodels/regression/mixed_linear_model.py:2201: ConvergenceWarning: Retrying MixedLM optimization with lbfgs\n",
      "  warnings.warn(\n"
     ]
    },
    {
     "name": "stdout",
     "output_type": "stream",
     "text": [
      "             Mixed Linear Model Regression Results\n",
      "================================================================\n",
      "Model:              MixedLM   Dependent Variable:   treatment_pd\n",
      "No. Observations:   27674     Method:               REML        \n",
      "No. Groups:         849       Scale:                35086.5067  \n",
      "Min. group size:    1         Log-Likelihood:       -184132.4758\n",
      "Max. group size:    385       Converged:            Yes         \n",
      "Mean group size:    32.6                                        \n",
      "----------------------------------------------------------------\n",
      "                    Coef.  Std.Err.   z    P>|z|  [0.025  0.975]\n",
      "----------------------------------------------------------------\n",
      "Intercept          123.769    2.814 43.977 0.000 118.253 129.285\n",
      "education_graduate   0.768    0.207  3.705 0.000   0.362   1.174\n",
      "Group Var          162.022    0.303                             \n",
      "================================================================\n",
      "\n",
      "education_college_or_above\n"
     ]
    },
    {
     "name": "stderr",
     "output_type": "stream",
     "text": [
      "/Users/thodsawit/anaconda3/envs/bmi212-wids/lib/python3.11/site-packages/statsmodels/base/model.py:607: ConvergenceWarning: Maximum Likelihood optimization failed to converge. Check mle_retvals\n",
      "  warnings.warn(\"Maximum Likelihood optimization failed to \"\n",
      "/Users/thodsawit/anaconda3/envs/bmi212-wids/lib/python3.11/site-packages/statsmodels/regression/mixed_linear_model.py:2201: ConvergenceWarning: Retrying MixedLM optimization with lbfgs\n",
      "  warnings.warn(\n"
     ]
    },
    {
     "name": "stdout",
     "output_type": "stream",
     "text": [
      "                 Mixed Linear Model Regression Results\n",
      "========================================================================\n",
      "Model:                  MixedLM     Dependent Variable:     treatment_pd\n",
      "No. Observations:       27674       Method:                 REML        \n",
      "No. Groups:             849         Scale:                  35084.6780  \n",
      "Min. group size:        1           Log-Likelihood:         -184132.9314\n",
      "Max. group size:        385         Converged:              Yes         \n",
      "Mean group size:        32.6                                            \n",
      "------------------------------------------------------------------------\n",
      "                            Coef.  Std.Err.   z    P>|z|  [0.025  0.975]\n",
      "------------------------------------------------------------------------\n",
      "Intercept                  120.637    3.527 34.203 0.000 113.724 127.550\n",
      "education_college_or_above   0.400    0.106  3.771 0.000   0.192   0.609\n",
      "Group Var                  163.767    0.306                             \n",
      "========================================================================\n",
      "\n",
      "education_stem_degree\n"
     ]
    },
    {
     "name": "stderr",
     "output_type": "stream",
     "text": [
      "/Users/thodsawit/anaconda3/envs/bmi212-wids/lib/python3.11/site-packages/statsmodels/base/model.py:607: ConvergenceWarning: Maximum Likelihood optimization failed to converge. Check mle_retvals\n",
      "  warnings.warn(\"Maximum Likelihood optimization failed to \"\n",
      "/Users/thodsawit/anaconda3/envs/bmi212-wids/lib/python3.11/site-packages/statsmodels/regression/mixed_linear_model.py:2201: ConvergenceWarning: Retrying MixedLM optimization with lbfgs\n",
      "  warnings.warn(\n"
     ]
    },
    {
     "name": "stdout",
     "output_type": "stream",
     "text": [
      "              Mixed Linear Model Regression Results\n",
      "=================================================================\n",
      "Model:               MixedLM   Dependent Variable:   treatment_pd\n",
      "No. Observations:    27674     Method:               REML        \n",
      "No. Groups:          849       Scale:                35127.6523  \n",
      "Min. group size:     1         Log-Likelihood:       -184136.9426\n",
      "Max. group size:     385       Converged:            Yes         \n",
      "Mean group size:     32.6                                        \n",
      "-----------------------------------------------------------------\n",
      "                       Coef.  Std.Err.   z   P>|z| [0.025  0.975]\n",
      "-----------------------------------------------------------------\n",
      "Intercept             111.322   11.788 9.443 0.000 88.217 134.427\n",
      "education_stem_degree   0.507    0.272 1.866 0.062 -0.025   1.039\n",
      "Group Var             123.721    0.246                           \n",
      "=================================================================\n",
      "\n",
      "labor_force_participation\n"
     ]
    },
    {
     "name": "stderr",
     "output_type": "stream",
     "text": [
      "/Users/thodsawit/anaconda3/envs/bmi212-wids/lib/python3.11/site-packages/statsmodels/base/model.py:607: ConvergenceWarning: Maximum Likelihood optimization failed to converge. Check mle_retvals\n",
      "  warnings.warn(\"Maximum Likelihood optimization failed to \"\n",
      "/Users/thodsawit/anaconda3/envs/bmi212-wids/lib/python3.11/site-packages/statsmodels/regression/mixed_linear_model.py:2201: ConvergenceWarning: Retrying MixedLM optimization with lbfgs\n",
      "  warnings.warn(\n",
      "/Users/thodsawit/anaconda3/envs/bmi212-wids/lib/python3.11/site-packages/statsmodels/base/model.py:607: ConvergenceWarning: Maximum Likelihood optimization failed to converge. Check mle_retvals\n",
      "  warnings.warn(\"Maximum Likelihood optimization failed to \"\n",
      "/Users/thodsawit/anaconda3/envs/bmi212-wids/lib/python3.11/site-packages/statsmodels/regression/mixed_linear_model.py:2201: ConvergenceWarning: Retrying MixedLM optimization with cg\n",
      "  warnings.warn(\n",
      "/Users/thodsawit/anaconda3/envs/bmi212-wids/lib/python3.11/site-packages/statsmodels/base/model.py:607: ConvergenceWarning: Maximum Likelihood optimization failed to converge. Check mle_retvals\n",
      "  warnings.warn(\"Maximum Likelihood optimization failed to \"\n",
      "/Users/thodsawit/anaconda3/envs/bmi212-wids/lib/python3.11/site-packages/statsmodels/regression/mixed_linear_model.py:2207: ConvergenceWarning: MixedLM optimization failed, trying a different optimizer may help.\n",
      "  warnings.warn(msg, ConvergenceWarning)\n",
      "/Users/thodsawit/anaconda3/envs/bmi212-wids/lib/python3.11/site-packages/statsmodels/regression/mixed_linear_model.py:2219: ConvergenceWarning: Gradient optimization failed, |grad| = 43.021268\n",
      "  warnings.warn(msg, ConvergenceWarning)\n"
     ]
    },
    {
     "name": "stdout",
     "output_type": "stream",
     "text": [
      "                Mixed Linear Model Regression Results\n",
      "=====================================================================\n",
      "Model:                 MixedLM    Dependent Variable:    treatment_pd\n",
      "No. Observations:      27674      Method:                REML        \n",
      "No. Groups:            849        Scale:                 35117.7119  \n",
      "Min. group size:       1          Log-Likelihood:        -184136.2842\n",
      "Max. group size:       385        Converged:             No          \n",
      "Mean group size:       32.6                                          \n",
      "---------------------------------------------------------------------\n",
      "                           Coef.  Std.Err.   z   P>|z| [0.025  0.975]\n",
      "---------------------------------------------------------------------\n",
      "Intercept                 103.970   12.551 8.284 0.000 79.372 128.569\n",
      "labor_force_participation   0.476    0.204 2.335 0.020  0.076   0.876\n",
      "Group Var                 133.440    0.262                           \n",
      "=====================================================================\n",
      "\n",
      "unemployment_rate\n"
     ]
    },
    {
     "name": "stderr",
     "output_type": "stream",
     "text": [
      "/Users/thodsawit/anaconda3/envs/bmi212-wids/lib/python3.11/site-packages/statsmodels/base/model.py:607: ConvergenceWarning: Maximum Likelihood optimization failed to converge. Check mle_retvals\n",
      "  warnings.warn(\"Maximum Likelihood optimization failed to \"\n",
      "/Users/thodsawit/anaconda3/envs/bmi212-wids/lib/python3.11/site-packages/statsmodels/regression/mixed_linear_model.py:2201: ConvergenceWarning: Retrying MixedLM optimization with lbfgs\n",
      "  warnings.warn(\n"
     ]
    },
    {
     "name": "stdout",
     "output_type": "stream",
     "text": [
      "             Mixed Linear Model Regression Results\n",
      "===============================================================\n",
      "Model:               MixedLM  Dependent Variable:  treatment_pd\n",
      "No. Observations:    27674    Method:              REML        \n",
      "No. Groups:          849      Scale:               35088.8101  \n",
      "Min. group size:     1        Log-Likelihood:      -184130.7204\n",
      "Max. group size:     385      Converged:           Yes         \n",
      "Mean group size:     32.6                                      \n",
      "---------------------------------------------------------------\n",
      "                   Coef.  Std.Err.   z    P>|z|  [0.025  0.975]\n",
      "---------------------------------------------------------------\n",
      "Intercept         118.431    4.016 29.493 0.000 110.561 126.301\n",
      "unemployment_rate   2.470    0.642  3.848 0.000   1.212   3.729\n",
      "Group Var         156.774    0.299                             \n",
      "===============================================================\n",
      "\n",
      "self_employed\n"
     ]
    },
    {
     "name": "stderr",
     "output_type": "stream",
     "text": [
      "/Users/thodsawit/anaconda3/envs/bmi212-wids/lib/python3.11/site-packages/statsmodels/base/model.py:607: ConvergenceWarning: Maximum Likelihood optimization failed to converge. Check mle_retvals\n",
      "  warnings.warn(\"Maximum Likelihood optimization failed to \"\n",
      "/Users/thodsawit/anaconda3/envs/bmi212-wids/lib/python3.11/site-packages/statsmodels/regression/mixed_linear_model.py:2201: ConvergenceWarning: Retrying MixedLM optimization with lbfgs\n",
      "  warnings.warn(\n",
      "/Users/thodsawit/anaconda3/envs/bmi212-wids/lib/python3.11/site-packages/statsmodels/base/model.py:607: ConvergenceWarning: Maximum Likelihood optimization failed to converge. Check mle_retvals\n",
      "  warnings.warn(\"Maximum Likelihood optimization failed to \"\n",
      "/Users/thodsawit/anaconda3/envs/bmi212-wids/lib/python3.11/site-packages/statsmodels/regression/mixed_linear_model.py:2201: ConvergenceWarning: Retrying MixedLM optimization with cg\n",
      "  warnings.warn(\n",
      "/Users/thodsawit/anaconda3/envs/bmi212-wids/lib/python3.11/site-packages/statsmodels/base/model.py:607: ConvergenceWarning: Maximum Likelihood optimization failed to converge. Check mle_retvals\n",
      "  warnings.warn(\"Maximum Likelihood optimization failed to \"\n",
      "/Users/thodsawit/anaconda3/envs/bmi212-wids/lib/python3.11/site-packages/statsmodels/regression/mixed_linear_model.py:2207: ConvergenceWarning: MixedLM optimization failed, trying a different optimizer may help.\n",
      "  warnings.warn(msg, ConvergenceWarning)\n",
      "/Users/thodsawit/anaconda3/envs/bmi212-wids/lib/python3.11/site-packages/statsmodels/regression/mixed_linear_model.py:2219: ConvergenceWarning: Gradient optimization failed, |grad| = 400.986377\n",
      "  warnings.warn(msg, ConvergenceWarning)\n"
     ]
    },
    {
     "name": "stdout",
     "output_type": "stream",
     "text": [
      "          Mixed Linear Model Regression Results\n",
      "==========================================================\n",
      "Model:            MixedLM Dependent Variable: treatment_pd\n",
      "No. Observations: 25482   Method:             REML        \n",
      "No. Groups:       772     Scale:              34803.2117  \n",
      "Min. group size:  1       Log-Likelihood:     -169489.7918\n",
      "Max. group size:  385     Converged:          No          \n",
      "Mean group size:  33.0                                    \n",
      "----------------------------------------------------------\n",
      "               Coef.  Std.Err.   z    P>|z| [0.025  0.975]\n",
      "----------------------------------------------------------\n",
      "Intercept     111.344    6.068 18.350 0.000 99.452 123.237\n",
      "self_employed   1.591    0.468  3.403 0.001  0.675   2.508\n",
      "Group Var     354.989    0.637                            \n",
      "==========================================================\n",
      "\n",
      "farmer\n"
     ]
    },
    {
     "name": "stderr",
     "output_type": "stream",
     "text": [
      "/Users/thodsawit/anaconda3/envs/bmi212-wids/lib/python3.11/site-packages/statsmodels/base/model.py:607: ConvergenceWarning: Maximum Likelihood optimization failed to converge. Check mle_retvals\n",
      "  warnings.warn(\"Maximum Likelihood optimization failed to \"\n",
      "/Users/thodsawit/anaconda3/envs/bmi212-wids/lib/python3.11/site-packages/statsmodels/regression/mixed_linear_model.py:2201: ConvergenceWarning: Retrying MixedLM optimization with lbfgs\n",
      "  warnings.warn(\n",
      "/Users/thodsawit/anaconda3/envs/bmi212-wids/lib/python3.11/site-packages/statsmodels/base/model.py:607: ConvergenceWarning: Maximum Likelihood optimization failed to converge. Check mle_retvals\n",
      "  warnings.warn(\"Maximum Likelihood optimization failed to \"\n",
      "/Users/thodsawit/anaconda3/envs/bmi212-wids/lib/python3.11/site-packages/statsmodels/regression/mixed_linear_model.py:2201: ConvergenceWarning: Retrying MixedLM optimization with cg\n",
      "  warnings.warn(\n",
      "/Users/thodsawit/anaconda3/envs/bmi212-wids/lib/python3.11/site-packages/statsmodels/base/model.py:607: ConvergenceWarning: Maximum Likelihood optimization failed to converge. Check mle_retvals\n",
      "  warnings.warn(\"Maximum Likelihood optimization failed to \"\n",
      "/Users/thodsawit/anaconda3/envs/bmi212-wids/lib/python3.11/site-packages/statsmodels/regression/mixed_linear_model.py:2207: ConvergenceWarning: MixedLM optimization failed, trying a different optimizer may help.\n",
      "  warnings.warn(msg, ConvergenceWarning)\n",
      "/Users/thodsawit/anaconda3/envs/bmi212-wids/lib/python3.11/site-packages/statsmodels/regression/mixed_linear_model.py:2219: ConvergenceWarning: Gradient optimization failed, |grad| = 432.745935\n",
      "  warnings.warn(msg, ConvergenceWarning)\n"
     ]
    },
    {
     "name": "stdout",
     "output_type": "stream",
     "text": [
      "          Mixed Linear Model Regression Results\n",
      "==========================================================\n",
      "Model:            MixedLM Dependent Variable: treatment_pd\n",
      "No. Observations: 25482   Method:             REML        \n",
      "No. Groups:       772     Scale:              34794.7407  \n",
      "Min. group size:  1       Log-Likelihood:     -169490.3451\n",
      "Max. group size:  385     Converged:          No          \n",
      "Mean group size:  33.0                                    \n",
      "----------------------------------------------------------\n",
      "              Coef.  Std.Err.   z    P>|z|  [0.025  0.975]\n",
      "----------------------------------------------------------\n",
      "Intercept    135.008    1.907 70.809 0.000 131.271 138.745\n",
      "farmer        -1.455    0.418 -3.485 0.000  -2.274  -0.637\n",
      "Group Var    371.438    0.716                             \n",
      "==========================================================\n",
      "\n",
      "race_white\n"
     ]
    },
    {
     "name": "stderr",
     "output_type": "stream",
     "text": [
      "/Users/thodsawit/anaconda3/envs/bmi212-wids/lib/python3.11/site-packages/statsmodels/base/model.py:607: ConvergenceWarning: Maximum Likelihood optimization failed to converge. Check mle_retvals\n",
      "  warnings.warn(\"Maximum Likelihood optimization failed to \"\n",
      "/Users/thodsawit/anaconda3/envs/bmi212-wids/lib/python3.11/site-packages/statsmodels/regression/mixed_linear_model.py:2201: ConvergenceWarning: Retrying MixedLM optimization with lbfgs\n",
      "  warnings.warn(\n",
      "/Users/thodsawit/anaconda3/envs/bmi212-wids/lib/python3.11/site-packages/statsmodels/base/model.py:607: ConvergenceWarning: Maximum Likelihood optimization failed to converge. Check mle_retvals\n",
      "  warnings.warn(\"Maximum Likelihood optimization failed to \"\n",
      "/Users/thodsawit/anaconda3/envs/bmi212-wids/lib/python3.11/site-packages/statsmodels/regression/mixed_linear_model.py:2201: ConvergenceWarning: Retrying MixedLM optimization with cg\n",
      "  warnings.warn(\n",
      "/Users/thodsawit/anaconda3/envs/bmi212-wids/lib/python3.11/site-packages/statsmodels/base/model.py:607: ConvergenceWarning: Maximum Likelihood optimization failed to converge. Check mle_retvals\n",
      "  warnings.warn(\"Maximum Likelihood optimization failed to \"\n",
      "/Users/thodsawit/anaconda3/envs/bmi212-wids/lib/python3.11/site-packages/statsmodels/regression/mixed_linear_model.py:2207: ConvergenceWarning: MixedLM optimization failed, trying a different optimizer may help.\n",
      "  warnings.warn(msg, ConvergenceWarning)\n",
      "/Users/thodsawit/anaconda3/envs/bmi212-wids/lib/python3.11/site-packages/statsmodels/regression/mixed_linear_model.py:2219: ConvergenceWarning: Gradient optimization failed, |grad| = 179.283846\n",
      "  warnings.warn(msg, ConvergenceWarning)\n"
     ]
    },
    {
     "name": "stdout",
     "output_type": "stream",
     "text": [
      "          Mixed Linear Model Regression Results\n",
      "==========================================================\n",
      "Model:            MixedLM Dependent Variable: treatment_pd\n",
      "No. Observations: 27674   Method:             REML        \n",
      "No. Groups:       849     Scale:              35062.1010  \n",
      "Min. group size:  1       Log-Likelihood:     -184130.8706\n",
      "Max. group size:  385     Converged:          No          \n",
      "Mean group size:  32.6                                    \n",
      "----------------------------------------------------------\n",
      "              Coef.  Std.Err.   z    P>|z|  [0.025  0.975]\n",
      "----------------------------------------------------------\n",
      "Intercept    157.365    5.642 27.893 0.000 146.307 168.422\n",
      "race_white    -0.339    0.076 -4.469 0.000  -0.488  -0.190\n",
      "Group Var    186.463    0.338                             \n",
      "==========================================================\n",
      "\n",
      "race_black\n"
     ]
    },
    {
     "name": "stderr",
     "output_type": "stream",
     "text": [
      "/Users/thodsawit/anaconda3/envs/bmi212-wids/lib/python3.11/site-packages/statsmodels/base/model.py:607: ConvergenceWarning: Maximum Likelihood optimization failed to converge. Check mle_retvals\n",
      "  warnings.warn(\"Maximum Likelihood optimization failed to \"\n",
      "/Users/thodsawit/anaconda3/envs/bmi212-wids/lib/python3.11/site-packages/statsmodels/regression/mixed_linear_model.py:2201: ConvergenceWarning: Retrying MixedLM optimization with lbfgs\n",
      "  warnings.warn(\n",
      "/Users/thodsawit/anaconda3/envs/bmi212-wids/lib/python3.11/site-packages/statsmodels/base/model.py:607: ConvergenceWarning: Maximum Likelihood optimization failed to converge. Check mle_retvals\n",
      "  warnings.warn(\"Maximum Likelihood optimization failed to \"\n",
      "/Users/thodsawit/anaconda3/envs/bmi212-wids/lib/python3.11/site-packages/statsmodels/regression/mixed_linear_model.py:2201: ConvergenceWarning: Retrying MixedLM optimization with cg\n",
      "  warnings.warn(\n",
      "/Users/thodsawit/anaconda3/envs/bmi212-wids/lib/python3.11/site-packages/statsmodels/base/model.py:607: ConvergenceWarning: Maximum Likelihood optimization failed to converge. Check mle_retvals\n",
      "  warnings.warn(\"Maximum Likelihood optimization failed to \"\n",
      "/Users/thodsawit/anaconda3/envs/bmi212-wids/lib/python3.11/site-packages/statsmodels/regression/mixed_linear_model.py:2207: ConvergenceWarning: MixedLM optimization failed, trying a different optimizer may help.\n",
      "  warnings.warn(msg, ConvergenceWarning)\n",
      "/Users/thodsawit/anaconda3/envs/bmi212-wids/lib/python3.11/site-packages/statsmodels/regression/mixed_linear_model.py:2219: ConvergenceWarning: Gradient optimization failed, |grad| = 11.887616\n",
      "  warnings.warn(msg, ConvergenceWarning)\n"
     ]
    },
    {
     "name": "stdout",
     "output_type": "stream",
     "text": [
      "          Mixed Linear Model Regression Results\n",
      "==========================================================\n",
      "Model:            MixedLM Dependent Variable: treatment_pd\n",
      "No. Observations: 27674   Method:             REML        \n",
      "No. Groups:       849     Scale:              35127.5299  \n",
      "Min. group size:  1       Log-Likelihood:     -184138.5458\n",
      "Max. group size:  385     Converged:          No          \n",
      "Mean group size:  32.6                                    \n",
      "----------------------------------------------------------\n",
      "              Coef.  Std.Err.   z    P>|z|  [0.025  0.975]\n",
      "----------------------------------------------------------\n",
      "Intercept    131.460    1.735 75.782 0.000 128.060 134.860\n",
      "race_black     0.153    0.102  1.498 0.134  -0.047   0.353\n",
      "Group Var    125.915    0.247                             \n",
      "==========================================================\n",
      "\n",
      "race_asian\n"
     ]
    },
    {
     "name": "stderr",
     "output_type": "stream",
     "text": [
      "/Users/thodsawit/anaconda3/envs/bmi212-wids/lib/python3.11/site-packages/statsmodels/base/model.py:607: ConvergenceWarning: Maximum Likelihood optimization failed to converge. Check mle_retvals\n",
      "  warnings.warn(\"Maximum Likelihood optimization failed to \"\n",
      "/Users/thodsawit/anaconda3/envs/bmi212-wids/lib/python3.11/site-packages/statsmodels/regression/mixed_linear_model.py:2201: ConvergenceWarning: Retrying MixedLM optimization with lbfgs\n",
      "  warnings.warn(\n"
     ]
    },
    {
     "name": "stdout",
     "output_type": "stream",
     "text": [
      "          Mixed Linear Model Regression Results\n",
      "==========================================================\n",
      "Model:            MixedLM Dependent Variable: treatment_pd\n",
      "No. Observations: 27674   Method:             REML        \n",
      "No. Groups:       849     Scale:              35068.7642  \n",
      "Min. group size:  1       Log-Likelihood:     -184130.7046\n",
      "Max. group size:  385     Converged:          Yes         \n",
      "Mean group size:  32.6                                    \n",
      "----------------------------------------------------------\n",
      "              Coef.  Std.Err.   z    P>|z|  [0.025  0.975]\n",
      "----------------------------------------------------------\n",
      "Intercept    128.719    1.665 77.331 0.000 125.456 131.981\n",
      "race_asian     0.905    0.214  4.237 0.000   0.486   1.323\n",
      "Group Var    180.261    0.338                             \n",
      "==========================================================\n",
      "\n",
      "race_native\n"
     ]
    },
    {
     "name": "stderr",
     "output_type": "stream",
     "text": [
      "/Users/thodsawit/anaconda3/envs/bmi212-wids/lib/python3.11/site-packages/statsmodels/base/model.py:607: ConvergenceWarning: Maximum Likelihood optimization failed to converge. Check mle_retvals\n",
      "  warnings.warn(\"Maximum Likelihood optimization failed to \"\n",
      "/Users/thodsawit/anaconda3/envs/bmi212-wids/lib/python3.11/site-packages/statsmodels/regression/mixed_linear_model.py:2201: ConvergenceWarning: Retrying MixedLM optimization with lbfgs\n",
      "  warnings.warn(\n"
     ]
    },
    {
     "name": "stdout",
     "output_type": "stream",
     "text": [
      "          Mixed Linear Model Regression Results\n",
      "==========================================================\n",
      "Model:            MixedLM Dependent Variable: treatment_pd\n",
      "No. Observations: 27674   Method:             REML        \n",
      "No. Groups:       849     Scale:              35136.3011  \n",
      "Min. group size:  1       Log-Likelihood:     -184138.0341\n",
      "Max. group size:  385     Converged:          Yes         \n",
      "Mean group size:  32.6                                    \n",
      "----------------------------------------------------------\n",
      "              Coef.  Std.Err.   z    P>|z|  [0.025  0.975]\n",
      "----------------------------------------------------------\n",
      "Intercept    132.994    1.362 97.612 0.000 130.324 135.665\n",
      "race_native    0.243    0.448  0.543 0.587  -0.635   1.122\n",
      "Group Var    117.863    0.238                             \n",
      "==========================================================\n",
      "\n",
      "race_pacific\n"
     ]
    },
    {
     "name": "stderr",
     "output_type": "stream",
     "text": [
      "/Users/thodsawit/anaconda3/envs/bmi212-wids/lib/python3.11/site-packages/statsmodels/base/model.py:607: ConvergenceWarning: Maximum Likelihood optimization failed to converge. Check mle_retvals\n",
      "  warnings.warn(\"Maximum Likelihood optimization failed to \"\n",
      "/Users/thodsawit/anaconda3/envs/bmi212-wids/lib/python3.11/site-packages/statsmodels/regression/mixed_linear_model.py:2201: ConvergenceWarning: Retrying MixedLM optimization with lbfgs\n",
      "  warnings.warn(\n"
     ]
    },
    {
     "name": "stdout",
     "output_type": "stream",
     "text": [
      "          Mixed Linear Model Regression Results\n",
      "==========================================================\n",
      "Model:            MixedLM Dependent Variable: treatment_pd\n",
      "No. Observations: 27674   Method:             REML        \n",
      "No. Groups:       849     Scale:              35132.9543  \n",
      "Min. group size:  1       Log-Likelihood:     -184136.1053\n",
      "Max. group size:  385     Converged:          Yes         \n",
      "Mean group size:  32.6                                    \n",
      "----------------------------------------------------------\n",
      "              Coef.  Std.Err.   z    P>|z|  [0.025  0.975]\n",
      "----------------------------------------------------------\n",
      "Intercept    132.927    1.338 99.330 0.000 130.304 135.550\n",
      "race_pacific   2.120    2.472  0.858 0.391  -2.726   6.966\n",
      "Group Var    121.406    0.243                             \n",
      "==========================================================\n",
      "\n",
      "race_other\n"
     ]
    },
    {
     "name": "stderr",
     "output_type": "stream",
     "text": [
      "/Users/thodsawit/anaconda3/envs/bmi212-wids/lib/python3.11/site-packages/statsmodels/base/model.py:607: ConvergenceWarning: Maximum Likelihood optimization failed to converge. Check mle_retvals\n",
      "  warnings.warn(\"Maximum Likelihood optimization failed to \"\n",
      "/Users/thodsawit/anaconda3/envs/bmi212-wids/lib/python3.11/site-packages/statsmodels/regression/mixed_linear_model.py:2201: ConvergenceWarning: Retrying MixedLM optimization with lbfgs\n",
      "  warnings.warn(\n"
     ]
    },
    {
     "name": "stdout",
     "output_type": "stream",
     "text": [
      "          Mixed Linear Model Regression Results\n",
      "==========================================================\n",
      "Model:            MixedLM Dependent Variable: treatment_pd\n",
      "No. Observations: 27674   Method:             REML        \n",
      "No. Groups:       849     Scale:              35079.1060  \n",
      "Min. group size:  1       Log-Likelihood:     -184131.8272\n",
      "Max. group size:  385     Converged:          Yes         \n",
      "Mean group size:  32.6                                    \n",
      "----------------------------------------------------------\n",
      "              Coef.  Std.Err.   z    P>|z|  [0.025  0.975]\n",
      "----------------------------------------------------------\n",
      "Intercept    128.566    1.749 73.508 0.000 125.138 131.994\n",
      "race_other     0.895    0.230  3.884 0.000   0.443   1.346\n",
      "Group Var    170.211    0.315                             \n",
      "==========================================================\n",
      "\n",
      "race_multiple\n"
     ]
    },
    {
     "name": "stderr",
     "output_type": "stream",
     "text": [
      "/Users/thodsawit/anaconda3/envs/bmi212-wids/lib/python3.11/site-packages/statsmodels/base/model.py:607: ConvergenceWarning: Maximum Likelihood optimization failed to converge. Check mle_retvals\n",
      "  warnings.warn(\"Maximum Likelihood optimization failed to \"\n",
      "/Users/thodsawit/anaconda3/envs/bmi212-wids/lib/python3.11/site-packages/statsmodels/regression/mixed_linear_model.py:2201: ConvergenceWarning: Retrying MixedLM optimization with lbfgs\n",
      "  warnings.warn(\n"
     ]
    },
    {
     "name": "stdout",
     "output_type": "stream",
     "text": [
      "           Mixed Linear Model Regression Results\n",
      "===========================================================\n",
      "Model:             MixedLM Dependent Variable: treatment_pd\n",
      "No. Observations:  27674   Method:             REML        \n",
      "No. Groups:        849     Scale:              35110.5996  \n",
      "Min. group size:   1       Log-Likelihood:     -184134.5062\n",
      "Max. group size:   385     Converged:          Yes         \n",
      "Mean group size:   32.6                                    \n",
      "-----------------------------------------------------------\n",
      "               Coef.  Std.Err.   z    P>|z|  [0.025  0.975]\n",
      "-----------------------------------------------------------\n",
      "Intercept     126.643    2.652 47.746 0.000 121.444 131.842\n",
      "race_multiple   1.027    0.365  2.810 0.005   0.311   1.743\n",
      "Group Var     138.743    0.263                             \n",
      "===========================================================\n",
      "\n",
      "hispanic\n"
     ]
    },
    {
     "name": "stderr",
     "output_type": "stream",
     "text": [
      "/Users/thodsawit/anaconda3/envs/bmi212-wids/lib/python3.11/site-packages/statsmodels/base/model.py:607: ConvergenceWarning: Maximum Likelihood optimization failed to converge. Check mle_retvals\n",
      "  warnings.warn(\"Maximum Likelihood optimization failed to \"\n",
      "/Users/thodsawit/anaconda3/envs/bmi212-wids/lib/python3.11/site-packages/statsmodels/regression/mixed_linear_model.py:2201: ConvergenceWarning: Retrying MixedLM optimization with lbfgs\n",
      "  warnings.warn(\n"
     ]
    },
    {
     "name": "stdout",
     "output_type": "stream",
     "text": [
      "          Mixed Linear Model Regression Results\n",
      "==========================================================\n",
      "Model:            MixedLM Dependent Variable: treatment_pd\n",
      "No. Observations: 27674   Method:             REML        \n",
      "No. Groups:       849     Scale:              35096.8980  \n",
      "Min. group size:  1       Log-Likelihood:     -184134.9408\n",
      "Max. group size:  385     Converged:          Yes         \n",
      "Mean group size:  32.6                                    \n",
      "----------------------------------------------------------\n",
      "              Coef.  Std.Err.   z    P>|z|  [0.025  0.975]\n",
      "----------------------------------------------------------\n",
      "Intercept    128.931    1.830 70.442 0.000 125.343 132.518\n",
      "hispanic       0.245    0.076  3.242 0.001   0.097   0.393\n",
      "Group Var    153.029    0.285                             \n",
      "==========================================================\n",
      "\n",
      "disabled\n"
     ]
    },
    {
     "name": "stderr",
     "output_type": "stream",
     "text": [
      "/Users/thodsawit/anaconda3/envs/bmi212-wids/lib/python3.11/site-packages/statsmodels/base/model.py:607: ConvergenceWarning: Maximum Likelihood optimization failed to converge. Check mle_retvals\n",
      "  warnings.warn(\"Maximum Likelihood optimization failed to \"\n",
      "/Users/thodsawit/anaconda3/envs/bmi212-wids/lib/python3.11/site-packages/statsmodels/regression/mixed_linear_model.py:2201: ConvergenceWarning: Retrying MixedLM optimization with lbfgs\n",
      "  warnings.warn(\n",
      "/Users/thodsawit/anaconda3/envs/bmi212-wids/lib/python3.11/site-packages/statsmodels/base/model.py:607: ConvergenceWarning: Maximum Likelihood optimization failed to converge. Check mle_retvals\n",
      "  warnings.warn(\"Maximum Likelihood optimization failed to \"\n",
      "/Users/thodsawit/anaconda3/envs/bmi212-wids/lib/python3.11/site-packages/statsmodels/regression/mixed_linear_model.py:2201: ConvergenceWarning: Retrying MixedLM optimization with cg\n",
      "  warnings.warn(\n",
      "/Users/thodsawit/anaconda3/envs/bmi212-wids/lib/python3.11/site-packages/statsmodels/base/model.py:607: ConvergenceWarning: Maximum Likelihood optimization failed to converge. Check mle_retvals\n",
      "  warnings.warn(\"Maximum Likelihood optimization failed to \"\n",
      "/Users/thodsawit/anaconda3/envs/bmi212-wids/lib/python3.11/site-packages/statsmodels/regression/mixed_linear_model.py:2207: ConvergenceWarning: MixedLM optimization failed, trying a different optimizer may help.\n",
      "  warnings.warn(msg, ConvergenceWarning)\n",
      "/Users/thodsawit/anaconda3/envs/bmi212-wids/lib/python3.11/site-packages/statsmodels/regression/mixed_linear_model.py:2219: ConvergenceWarning: Gradient optimization failed, |grad| = 148.787030\n",
      "  warnings.warn(msg, ConvergenceWarning)\n"
     ]
    },
    {
     "name": "stdout",
     "output_type": "stream",
     "text": [
      "          Mixed Linear Model Regression Results\n",
      "==========================================================\n",
      "Model:            MixedLM Dependent Variable: treatment_pd\n",
      "No. Observations: 27674   Method:             REML        \n",
      "No. Groups:       849     Scale:              35077.1959  \n",
      "Min. group size:  1       Log-Likelihood:     -184131.1649\n",
      "Max. group size:  385     Converged:          No          \n",
      "Mean group size:  32.6                                    \n",
      "----------------------------------------------------------\n",
      "              Coef.  Std.Err.   z    P>|z|  [0.025  0.975]\n",
      "----------------------------------------------------------\n",
      "Intercept    151.322    4.828 31.340 0.000 141.859 160.786\n",
      "disabled      -1.329    0.335 -3.969 0.000  -1.986  -0.673\n",
      "Group Var    171.827    0.320                             \n",
      "==========================================================\n",
      "\n",
      "poverty\n"
     ]
    },
    {
     "name": "stderr",
     "output_type": "stream",
     "text": [
      "/Users/thodsawit/anaconda3/envs/bmi212-wids/lib/python3.11/site-packages/statsmodels/base/model.py:607: ConvergenceWarning: Maximum Likelihood optimization failed to converge. Check mle_retvals\n",
      "  warnings.warn(\"Maximum Likelihood optimization failed to \"\n",
      "/Users/thodsawit/anaconda3/envs/bmi212-wids/lib/python3.11/site-packages/statsmodels/regression/mixed_linear_model.py:2201: ConvergenceWarning: Retrying MixedLM optimization with lbfgs\n",
      "  warnings.warn(\n"
     ]
    },
    {
     "name": "stdout",
     "output_type": "stream",
     "text": [
      "          Mixed Linear Model Regression Results\n",
      "==========================================================\n",
      "Model:            MixedLM Dependent Variable: treatment_pd\n",
      "No. Observations: 27671   Method:             REML        \n",
      "No. Groups:       848     Scale:              35121.7048  \n",
      "Min. group size:  1       Log-Likelihood:     -184113.4073\n",
      "Max. group size:  385     Converged:          Yes         \n",
      "Mean group size:  32.6                                    \n",
      "----------------------------------------------------------\n",
      "              Coef.  Std.Err.   z    P>|z|  [0.025  0.975]\n",
      "----------------------------------------------------------\n",
      "Intercept    135.927    3.218 42.236 0.000 129.620 142.235\n",
      "poverty       -0.205    0.221 -0.927 0.354  -0.638   0.228\n",
      "Group Var    119.031    0.238                             \n",
      "==========================================================\n",
      "\n",
      "limited_english\n"
     ]
    },
    {
     "name": "stderr",
     "output_type": "stream",
     "text": [
      "/Users/thodsawit/anaconda3/envs/bmi212-wids/lib/python3.11/site-packages/statsmodels/base/model.py:607: ConvergenceWarning: Maximum Likelihood optimization failed to converge. Check mle_retvals\n",
      "  warnings.warn(\"Maximum Likelihood optimization failed to \"\n",
      "/Users/thodsawit/anaconda3/envs/bmi212-wids/lib/python3.11/site-packages/statsmodels/regression/mixed_linear_model.py:2201: ConvergenceWarning: Retrying MixedLM optimization with lbfgs\n",
      "  warnings.warn(\n"
     ]
    },
    {
     "name": "stdout",
     "output_type": "stream",
     "text": [
      "            Mixed Linear Model Regression Results\n",
      "=============================================================\n",
      "Model:             MixedLM  Dependent Variable:  treatment_pd\n",
      "No. Observations:  27671    Method:              REML        \n",
      "No. Groups:        848      Scale:               35070.2270  \n",
      "Min. group size:   1        Log-Likelihood:      -184107.7896\n",
      "Max. group size:   385      Converged:           Yes         \n",
      "Mean group size:   32.6                                      \n",
      "-------------------------------------------------------------\n",
      "                 Coef.  Std.Err.   z    P>|z|  [0.025  0.975]\n",
      "-------------------------------------------------------------\n",
      "Intercept       129.886    1.574 82.540 0.000 126.802 132.971\n",
      "limited_english   0.723    0.199  3.644 0.000   0.334   1.113\n",
      "Group Var       167.663    0.311                             \n",
      "=============================================================\n",
      "\n",
      "commute_time\n"
     ]
    },
    {
     "name": "stderr",
     "output_type": "stream",
     "text": [
      "/Users/thodsawit/anaconda3/envs/bmi212-wids/lib/python3.11/site-packages/statsmodels/base/model.py:607: ConvergenceWarning: Maximum Likelihood optimization failed to converge. Check mle_retvals\n",
      "  warnings.warn(\"Maximum Likelihood optimization failed to \"\n",
      "/Users/thodsawit/anaconda3/envs/bmi212-wids/lib/python3.11/site-packages/statsmodels/regression/mixed_linear_model.py:2201: ConvergenceWarning: Retrying MixedLM optimization with lbfgs\n",
      "  warnings.warn(\n"
     ]
    },
    {
     "name": "stdout",
     "output_type": "stream",
     "text": [
      "          Mixed Linear Model Regression Results\n",
      "==========================================================\n",
      "Model:            MixedLM Dependent Variable: treatment_pd\n",
      "No. Observations: 27674   Method:             REML        \n",
      "No. Groups:       849     Scale:              35071.5664  \n",
      "Min. group size:  1       Log-Likelihood:     -184131.7060\n",
      "Max. group size:  385     Converged:          Yes         \n",
      "Mean group size:  32.6                                    \n",
      "----------------------------------------------------------\n",
      "               Coef.  Std.Err.   z    P>|z| [0.025  0.975]\n",
      "----------------------------------------------------------\n",
      "Intercept     102.606    7.837 13.092 0.000 87.245 117.966\n",
      "commute_time    1.098    0.280  3.925 0.000  0.550   1.647\n",
      "Group Var     180.859    0.322                            \n",
      "==========================================================\n",
      "\n",
      "health_uninsured\n"
     ]
    },
    {
     "name": "stderr",
     "output_type": "stream",
     "text": [
      "/Users/thodsawit/anaconda3/envs/bmi212-wids/lib/python3.11/site-packages/statsmodels/base/model.py:607: ConvergenceWarning: Maximum Likelihood optimization failed to converge. Check mle_retvals\n",
      "  warnings.warn(\"Maximum Likelihood optimization failed to \"\n",
      "/Users/thodsawit/anaconda3/envs/bmi212-wids/lib/python3.11/site-packages/statsmodels/regression/mixed_linear_model.py:2201: ConvergenceWarning: Retrying MixedLM optimization with lbfgs\n",
      "  warnings.warn(\n"
     ]
    },
    {
     "name": "stdout",
     "output_type": "stream",
     "text": [
      "            Mixed Linear Model Regression Results\n",
      "==============================================================\n",
      "Model:              MixedLM  Dependent Variable:  treatment_pd\n",
      "No. Observations:   27674    Method:              REML        \n",
      "No. Groups:         849      Scale:               35120.6183  \n",
      "Min. group size:    1        Log-Likelihood:      -184136.4551\n",
      "Max. group size:    385      Converged:           Yes         \n",
      "Mean group size:    32.6                                      \n",
      "--------------------------------------------------------------\n",
      "                  Coef.  Std.Err.   z    P>|z|  [0.025  0.975]\n",
      "--------------------------------------------------------------\n",
      "Intercept        138.493    2.910 47.598 0.000 132.791 144.196\n",
      "health_uninsured  -0.627    0.303 -2.073 0.038  -1.220  -0.034\n",
      "Group Var        131.533    0.263                             \n",
      "==============================================================\n",
      "\n",
      "veteran\n"
     ]
    },
    {
     "name": "stderr",
     "output_type": "stream",
     "text": [
      "/Users/thodsawit/anaconda3/envs/bmi212-wids/lib/python3.11/site-packages/statsmodels/base/model.py:607: ConvergenceWarning: Maximum Likelihood optimization failed to converge. Check mle_retvals\n",
      "  warnings.warn(\"Maximum Likelihood optimization failed to \"\n",
      "/Users/thodsawit/anaconda3/envs/bmi212-wids/lib/python3.11/site-packages/statsmodels/regression/mixed_linear_model.py:2201: ConvergenceWarning: Retrying MixedLM optimization with lbfgs\n",
      "  warnings.warn(\n",
      "/Users/thodsawit/anaconda3/envs/bmi212-wids/lib/python3.11/site-packages/statsmodels/base/model.py:607: ConvergenceWarning: Maximum Likelihood optimization failed to converge. Check mle_retvals\n",
      "  warnings.warn(\"Maximum Likelihood optimization failed to \"\n",
      "/Users/thodsawit/anaconda3/envs/bmi212-wids/lib/python3.11/site-packages/statsmodels/regression/mixed_linear_model.py:2201: ConvergenceWarning: Retrying MixedLM optimization with cg\n",
      "  warnings.warn(\n",
      "/Users/thodsawit/anaconda3/envs/bmi212-wids/lib/python3.11/site-packages/statsmodels/base/model.py:607: ConvergenceWarning: Maximum Likelihood optimization failed to converge. Check mle_retvals\n",
      "  warnings.warn(\"Maximum Likelihood optimization failed to \"\n",
      "/Users/thodsawit/anaconda3/envs/bmi212-wids/lib/python3.11/site-packages/statsmodels/regression/mixed_linear_model.py:2207: ConvergenceWarning: MixedLM optimization failed, trying a different optimizer may help.\n",
      "  warnings.warn(msg, ConvergenceWarning)\n",
      "/Users/thodsawit/anaconda3/envs/bmi212-wids/lib/python3.11/site-packages/statsmodels/regression/mixed_linear_model.py:2219: ConvergenceWarning: Gradient optimization failed, |grad| = 96.962325\n",
      "  warnings.warn(msg, ConvergenceWarning)\n"
     ]
    },
    {
     "name": "stdout",
     "output_type": "stream",
     "text": [
      "          Mixed Linear Model Regression Results\n",
      "==========================================================\n",
      "Model:            MixedLM Dependent Variable: treatment_pd\n",
      "No. Observations: 27674   Method:             REML        \n",
      "No. Groups:       849     Scale:              35101.4429  \n",
      "Min. group size:  1       Log-Likelihood:     -184134.3960\n",
      "Max. group size:  385     Converged:          No          \n",
      "Mean group size:  32.6                                    \n",
      "----------------------------------------------------------\n",
      "              Coef.  Std.Err.   z    P>|z|  [0.025  0.975]\n",
      "----------------------------------------------------------\n",
      "Intercept    141.863    3.383 41.940 0.000 135.233 148.492\n",
      "veteran       -1.204    0.423 -2.847 0.004  -2.033  -0.375\n",
      "Group Var    150.962    0.294                             \n",
      "==========================================================\n",
      "\n",
      "side\n"
     ]
    },
    {
     "name": "stderr",
     "output_type": "stream",
     "text": [
      "/Users/thodsawit/anaconda3/envs/bmi212-wids/lib/python3.11/site-packages/statsmodels/base/model.py:607: ConvergenceWarning: Maximum Likelihood optimization failed to converge. Check mle_retvals\n",
      "  warnings.warn(\"Maximum Likelihood optimization failed to \"\n",
      "/Users/thodsawit/anaconda3/envs/bmi212-wids/lib/python3.11/site-packages/statsmodels/regression/mixed_linear_model.py:2201: ConvergenceWarning: Retrying MixedLM optimization with lbfgs\n",
      "  warnings.warn(\n",
      "/Users/thodsawit/anaconda3/envs/bmi212-wids/lib/python3.11/site-packages/statsmodels/base/model.py:607: ConvergenceWarning: Maximum Likelihood optimization failed to converge. Check mle_retvals\n",
      "  warnings.warn(\"Maximum Likelihood optimization failed to \"\n",
      "/Users/thodsawit/anaconda3/envs/bmi212-wids/lib/python3.11/site-packages/statsmodels/regression/mixed_linear_model.py:2201: ConvergenceWarning: Retrying MixedLM optimization with cg\n",
      "  warnings.warn(\n",
      "/Users/thodsawit/anaconda3/envs/bmi212-wids/lib/python3.11/site-packages/statsmodels/base/model.py:607: ConvergenceWarning: Maximum Likelihood optimization failed to converge. Check mle_retvals\n",
      "  warnings.warn(\"Maximum Likelihood optimization failed to \"\n",
      "/Users/thodsawit/anaconda3/envs/bmi212-wids/lib/python3.11/site-packages/statsmodels/regression/mixed_linear_model.py:2207: ConvergenceWarning: MixedLM optimization failed, trying a different optimizer may help.\n",
      "  warnings.warn(msg, ConvergenceWarning)\n",
      "/Users/thodsawit/anaconda3/envs/bmi212-wids/lib/python3.11/site-packages/statsmodels/regression/mixed_linear_model.py:2219: ConvergenceWarning: Gradient optimization failed, |grad| = 632.780368\n",
      "  warnings.warn(msg, ConvergenceWarning)\n"
     ]
    },
    {
     "name": "stdout",
     "output_type": "stream",
     "text": [
      "              Mixed Linear Model Regression Results\n",
      "=================================================================\n",
      "Model:               MixedLM   Dependent Variable:   treatment_pd\n",
      "No. Observations:    27674     Method:               REML        \n",
      "No. Groups:          849       Scale:                28525.3339  \n",
      "Min. group size:     1         Log-Likelihood:       -181325.1803\n",
      "Max. group size:     385       Converged:            No          \n",
      "Mean group size:     32.6                                        \n",
      "-----------------------------------------------------------------\n",
      "                     Coef.  Std.Err.   z    P>|z|  [0.025  0.975]\n",
      "-----------------------------------------------------------------\n",
      "Intercept            87.867    1.884 46.638 0.000  84.174  91.560\n",
      "side[T.R]            -0.560    2.345 -0.239 0.811  -5.157   4.036\n",
      "side[T.unspecified] 187.775    2.647 70.945 0.000 182.587 192.963\n",
      "Group Var           331.016    1.273                             \n",
      "=================================================================\n",
      "\n",
      "quadrant\n"
     ]
    },
    {
     "name": "stderr",
     "output_type": "stream",
     "text": [
      "/Users/thodsawit/anaconda3/envs/bmi212-wids/lib/python3.11/site-packages/statsmodels/base/model.py:607: ConvergenceWarning: Maximum Likelihood optimization failed to converge. Check mle_retvals\n",
      "  warnings.warn(\"Maximum Likelihood optimization failed to \"\n",
      "/Users/thodsawit/anaconda3/envs/bmi212-wids/lib/python3.11/site-packages/statsmodels/regression/mixed_linear_model.py:2201: ConvergenceWarning: Retrying MixedLM optimization with lbfgs\n",
      "  warnings.warn(\n",
      "/Users/thodsawit/anaconda3/envs/bmi212-wids/lib/python3.11/site-packages/statsmodels/base/model.py:607: ConvergenceWarning: Maximum Likelihood optimization failed to converge. Check mle_retvals\n",
      "  warnings.warn(\"Maximum Likelihood optimization failed to \"\n",
      "/Users/thodsawit/anaconda3/envs/bmi212-wids/lib/python3.11/site-packages/statsmodels/regression/mixed_linear_model.py:2201: ConvergenceWarning: Retrying MixedLM optimization with cg\n",
      "  warnings.warn(\n",
      "/Users/thodsawit/anaconda3/envs/bmi212-wids/lib/python3.11/site-packages/statsmodels/base/model.py:607: ConvergenceWarning: Maximum Likelihood optimization failed to converge. Check mle_retvals\n",
      "  warnings.warn(\"Maximum Likelihood optimization failed to \"\n",
      "/Users/thodsawit/anaconda3/envs/bmi212-wids/lib/python3.11/site-packages/statsmodels/regression/mixed_linear_model.py:2207: ConvergenceWarning: MixedLM optimization failed, trying a different optimizer may help.\n",
      "  warnings.warn(msg, ConvergenceWarning)\n",
      "/Users/thodsawit/anaconda3/envs/bmi212-wids/lib/python3.11/site-packages/statsmodels/regression/mixed_linear_model.py:2219: ConvergenceWarning: Gradient optimization failed, |grad| = 28.325726\n",
      "  warnings.warn(msg, ConvergenceWarning)\n"
     ]
    },
    {
     "name": "stdout",
     "output_type": "stream",
     "text": [
      "                 Mixed Linear Model Regression Results\n",
      "=======================================================================\n",
      "Model:                 MixedLM     Dependent Variable:     treatment_pd\n",
      "No. Observations:      27674       Method:                 REML        \n",
      "No. Groups:            849         Scale:                  34127.9423  \n",
      "Min. group size:       1           Log-Likelihood:         -183701.8690\n",
      "Max. group size:       385         Converged:              No          \n",
      "Mean group size:       32.6                                            \n",
      "-----------------------------------------------------------------------\n",
      "                           Coef.  Std.Err.   z    P>|z|  [0.025  0.975]\n",
      "-----------------------------------------------------------------------\n",
      "Intercept                 102.669    6.655 15.428 0.000  89.626 115.712\n",
      "quadrant[T.LO]             -1.508    8.506 -0.177 0.859 -18.180  15.164\n",
      "quadrant[T.UI]              7.398    7.964  0.929 0.353  -8.211  23.008\n",
      "quadrant[T.UO]              3.845    7.054  0.545 0.586  -9.980  17.669\n",
      "quadrant[T.axillary tail]  14.067   14.154  0.994 0.320 -13.674  41.808\n",
      "quadrant[T.central]        27.404    8.497  3.225 0.001  10.750  44.059\n",
      "quadrant[T.nipple]        -19.112   10.195 -1.875 0.061 -39.093   0.869\n",
      "quadrant[T.overlap]       -18.258    7.540 -2.421 0.015 -33.036  -3.480\n",
      "quadrant[T.unspecified]    63.045    6.824  9.239 0.000  49.672  76.419\n",
      "Group Var                  87.726    0.224                             \n",
      "=======================================================================\n",
      "\n",
      "metastatic_organ\n"
     ]
    },
    {
     "name": "stderr",
     "output_type": "stream",
     "text": [
      "/Users/thodsawit/anaconda3/envs/bmi212-wids/lib/python3.11/site-packages/statsmodels/base/model.py:607: ConvergenceWarning: Maximum Likelihood optimization failed to converge. Check mle_retvals\n",
      "  warnings.warn(\"Maximum Likelihood optimization failed to \"\n",
      "/Users/thodsawit/anaconda3/envs/bmi212-wids/lib/python3.11/site-packages/statsmodels/regression/mixed_linear_model.py:2201: ConvergenceWarning: Retrying MixedLM optimization with lbfgs\n",
      "  warnings.warn(\n",
      "/Users/thodsawit/anaconda3/envs/bmi212-wids/lib/python3.11/site-packages/statsmodels/base/model.py:607: ConvergenceWarning: Maximum Likelihood optimization failed to converge. Check mle_retvals\n",
      "  warnings.warn(\"Maximum Likelihood optimization failed to \"\n",
      "/Users/thodsawit/anaconda3/envs/bmi212-wids/lib/python3.11/site-packages/statsmodels/regression/mixed_linear_model.py:2201: ConvergenceWarning: Retrying MixedLM optimization with cg\n",
      "  warnings.warn(\n",
      "/Users/thodsawit/anaconda3/envs/bmi212-wids/lib/python3.11/site-packages/statsmodels/base/model.py:607: ConvergenceWarning: Maximum Likelihood optimization failed to converge. Check mle_retvals\n",
      "  warnings.warn(\"Maximum Likelihood optimization failed to \"\n",
      "/Users/thodsawit/anaconda3/envs/bmi212-wids/lib/python3.11/site-packages/statsmodels/regression/mixed_linear_model.py:2207: ConvergenceWarning: MixedLM optimization failed, trying a different optimizer may help.\n",
      "  warnings.warn(msg, ConvergenceWarning)\n",
      "/Users/thodsawit/anaconda3/envs/bmi212-wids/lib/python3.11/site-packages/statsmodels/regression/mixed_linear_model.py:2219: ConvergenceWarning: Gradient optimization failed, |grad| = 155.624331\n",
      "  warnings.warn(msg, ConvergenceWarning)\n"
     ]
    },
    {
     "name": "stdout",
     "output_type": "stream",
     "text": [
      "                                Mixed Linear Model Regression Results\n",
      "======================================================================================================\n",
      "Model:                            MixedLM               Dependent Variable:               treatment_pd\n",
      "No. Observations:                 27674                 Method:                           REML        \n",
      "No. Groups:                       849                   Scale:                            30692.2388  \n",
      "Min. group size:                  1                     Log-Likelihood:                   -182199.3187\n",
      "Max. group size:                  385                   Converged:                        No          \n",
      "Mean group size:                  32.6                                                                \n",
      "------------------------------------------------------------------------------------------------------\n",
      "                                                         Coef.  Std.Err.   z    P>|z|  [0.025   0.975]\n",
      "------------------------------------------------------------------------------------------------------\n",
      "Intercept                                               107.262   43.892  2.444 0.015   21.236 193.288\n",
      "metastatic_organ[T.axilla and upper limb lymph nodes]   -13.096   43.909 -0.298 0.766  -99.157  72.965\n",
      "metastatic_organ[T.bone]                                191.047   44.017  4.340 0.000  104.776 277.319\n",
      "metastatic_organ[T.brain]                               112.203   44.943  2.497 0.013   24.117 200.290\n",
      "metastatic_organ[T.inguinal and lower limb lymph nodes] 145.632   84.029  1.733 0.083  -19.061 310.325\n",
      "metastatic_organ[T.intestine]                           311.448   65.546  4.752 0.000  182.981 439.916\n",
      "metastatic_organ[T.intra-abdominal lymph nodes]          52.835   48.397  1.092 0.275  -42.021 147.692\n",
      "metastatic_organ[T.intrapelvic lymph nodes]             104.145  110.461  0.943 0.346 -112.355 320.645\n",
      "metastatic_organ[T.intrathoracic lymph nodes]            67.793   45.028  1.506 0.132  -20.462 156.047\n",
      "metastatic_organ[T.kidney and other urinary organs]     131.321   79.538  1.651 0.099  -24.572 287.213\n",
      "metastatic_organ[T.liver]                                95.577   44.246  2.160 0.031    8.856 182.298\n",
      "metastatic_organ[T.lung]                                109.058   44.222  2.466 0.014   22.384 195.732\n",
      "metastatic_organ[T.lymph node, unspecified]              22.406   44.182  0.507 0.612  -64.189 109.002\n",
      "metastatic_organ[T.lymph nodes of head, face and neck]   53.030   45.128  1.175 0.240  -35.420 141.479\n",
      "metastatic_organ[T.lymph nodes of multiple regions]      62.222   45.832  1.358 0.175  -27.608 152.052\n",
      "metastatic_organ[T.mediastinum]                         136.274   52.119  2.615 0.009   34.123 238.425\n",
      "metastatic_organ[T.ovary]                               194.103   60.322  3.218 0.001   75.874 312.331\n",
      "metastatic_organ[T.retroperitoneum and peritoneum]      101.699   49.393  2.059 0.039    4.890 198.507\n",
      "metastatic_organ[T.skin]                                109.107   45.411  2.403 0.016   20.103 198.111\n",
      "metastatic_organ[T.unspecified]                          37.974   44.100  0.861 0.389  -48.461 124.409\n",
      "metastatic_organ[T.unspecified digestive organ]          74.142   59.563  1.245 0.213  -42.600 190.884\n",
      "Group Var                                               154.832    0.300                              \n",
      "======================================================================================================\n",
      "\n",
      "cleaned_metastatic_first_treatment\n"
     ]
    },
    {
     "name": "stderr",
     "output_type": "stream",
     "text": [
      "/Users/thodsawit/anaconda3/envs/bmi212-wids/lib/python3.11/site-packages/statsmodels/base/model.py:607: ConvergenceWarning: Maximum Likelihood optimization failed to converge. Check mle_retvals\n",
      "  warnings.warn(\"Maximum Likelihood optimization failed to \"\n",
      "/Users/thodsawit/anaconda3/envs/bmi212-wids/lib/python3.11/site-packages/statsmodels/regression/mixed_linear_model.py:2201: ConvergenceWarning: Retrying MixedLM optimization with lbfgs\n",
      "  warnings.warn(\n"
     ]
    },
    {
     "name": "stdout",
     "output_type": "stream",
     "text": [
      "                                 Mixed Linear Model Regression Results\n",
      "=======================================================================================================\n",
      "Model:                           MixedLM                Dependent Variable:                treatment_pd\n",
      "No. Observations:                27674                  Method:                            REML        \n",
      "No. Groups:                      849                    Scale:                             26584.7283  \n",
      "Min. group size:                 1                      Log-Likelihood:                    -180146.3829\n",
      "Max. group size:                 385                    Converged:                         Yes         \n",
      "Mean group size:                 32.6                                                                  \n",
      "-------------------------------------------------------------------------------------------------------\n",
      "                                                        Coef.   Std.Err.   z    P>|z|  [0.025   0.975] \n",
      "-------------------------------------------------------------------------------------------------------\n",
      "Intercept                                               456.987   94.300  4.846 0.000  272.163  641.811\n",
      "cleaned_metastatic_first_treatment[T.BEVACIZUMAB]      -134.577   94.942 -1.417 0.156 -320.659   51.506\n",
      "cleaned_metastatic_first_treatment[T.BLEOMYCIN]         -35.209  149.084 -0.236 0.813 -327.409  256.991\n",
      "cleaned_metastatic_first_treatment[T.CAPECITABINE]     -100.051   94.388 -1.060 0.289 -285.047   84.946\n",
      "cleaned_metastatic_first_treatment[T.CARBOPLATIN]      -363.903   94.331 -3.858 0.000 -548.788 -179.017\n",
      "cleaned_metastatic_first_treatment[T.CISPLATIN]        -204.504   95.580 -2.140 0.032 -391.836  -17.171\n",
      "cleaned_metastatic_first_treatment[T.CYCLOPHOSPHAMIDE] -359.110   94.334 -3.807 0.000 -544.002 -174.217\n",
      "cleaned_metastatic_first_treatment[T.DOCETAXEL]        -325.640   94.411 -3.449 0.001 -510.683 -140.597\n",
      "cleaned_metastatic_first_treatment[T.DOXORUBICIN]      -381.247   94.314 -4.042 0.000 -566.099 -196.395\n",
      "cleaned_metastatic_first_treatment[T.EPIRUBICIN]       -201.146  124.730 -1.613 0.107 -445.613   43.321\n",
      "cleaned_metastatic_first_treatment[T.ERIBULIN]         -158.427   94.679 -1.673 0.094 -343.994   27.139\n",
      "cleaned_metastatic_first_treatment[T.ERLOTINIB]        -360.929  124.736 -2.894 0.004 -605.407 -116.451\n",
      "cleaned_metastatic_first_treatment[T.ETOPOSIDE]        -340.747  124.724 -2.732 0.006 -585.202  -96.292\n",
      "cleaned_metastatic_first_treatment[T.EVEROLIMUS]         12.054   94.575  0.127 0.899 -173.309  197.416\n",
      "cleaned_metastatic_first_treatment[T.GEMCITABINE]      -161.920   94.647 -1.711 0.087 -347.425   23.585\n",
      "cleaned_metastatic_first_treatment[T.IPILIMUMAB]       -337.389  133.355 -2.530 0.011 -598.760  -76.018\n",
      "cleaned_metastatic_first_treatment[T.IRINOTECAN]       -150.234  103.299 -1.454 0.146 -352.696   52.227\n",
      "cleaned_metastatic_first_treatment[T.IXABEPILONE]      -244.303   96.932 -2.520 0.012 -434.287  -54.319\n",
      "cleaned_metastatic_first_treatment[T.METHOTREXATE]     -186.215   94.896 -1.962 0.050 -372.209   -0.222\n",
      "cleaned_metastatic_first_treatment[T.NIRAPARIB]        -408.137  188.617 -2.164 0.030 -777.818  -38.455\n",
      "cleaned_metastatic_first_treatment[T.NIVOLUMAB]           7.357  103.909  0.071 0.944 -196.302  211.015\n",
      "cleaned_metastatic_first_treatment[T.PACLITAXEL]       -290.825   94.340 -3.083 0.002 -475.728 -105.921\n",
      "cleaned_metastatic_first_treatment[T.PAZOPANIB]        -227.903  133.345 -1.709 0.087 -489.255   33.448\n",
      "cleaned_metastatic_first_treatment[T.PEMETREXED]       -141.507  110.571 -1.280 0.201 -358.223   75.209\n",
      "cleaned_metastatic_first_treatment[T.RUCAPARIB]         521.021  188.567  2.763 0.006  151.438  890.605\n",
      "cleaned_metastatic_first_treatment[T.TALAZOPARIB]      -442.649  188.596 -2.347 0.019 -812.291  -73.007\n",
      "cleaned_metastatic_first_treatment[T.TEMOZOLOMIDE]      -85.276  106.382 -0.802 0.423 -293.782  123.229\n",
      "cleaned_metastatic_first_treatment[T.THALIDOMIDE]      -261.816  188.507 -1.389 0.165 -631.282  107.650\n",
      "cleaned_metastatic_first_treatment[T.TOPOTECAN]         147.731  133.338  1.108 0.268 -113.606  409.068\n",
      "cleaned_metastatic_first_treatment[T.VINORELBINE]      -130.798   94.909 -1.378 0.168 -316.817   55.221\n",
      "Group Var                                               102.258    0.231                               \n",
      "=======================================================================================================\n",
      "\n",
      "cleaned_metastatic_first_treatment_type\n"
     ]
    },
    {
     "name": "stderr",
     "output_type": "stream",
     "text": [
      "/Users/thodsawit/anaconda3/envs/bmi212-wids/lib/python3.11/site-packages/statsmodels/base/model.py:607: ConvergenceWarning: Maximum Likelihood optimization failed to converge. Check mle_retvals\n",
      "  warnings.warn(\"Maximum Likelihood optimization failed to \"\n",
      "/Users/thodsawit/anaconda3/envs/bmi212-wids/lib/python3.11/site-packages/statsmodels/regression/mixed_linear_model.py:2201: ConvergenceWarning: Retrying MixedLM optimization with lbfgs\n",
      "  warnings.warn(\n",
      "/Users/thodsawit/anaconda3/envs/bmi212-wids/lib/python3.11/site-packages/statsmodels/base/model.py:607: ConvergenceWarning: Maximum Likelihood optimization failed to converge. Check mle_retvals\n",
      "  warnings.warn(\"Maximum Likelihood optimization failed to \"\n",
      "/Users/thodsawit/anaconda3/envs/bmi212-wids/lib/python3.11/site-packages/statsmodels/regression/mixed_linear_model.py:2201: ConvergenceWarning: Retrying MixedLM optimization with cg\n",
      "  warnings.warn(\n",
      "/Users/thodsawit/anaconda3/envs/bmi212-wids/lib/python3.11/site-packages/statsmodels/base/model.py:607: ConvergenceWarning: Maximum Likelihood optimization failed to converge. Check mle_retvals\n",
      "  warnings.warn(\"Maximum Likelihood optimization failed to \"\n",
      "/Users/thodsawit/anaconda3/envs/bmi212-wids/lib/python3.11/site-packages/statsmodels/regression/mixed_linear_model.py:2207: ConvergenceWarning: MixedLM optimization failed, trying a different optimizer may help.\n",
      "  warnings.warn(msg, ConvergenceWarning)\n",
      "/Users/thodsawit/anaconda3/envs/bmi212-wids/lib/python3.11/site-packages/statsmodels/regression/mixed_linear_model.py:2219: ConvergenceWarning: Gradient optimization failed, |grad| = 117.288151\n",
      "  warnings.warn(msg, ConvergenceWarning)\n"
     ]
    },
    {
     "name": "stdout",
     "output_type": "stream",
     "text": [
      "                                      Mixed Linear Model Regression Results\n",
      "=================================================================================================================\n",
      "Model:                               MixedLM                   Dependent Variable:                   treatment_pd\n",
      "No. Observations:                    27674                     Method:                               REML        \n",
      "No. Groups:                          849                       Scale:                                32649.5921  \n",
      "Min. group size:                     1                         Log-Likelihood:                       -183126.2398\n",
      "Max. group size:                     385                       Converged:                            No          \n",
      "Mean group size:                     32.6                                                                        \n",
      "-----------------------------------------------------------------------------------------------------------------\n",
      "                                                                     Coef.  Std.Err.   z    P>|z|  [0.025  0.975]\n",
      "-----------------------------------------------------------------------------------------------------------------\n",
      "Intercept                                                           124.927    1.294 96.515 0.000 122.390 127.464\n",
      "cleaned_metastatic_first_treatment_type[T.monoclonal antibody]      204.251   11.736 17.403 0.000 181.248 227.254\n",
      "cleaned_metastatic_first_treatment_type[T.small molecule inhibitor] 338.474    7.972 42.460 0.000 322.850 354.098\n",
      "Group Var                                                           142.192    0.283                             \n",
      "=================================================================================================================\n",
      "\n",
      "Ozone\n"
     ]
    },
    {
     "name": "stderr",
     "output_type": "stream",
     "text": [
      "/Users/thodsawit/anaconda3/envs/bmi212-wids/lib/python3.11/site-packages/statsmodels/base/model.py:607: ConvergenceWarning: Maximum Likelihood optimization failed to converge. Check mle_retvals\n",
      "  warnings.warn(\"Maximum Likelihood optimization failed to \"\n",
      "/Users/thodsawit/anaconda3/envs/bmi212-wids/lib/python3.11/site-packages/statsmodels/regression/mixed_linear_model.py:2201: ConvergenceWarning: Retrying MixedLM optimization with lbfgs\n",
      "  warnings.warn(\n",
      "/Users/thodsawit/anaconda3/envs/bmi212-wids/lib/python3.11/site-packages/statsmodels/base/model.py:607: ConvergenceWarning: Maximum Likelihood optimization failed to converge. Check mle_retvals\n",
      "  warnings.warn(\"Maximum Likelihood optimization failed to \"\n",
      "/Users/thodsawit/anaconda3/envs/bmi212-wids/lib/python3.11/site-packages/statsmodels/regression/mixed_linear_model.py:2201: ConvergenceWarning: Retrying MixedLM optimization with cg\n",
      "  warnings.warn(\n",
      "/Users/thodsawit/anaconda3/envs/bmi212-wids/lib/python3.11/site-packages/statsmodels/base/model.py:607: ConvergenceWarning: Maximum Likelihood optimization failed to converge. Check mle_retvals\n",
      "  warnings.warn(\"Maximum Likelihood optimization failed to \"\n",
      "/Users/thodsawit/anaconda3/envs/bmi212-wids/lib/python3.11/site-packages/statsmodels/regression/mixed_linear_model.py:2207: ConvergenceWarning: MixedLM optimization failed, trying a different optimizer may help.\n",
      "  warnings.warn(msg, ConvergenceWarning)\n",
      "/Users/thodsawit/anaconda3/envs/bmi212-wids/lib/python3.11/site-packages/statsmodels/regression/mixed_linear_model.py:2219: ConvergenceWarning: Gradient optimization failed, |grad| = 432.642799\n",
      "  warnings.warn(msg, ConvergenceWarning)\n"
     ]
    },
    {
     "name": "stdout",
     "output_type": "stream",
     "text": [
      "          Mixed Linear Model Regression Results\n",
      "==========================================================\n",
      "Model:            MixedLM Dependent Variable: treatment_pd\n",
      "No. Observations: 25179   Method:             REML        \n",
      "No. Groups:       742     Scale:              34786.4535  \n",
      "Min. group size:  1       Log-Likelihood:     -167479.9014\n",
      "Max. group size:  385     Converged:          No          \n",
      "Mean group size:  33.9                                    \n",
      "-----------------------------------------------------------\n",
      "            Coef.   Std.Err.    z    P>|z|  [0.025   0.975]\n",
      "-----------------------------------------------------------\n",
      "Intercept   96.090    19.102  5.030  0.000  58.651  133.530\n",
      "Ozone        0.881     0.480  1.837  0.066  -0.059    1.821\n",
      "Group Var  410.531     0.708                               \n",
      "==========================================================\n",
      "\n",
      "PM25\n"
     ]
    },
    {
     "name": "stderr",
     "output_type": "stream",
     "text": [
      "/Users/thodsawit/anaconda3/envs/bmi212-wids/lib/python3.11/site-packages/statsmodels/base/model.py:607: ConvergenceWarning: Maximum Likelihood optimization failed to converge. Check mle_retvals\n",
      "  warnings.warn(\"Maximum Likelihood optimization failed to \"\n",
      "/Users/thodsawit/anaconda3/envs/bmi212-wids/lib/python3.11/site-packages/statsmodels/regression/mixed_linear_model.py:2201: ConvergenceWarning: Retrying MixedLM optimization with lbfgs\n",
      "  warnings.warn(\n"
     ]
    },
    {
     "name": "stdout",
     "output_type": "stream",
     "text": [
      "          Mixed Linear Model Regression Results\n",
      "==========================================================\n",
      "Model:            MixedLM Dependent Variable: treatment_pd\n",
      "No. Observations: 25179   Method:             REML        \n",
      "No. Groups:       742     Scale:              34802.3142  \n",
      "Min. group size:  1       Log-Likelihood:     -167478.8904\n",
      "Max. group size:  385     Converged:          Yes         \n",
      "Mean group size:  33.9                                    \n",
      "----------------------------------------------------------\n",
      "              Coef.  Std.Err.   z    P>|z|  [0.025  0.975]\n",
      "----------------------------------------------------------\n",
      "Intercept    125.121    7.745 16.156 0.000 109.942 140.301\n",
      "PM25           0.824    1.040  0.793 0.428  -1.213   2.862\n",
      "Group Var    381.522    0.638                             \n",
      "==========================================================\n",
      "\n",
      "N02\n"
     ]
    },
    {
     "name": "stderr",
     "output_type": "stream",
     "text": [
      "/Users/thodsawit/anaconda3/envs/bmi212-wids/lib/python3.11/site-packages/statsmodels/base/model.py:607: ConvergenceWarning: Maximum Likelihood optimization failed to converge. Check mle_retvals\n",
      "  warnings.warn(\"Maximum Likelihood optimization failed to \"\n",
      "/Users/thodsawit/anaconda3/envs/bmi212-wids/lib/python3.11/site-packages/statsmodels/regression/mixed_linear_model.py:2201: ConvergenceWarning: Retrying MixedLM optimization with lbfgs\n",
      "  warnings.warn(\n"
     ]
    },
    {
     "name": "stdout",
     "output_type": "stream",
     "text": [
      "          Mixed Linear Model Regression Results\n",
      "==========================================================\n",
      "Model:            MixedLM Dependent Variable: treatment_pd\n",
      "No. Observations: 25179   Method:             REML        \n",
      "No. Groups:       742     Scale:              34742.8987  \n",
      "Min. group size:  1       Log-Likelihood:     -167480.9829\n",
      "Max. group size:  385     Converged:          Yes         \n",
      "Mean group size:  33.9                                    \n",
      "----------------------------------------------------------\n",
      "              Coef.  Std.Err.   z    P>|z|  [0.025  0.975]\n",
      "----------------------------------------------------------\n",
      "Intercept    116.184    4.548 25.547 0.000 107.271 125.098\n",
      "N02            1.015    0.293  3.460 0.001   0.440   1.589\n",
      "Group Var    493.754    1.067                             \n",
      "==========================================================\n",
      "\n"
     ]
    }
   ],
   "source": [
    "for col in feature_cols:\n",
    "    print(col)\n",
    "    valid_df = df.loc[df['treatment_pd'].notna() & \\\n",
    "                    df[col].notna() & \\\n",
    "                    df['patient_zip3'].notna()].reset_index(drop=True)\n",
    "    md = smf.mixedlm(\"treatment_pd ~ \" + col, valid_df, groups=valid_df[\"patient_zip3\"])\n",
    "    mdf = md.fit()\n",
    "    print(mdf.summary())"
   ]
  },
  {
   "cell_type": "code",
   "execution_count": 16,
   "id": "00ac4177-b45d-4137-85ef-0073b963997e",
   "metadata": {
    "collapsed": true,
    "jupyter": {
     "outputs_hidden": true
    }
   },
   "outputs": [
    {
     "name": "stderr",
     "output_type": "stream",
     "text": [
      "/Users/thodsawit/anaconda3/envs/bmi212-wids/lib/python3.11/site-packages/statsmodels/base/model.py:607: ConvergenceWarning: Maximum Likelihood optimization failed to converge. Check mle_retvals\n",
      "  warnings.warn(\"Maximum Likelihood optimization failed to \"\n",
      "/Users/thodsawit/anaconda3/envs/bmi212-wids/lib/python3.11/site-packages/statsmodels/regression/mixed_linear_model.py:2201: ConvergenceWarning: Retrying MixedLM optimization with lbfgs\n",
      "  warnings.warn(\n",
      "/Users/thodsawit/anaconda3/envs/bmi212-wids/lib/python3.11/site-packages/statsmodels/base/model.py:607: ConvergenceWarning: Maximum Likelihood optimization failed to converge. Check mle_retvals\n",
      "  warnings.warn(\"Maximum Likelihood optimization failed to \"\n",
      "/Users/thodsawit/anaconda3/envs/bmi212-wids/lib/python3.11/site-packages/statsmodels/regression/mixed_linear_model.py:2201: ConvergenceWarning: Retrying MixedLM optimization with cg\n",
      "  warnings.warn(\n"
     ]
    },
    {
     "name": "stdout",
     "output_type": "stream",
     "text": [
      "                             Mixed Linear Model Regression Results\n",
      "================================================================================================\n",
      "Model:                          MixedLM             Dependent Variable:             treatment_pd\n",
      "No. Observations:               27674               Method:                         REML        \n",
      "No. Groups:                     849                 Scale:                          35026.6367  \n",
      "Min. group size:                1                   Log-Likelihood:                 -184089.7997\n",
      "Max. group size:                385                 Converged:                      No          \n",
      "Mean group size:                32.6                                                            \n",
      "------------------------------------------------------------------------------------------------\n",
      "                                                   Coef.  Std.Err.    z    P>|z|  [0.025  0.975]\n",
      "------------------------------------------------------------------------------------------------\n",
      "Intercept                                         132.281    1.309 101.049 0.000 129.715 134.846\n",
      "metastatic_first_novel_treatment[T.OLAPARIB]      142.297   17.367   8.194 0.000 108.259 176.335\n",
      "metastatic_first_novel_treatment[T.PEMBROLIZUMAB]  67.970   17.440   3.897 0.000  33.787 102.153\n",
      "Group Var                                         127.078    0.253                              \n",
      "================================================================================================\n",
      "\n"
     ]
    },
    {
     "name": "stderr",
     "output_type": "stream",
     "text": [
      "/Users/thodsawit/anaconda3/envs/bmi212-wids/lib/python3.11/site-packages/statsmodels/base/model.py:607: ConvergenceWarning: Maximum Likelihood optimization failed to converge. Check mle_retvals\n",
      "  warnings.warn(\"Maximum Likelihood optimization failed to \"\n",
      "/Users/thodsawit/anaconda3/envs/bmi212-wids/lib/python3.11/site-packages/statsmodels/regression/mixed_linear_model.py:2207: ConvergenceWarning: MixedLM optimization failed, trying a different optimizer may help.\n",
      "  warnings.warn(msg, ConvergenceWarning)\n",
      "/Users/thodsawit/anaconda3/envs/bmi212-wids/lib/python3.11/site-packages/statsmodels/regression/mixed_linear_model.py:2219: ConvergenceWarning: Gradient optimization failed, |grad| = 28.694711\n",
      "  warnings.warn(msg, ConvergenceWarning)\n"
     ]
    }
   ],
   "source": [
    "valid_df = df.loc[df['treatment_pd'].notna() & \\\n",
    "                df['patient_zip3'].notna()].reset_index(drop=True)\n",
    "valid_df.loc[valid_df['metastatic_first_novel_treatment'].isna(),'metastatic_first_novel_treatment'] = 'None'\n",
    "md = smf.mixedlm(\"treatment_pd ~ metastatic_first_novel_treatment\", valid_df, groups=valid_df[\"patient_zip3\"])\n",
    "mdf = md.fit()\n",
    "print(mdf.summary())"
   ]
  },
  {
   "cell_type": "markdown",
   "id": "2cb6d298-2ff4-4d2c-8710-fe612f9986a2",
   "metadata": {},
   "source": [
    "# Change reference category for Race and Quadrant"
   ]
  },
  {
   "cell_type": "code",
   "execution_count": 14,
   "id": "01474001-9128-4c30-a9cc-e8daa16bde99",
   "metadata": {},
   "outputs": [
    {
     "data": {
      "text/plain": [
       "array(['Asian', nan, 'Hispanic', 'White', 'Other', 'Black'], dtype=object)"
      ]
     },
     "execution_count": 14,
     "metadata": {},
     "output_type": "execute_result"
    }
   ],
   "source": [
    "df['patient_race'].unique()"
   ]
  },
  {
   "cell_type": "code",
   "execution_count": 16,
   "id": "c3b6281a-8357-4430-b0b7-8ca6c70d8bca",
   "metadata": {
    "collapsed": true,
    "jupyter": {
     "outputs_hidden": true
    }
   },
   "outputs": [
    {
     "name": "stdout",
     "output_type": "stream",
     "text": [
      "                Mixed Linear Model Regression Results\n",
      "======================================================================\n",
      "Model:                MixedLM     Dependent Variable:     treatment_pd\n",
      "No. Observations:     12522       Method:                 REML        \n",
      "No. Groups:           771         Scale:                  31521.9441  \n",
      "Min. group size:      1           Log-Likelihood:         -82636.2599 \n",
      "Max. group size:      193         Converged:              Yes         \n",
      "Mean group size:      16.2                                            \n",
      "----------------------------------------------------------------------\n",
      "                          Coef.  Std.Err.   z    P>|z|  [0.025  0.975]\n",
      "----------------------------------------------------------------------\n",
      "Intercept                129.653    2.373 54.639 0.000 125.002 134.304\n",
      "patient_race[T.Black]     10.906    4.397  2.480 0.013   2.287  19.525\n",
      "patient_race[T.Hispanic]  -2.867    5.127 -0.559 0.576 -12.915   7.182\n",
      "patient_race[T.Asian]     -4.813    7.262 -0.663 0.508 -19.047   9.421\n",
      "patient_race[T.Other]      4.500    5.006  0.899 0.369  -5.312  14.311\n",
      "Group Var                158.804    0.441                             \n",
      "======================================================================\n",
      "\n"
     ]
    }
   ],
   "source": [
    "valid_df = df.loc[df['treatment_pd'].notna() & \\\n",
    "                df['patient_zip3'].notna() & \\\n",
    "                df['patient_race'].notna()].copy().reset_index(drop=True)\n",
    "\n",
    "valid_df['patient_race'] = valid_df['patient_race'].astype('category')\n",
    "valid_df['patient_race'] = valid_df['patient_race'].cat.reorder_categories(['White', 'Black', 'Hispanic', 'Asian', 'Other'], \n",
    "                                                ordered=True)\n",
    "\n",
    "md = smf.mixedlm(\"treatment_pd ~ patient_race\", valid_df, groups=valid_df[\"patient_zip3\"])\n",
    "mdf = md.fit()\n",
    "print(mdf.summary())"
   ]
  },
  {
   "cell_type": "code",
   "execution_count": 17,
   "id": "7f6dd6c0-1385-47b6-98d1-f5b2b757d868",
   "metadata": {},
   "outputs": [
    {
     "data": {
      "text/plain": [
       "array(['overlap', 'UO', 'UI', 'unspecified', 'LI', 'central', 'nipple',\n",
       "       'LO', 'axillary tail'], dtype=object)"
      ]
     },
     "execution_count": 17,
     "metadata": {},
     "output_type": "execute_result"
    }
   ],
   "source": [
    "df['quadrant'].unique()"
   ]
  },
  {
   "cell_type": "code",
   "execution_count": 18,
   "id": "fa27dfac-74df-495a-a3b6-eb0661d34b5f",
   "metadata": {
    "collapsed": true,
    "jupyter": {
     "outputs_hidden": true
    }
   },
   "outputs": [
    {
     "name": "stderr",
     "output_type": "stream",
     "text": [
      "/Users/thodsawit/anaconda3/envs/bmi212-wids/lib/python3.11/site-packages/statsmodels/base/model.py:607: ConvergenceWarning: Maximum Likelihood optimization failed to converge. Check mle_retvals\n",
      "  warnings.warn(\"Maximum Likelihood optimization failed to \"\n",
      "/Users/thodsawit/anaconda3/envs/bmi212-wids/lib/python3.11/site-packages/statsmodels/regression/mixed_linear_model.py:2201: ConvergenceWarning: Retrying MixedLM optimization with lbfgs\n",
      "  warnings.warn(\n",
      "/Users/thodsawit/anaconda3/envs/bmi212-wids/lib/python3.11/site-packages/statsmodels/base/model.py:607: ConvergenceWarning: Maximum Likelihood optimization failed to converge. Check mle_retvals\n",
      "  warnings.warn(\"Maximum Likelihood optimization failed to \"\n",
      "/Users/thodsawit/anaconda3/envs/bmi212-wids/lib/python3.11/site-packages/statsmodels/regression/mixed_linear_model.py:2201: ConvergenceWarning: Retrying MixedLM optimization with cg\n",
      "  warnings.warn(\n",
      "/Users/thodsawit/anaconda3/envs/bmi212-wids/lib/python3.11/site-packages/statsmodels/base/model.py:607: ConvergenceWarning: Maximum Likelihood optimization failed to converge. Check mle_retvals\n",
      "  warnings.warn(\"Maximum Likelihood optimization failed to \"\n",
      "/Users/thodsawit/anaconda3/envs/bmi212-wids/lib/python3.11/site-packages/statsmodels/regression/mixed_linear_model.py:2207: ConvergenceWarning: MixedLM optimization failed, trying a different optimizer may help.\n",
      "  warnings.warn(msg, ConvergenceWarning)\n",
      "/Users/thodsawit/anaconda3/envs/bmi212-wids/lib/python3.11/site-packages/statsmodels/regression/mixed_linear_model.py:2219: ConvergenceWarning: Gradient optimization failed, |grad| = 28.325726\n",
      "  warnings.warn(msg, ConvergenceWarning)\n"
     ]
    },
    {
     "name": "stdout",
     "output_type": "stream",
     "text": [
      "                 Mixed Linear Model Regression Results\n",
      "=======================================================================\n",
      "Model:                 MixedLM     Dependent Variable:     treatment_pd\n",
      "No. Observations:      27674       Method:                 REML        \n",
      "No. Groups:            849         Scale:                  34127.9423  \n",
      "Min. group size:       1           Log-Likelihood:         -183701.8690\n",
      "Max. group size:       385         Converged:              No          \n",
      "Mean group size:       32.6                                            \n",
      "-----------------------------------------------------------------------\n",
      "                           Coef.  Std.Err.   z    P>|z|  [0.025  0.975]\n",
      "-----------------------------------------------------------------------\n",
      "Intercept                 106.514    2.470 43.119 0.000 101.672 111.356\n",
      "quadrant[T.UI]              3.554    5.024  0.707 0.479  -6.294  13.401\n",
      "quadrant[T.LO]             -5.353    5.845 -0.916 0.360 -16.809   6.103\n",
      "quadrant[T.LI]             -3.845    7.054 -0.545 0.586 -17.669   9.980\n",
      "quadrant[T.overlap]       -22.102    4.320 -5.116 0.000 -30.570 -13.635\n",
      "quadrant[T.central]        23.560    5.831  4.040 0.000  12.131  34.988\n",
      "quadrant[T.nipple]        -22.957    8.108 -2.831 0.005 -38.849  -7.064\n",
      "quadrant[T.axillary tail]  10.222   12.732  0.803 0.422 -14.731  35.176\n",
      "quadrant[T.unspecified]    59.201    2.895 20.451 0.000  53.527  64.875\n",
      "Group Var                  87.726    0.224                             \n",
      "=======================================================================\n",
      "\n"
     ]
    }
   ],
   "source": [
    "valid_df = df.loc[df['treatment_pd'].notna() & \\\n",
    "                df['patient_zip3'].notna() & \\\n",
    "                df['quadrant'].notna()].copy().reset_index(drop=True)\n",
    "\n",
    "valid_df['quadrant'] = valid_df['quadrant'].astype('category')\n",
    "valid_df['quadrant'] = valid_df['quadrant'].cat.reorder_categories(['UO', 'UI', 'LO', 'LI',\n",
    "                                                                   'overlap', 'central', 'nipple',\n",
    "                                                                   'axillary tail', 'unspecified'], \n",
    "                                                ordered=True)\n",
    "\n",
    "md = smf.mixedlm(\"treatment_pd ~ quadrant\", valid_df, groups=valid_df[\"patient_zip3\"])\n",
    "mdf = md.fit()\n",
    "print(mdf.summary())"
   ]
  },
  {
   "cell_type": "markdown",
   "id": "3699f85f-da7a-4ed5-b7d6-fb0356ca27bb",
   "metadata": {},
   "source": [
    "# Multivariable analysis"
   ]
  },
  {
   "cell_type": "code",
   "execution_count": 8,
   "id": "c7dab8d3-0891-481b-99cc-f750f2ea70ef",
   "metadata": {
    "collapsed": true,
    "jupyter": {
     "outputs_hidden": true
    }
   },
   "outputs": [
    {
     "name": "stdout",
     "output_type": "stream",
     "text": [
      "                                         Mixed Linear Model Regression Results\n",
      "========================================================================================================================\n",
      "Model:                                  MixedLM                     Dependent Variable:                     treatment_pd\n",
      "No. Observations:                       3632                        Method:                                 REML        \n",
      "No. Groups:                             563                         Scale:                                  22729.6160  \n",
      "Min. group size:                        1                           Log-Likelihood:                         -23302.8649 \n",
      "Max. group size:                        78                          Converged:                              Yes         \n",
      "Mean group size:                        6.5                                                                             \n",
      "------------------------------------------------------------------------------------------------------------------------\n",
      "                                                                      Coef.   Std.Err.    z    P>|z|   [0.025    0.975] \n",
      "------------------------------------------------------------------------------------------------------------------------\n",
      "Intercept                                                           74418.935 5549.245  13.411 0.000 63542.615 85295.256\n",
      "patient_race[T.Black]                                                   3.325   12.408   0.268 0.789   -20.995    27.646\n",
      "patient_race[T.Hispanic]                                               -9.996   12.445  -0.803 0.422   -34.387    14.395\n",
      "patient_race[T.Other]                                                  -2.711   12.741  -0.213 0.831   -27.682    22.260\n",
      "patient_race[T.White]                                                  -7.756   11.249  -0.689 0.491   -29.802    14.291\n",
      "payer_type[T.MEDICAID]                                                 19.321    5.817   3.322 0.001     7.921    30.722\n",
      "payer_type[T.MEDICARE ADVANTAGE]                                       29.925    8.700   3.440 0.001    12.873    46.976\n",
      "side[T.R]                                                              -4.082    5.737  -0.712 0.477   -15.328     7.163\n",
      "side[T.unspecified]                                                   115.303    7.600  15.172 0.000   100.408   130.198\n",
      "quadrant[T.LO]                                                          4.309   19.974   0.216 0.829   -34.840    43.457\n",
      "quadrant[T.UI]                                                          3.181   18.428   0.173 0.863   -32.937    39.299\n",
      "quadrant[T.UO]                                                          5.657   16.531   0.342 0.732   -26.744    38.057\n",
      "quadrant[T.axillary tail]                                             -17.734   30.979  -0.572 0.567   -78.451    42.984\n",
      "quadrant[T.central]                                                     7.376   19.258   0.383 0.702   -30.369    45.120\n",
      "quadrant[T.nipple]                                                      5.905   21.811   0.271 0.787   -36.844    48.654\n",
      "quadrant[T.overlap]                                                    -6.408   17.472  -0.367 0.714   -40.653    27.837\n",
      "quadrant[T.unspecified]                                                -3.243   16.130  -0.201 0.841   -34.858    28.372\n",
      "cleaned_metastatic_first_treatment_type[T.monoclonal antibody]        136.354   26.202   5.204 0.000    84.999   187.709\n",
      "cleaned_metastatic_first_treatment_type[T.small molecule inhibitor]   345.153   22.695  15.209 0.000   300.673   389.634\n",
      "patient_age                                                             0.572    0.263   2.173 0.030     0.056     1.087\n",
      "bmi                                                                    -0.150    0.455  -0.331 0.741    -1.042     0.741\n",
      "breast_cancer_diagnosis_year                                          -36.873    2.751 -13.403 0.000   -42.265   -31.481\n",
      "Group Var                                                              68.770    0.792                                  \n",
      "========================================================================================================================\n",
      "\n"
     ]
    }
   ],
   "source": [
    "cols = ['patient_race', 'payer_type', 'patient_age', 'bmi',\n",
    "       'breast_cancer_diagnosis_year', 'side', 'quadrant',\n",
    "       'cleaned_metastatic_first_treatment_type']\n",
    "\n",
    "valid_df = df.loc[df['treatment_pd'].notna() & \\\n",
    "                df['patient_zip3'].notna()].reset_index(drop=True)\n",
    "for col in cols:\n",
    "    valid_df = valid_df.loc[valid_df[col].notna()].reset_index(drop=True)\n",
    "\n",
    "md = smf.mixedlm(\"treatment_pd ~ \" + ' + '.join(cols), valid_df, groups=valid_df[\"patient_zip3\"])\n",
    "mdf = md.fit()\n",
    "print(mdf.summary())"
   ]
  },
  {
   "cell_type": "code",
   "execution_count": null,
   "id": "afb7a771-d2a7-4624-b289-38fed0a20d8c",
   "metadata": {},
   "outputs": [],
   "source": []
  }
 ],
 "metadata": {
  "kernelspec": {
   "display_name": "Python 3 (ipykernel)",
   "language": "python",
   "name": "python3"
  },
  "language_info": {
   "codemirror_mode": {
    "name": "ipython",
    "version": 3
   },
   "file_extension": ".py",
   "mimetype": "text/x-python",
   "name": "python",
   "nbconvert_exporter": "python",
   "pygments_lexer": "ipython3",
   "version": "3.11.5"
  }
 },
 "nbformat": 4,
 "nbformat_minor": 5
}
